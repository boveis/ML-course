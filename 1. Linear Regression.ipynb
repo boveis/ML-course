{
 "cells": [
  {
   "cell_type": "markdown",
   "id": "16adc323",
   "metadata": {},
   "source": [
    "<br><font face=\"Times New Roman\" size=5><div dir=ltr align=center>\n",
    "<font color=blue size=8>\n",
    "    Introduction to Machine Learning <br>\n",
    "<font color=red size=5>\n",
    "    Sharif University of Technology - Computer Engineering Department <br>\n",
    "    Fall 2022<br> <br>\n",
    "<font color=black size=6>\n",
    "    Homework 2: Practical - Linear Regression\n",
    "    </div>\n",
    "<br><br>\n",
    "<font size=4>\n",
    "   **Name**: <br>\n",
    "   **Student ID**: <br> <br>"
   ]
  },
  {
   "cell_type": "markdown",
   "id": "2585264a",
   "metadata": {},
   "source": [
    "<font face=\"Times New Roman\" size=4><div dir=ltr>\n",
    "# Problem 1: Linear Regression Model (40 + 30 optional points)\n",
    "According to <a href=\"https://github.com/asharifiz/Introduction_to_Machine_Learning/blob/main/Jupyter_Notebooks/Chapter_02_Classical_Models/Linear%20regression.ipynb\"><font face=\"Roboto\">Linear Regression Notebook</font></a>, train a linear regression model on an arbitrary dataset. Explain your chosen dataset and split your data into train and test sets, then predict values for the test set using your trained model. Try to find the best hyperparameters for your model. (Using Lasso Regression, Ridge Regression or Elastic Net and comparing them will have extra optional points)\n",
    "<br> Explain each step of your workflow."
   ]
  },
  {
   "cell_type": "code",
   "execution_count": 39,
   "id": "1259b617",
   "metadata": {},
   "outputs": [],
   "source": [
    "import numpy as np\n",
    "import pandas as pd\n",
    "import matplotlib.pyplot as plt\n",
    "import seaborn as sns\n",
    "from sklearn import linear_model\n",
    "from sklearn.metrics import mean_squared_error"
   ]
  },
  {
   "cell_type": "code",
   "execution_count": 3,
   "id": "5aeba746",
   "metadata": {},
   "outputs": [
    {
     "data": {
      "text/html": [
       "<div>\n",
       "<style scoped>\n",
       "    .dataframe tbody tr th:only-of-type {\n",
       "        vertical-align: middle;\n",
       "    }\n",
       "\n",
       "    .dataframe tbody tr th {\n",
       "        vertical-align: top;\n",
       "    }\n",
       "\n",
       "    .dataframe thead th {\n",
       "        text-align: right;\n",
       "    }\n",
       "</style>\n",
       "<table border=\"1\" class=\"dataframe\">\n",
       "  <thead>\n",
       "    <tr style=\"text-align: right;\">\n",
       "      <th></th>\n",
       "      <th>X1 transaction date</th>\n",
       "      <th>X2 house age</th>\n",
       "      <th>X3 distance to the nearest MRT station</th>\n",
       "      <th>X4 number of convenience stores</th>\n",
       "      <th>X5 latitude</th>\n",
       "      <th>X6 longitude</th>\n",
       "      <th>Y house price of unit area</th>\n",
       "    </tr>\n",
       "    <tr>\n",
       "      <th>No</th>\n",
       "      <th></th>\n",
       "      <th></th>\n",
       "      <th></th>\n",
       "      <th></th>\n",
       "      <th></th>\n",
       "      <th></th>\n",
       "      <th></th>\n",
       "    </tr>\n",
       "  </thead>\n",
       "  <tbody>\n",
       "    <tr>\n",
       "      <th>1</th>\n",
       "      <td>2012.917</td>\n",
       "      <td>32.0</td>\n",
       "      <td>84.87882</td>\n",
       "      <td>10</td>\n",
       "      <td>24.98298</td>\n",
       "      <td>121.54024</td>\n",
       "      <td>37.9</td>\n",
       "    </tr>\n",
       "    <tr>\n",
       "      <th>2</th>\n",
       "      <td>2012.917</td>\n",
       "      <td>19.5</td>\n",
       "      <td>306.59470</td>\n",
       "      <td>9</td>\n",
       "      <td>24.98034</td>\n",
       "      <td>121.53951</td>\n",
       "      <td>42.2</td>\n",
       "    </tr>\n",
       "    <tr>\n",
       "      <th>3</th>\n",
       "      <td>2013.583</td>\n",
       "      <td>13.3</td>\n",
       "      <td>561.98450</td>\n",
       "      <td>5</td>\n",
       "      <td>24.98746</td>\n",
       "      <td>121.54391</td>\n",
       "      <td>47.3</td>\n",
       "    </tr>\n",
       "    <tr>\n",
       "      <th>4</th>\n",
       "      <td>2013.500</td>\n",
       "      <td>13.3</td>\n",
       "      <td>561.98450</td>\n",
       "      <td>5</td>\n",
       "      <td>24.98746</td>\n",
       "      <td>121.54391</td>\n",
       "      <td>54.8</td>\n",
       "    </tr>\n",
       "    <tr>\n",
       "      <th>5</th>\n",
       "      <td>2012.833</td>\n",
       "      <td>5.0</td>\n",
       "      <td>390.56840</td>\n",
       "      <td>5</td>\n",
       "      <td>24.97937</td>\n",
       "      <td>121.54245</td>\n",
       "      <td>43.1</td>\n",
       "    </tr>\n",
       "  </tbody>\n",
       "</table>\n",
       "</div>"
      ],
      "text/plain": [
       "    X1 transaction date  X2 house age  X3 distance to the nearest MRT station  \\\n",
       "No                                                                              \n",
       "1              2012.917          32.0                                84.87882   \n",
       "2              2012.917          19.5                               306.59470   \n",
       "3              2013.583          13.3                               561.98450   \n",
       "4              2013.500          13.3                               561.98450   \n",
       "5              2012.833           5.0                               390.56840   \n",
       "\n",
       "    X4 number of convenience stores  X5 latitude  X6 longitude  \\\n",
       "No                                                               \n",
       "1                                10     24.98298     121.54024   \n",
       "2                                 9     24.98034     121.53951   \n",
       "3                                 5     24.98746     121.54391   \n",
       "4                                 5     24.98746     121.54391   \n",
       "5                                 5     24.97937     121.54245   \n",
       "\n",
       "    Y house price of unit area  \n",
       "No                              \n",
       "1                         37.9  \n",
       "2                         42.2  \n",
       "3                         47.3  \n",
       "4                         54.8  \n",
       "5                         43.1  "
      ]
     },
     "execution_count": 3,
     "metadata": {},
     "output_type": "execute_result"
    }
   ],
   "source": [
    "#we want to study the influence of distance to the nearest MRT station on house's price\n",
    "data_frame = pd.read_csv('Real_estate.csv', index_col=0)\n",
    "N = len(data_frame)\n",
    "data_frame.head()"
   ]
  },
  {
   "cell_type": "code",
   "execution_count": 11,
   "id": "1952c75b",
   "metadata": {},
   "outputs": [
    {
     "data": {
      "text/html": [
       "<div>\n",
       "<style scoped>\n",
       "    .dataframe tbody tr th:only-of-type {\n",
       "        vertical-align: middle;\n",
       "    }\n",
       "\n",
       "    .dataframe tbody tr th {\n",
       "        vertical-align: top;\n",
       "    }\n",
       "\n",
       "    .dataframe thead th {\n",
       "        text-align: right;\n",
       "    }\n",
       "</style>\n",
       "<table border=\"1\" class=\"dataframe\">\n",
       "  <thead>\n",
       "    <tr style=\"text-align: right;\">\n",
       "      <th></th>\n",
       "      <th>distance</th>\n",
       "      <th>age</th>\n",
       "      <th>n_stores</th>\n",
       "      <th>price</th>\n",
       "    </tr>\n",
       "    <tr>\n",
       "      <th>No</th>\n",
       "      <th></th>\n",
       "      <th></th>\n",
       "      <th></th>\n",
       "      <th></th>\n",
       "    </tr>\n",
       "  </thead>\n",
       "  <tbody>\n",
       "    <tr>\n",
       "      <th>1</th>\n",
       "      <td>84.87882</td>\n",
       "      <td>32.0</td>\n",
       "      <td>10</td>\n",
       "      <td>37.9</td>\n",
       "    </tr>\n",
       "    <tr>\n",
       "      <th>2</th>\n",
       "      <td>306.59470</td>\n",
       "      <td>19.5</td>\n",
       "      <td>9</td>\n",
       "      <td>42.2</td>\n",
       "    </tr>\n",
       "    <tr>\n",
       "      <th>3</th>\n",
       "      <td>561.98450</td>\n",
       "      <td>13.3</td>\n",
       "      <td>5</td>\n",
       "      <td>47.3</td>\n",
       "    </tr>\n",
       "    <tr>\n",
       "      <th>4</th>\n",
       "      <td>561.98450</td>\n",
       "      <td>13.3</td>\n",
       "      <td>5</td>\n",
       "      <td>54.8</td>\n",
       "    </tr>\n",
       "    <tr>\n",
       "      <th>5</th>\n",
       "      <td>390.56840</td>\n",
       "      <td>5.0</td>\n",
       "      <td>5</td>\n",
       "      <td>43.1</td>\n",
       "    </tr>\n",
       "  </tbody>\n",
       "</table>\n",
       "</div>"
      ],
      "text/plain": [
       "     distance   age  n_stores  price\n",
       "No                                  \n",
       "1    84.87882  32.0        10   37.9\n",
       "2   306.59470  19.5         9   42.2\n",
       "3   561.98450  13.3         5   47.3\n",
       "4   561.98450  13.3         5   54.8\n",
       "5   390.56840   5.0         5   43.1"
      ]
     },
     "execution_count": 11,
     "metadata": {},
     "output_type": "execute_result"
    }
   ],
   "source": [
    "#choose only distance, age and convenience stores and price column of this dataframe\n",
    "df = data_frame[[\"X3 distance to the nearest MRT station\",\"X2 house age\",\"X4 number of convenience stores\", \"Y house price of unit area\"]] \\\n",
    "  .rename(columns ={\"X3 distance to the nearest MRT station\":\"distance\", \"Y house price of unit area\":\"price\" \\\n",
    "      ,\"X2 house age\":\"age\", \"X4 number of convenience stores\":\"n_stores\"\n",
    "      })\n",
    "df.head()"
   ]
  },
  {
   "cell_type": "code",
   "execution_count": 12,
   "id": "7edfe043",
   "metadata": {},
   "outputs": [
    {
     "data": {
      "text/plain": [
       "<seaborn.axisgrid.FacetGrid at 0x27861747250>"
      ]
     },
     "execution_count": 12,
     "metadata": {},
     "output_type": "execute_result"
    },
    {
     "data": {
      "image/png": "[encoded data removed]",
      "text/plain": [
       "<Figure size 360x360 with 1 Axes>"
      ]
     },
     "metadata": {
      "needs_background": "light"
     },
     "output_type": "display_data"
    }
   ],
   "source": [
    "sns.lmplot(x =\"age\", y =\"price\", data = df, order = 2, ci = None)"
   ]
  },
  {
   "cell_type": "code",
   "execution_count": 13,
   "id": "f1b7bda7",
   "metadata": {},
   "outputs": [],
   "source": [
    "X = df.iloc[:, :-1].to_numpy()\n",
    "Y = df.iloc[:, -1:].to_numpy()"
   ]
  },
  {
   "cell_type": "code",
   "execution_count": 15,
   "id": "df78c7a7",
   "metadata": {},
   "outputs": [],
   "source": [
    "#divide date to test and train (20% for test) \n",
    "fraction = 0.8\n",
    "train_size = int(fraction*N)\n",
    "X_train = X[:train_size]\n",
    "Y_train = Y[:train_size]\n",
    "X_test = X[train_size:]\n",
    "Y_test = Y[train_size:]"
   ]
  },
  {
   "cell_type": "code",
   "execution_count": 40,
   "id": "04ef5a51",
   "metadata": {},
   "outputs": [
    {
     "name": "stdout",
     "output_type": "stream",
     "text": [
      "Mean squared Error on test set :  62.139360768299376\n"
     ]
    }
   ],
   "source": [
    "#fit linear regression\n",
    "from sklearn.metrics import mean_squared_error\n",
    "regr = linear_model.LinearRegression()\n",
    "regr.fit(X_train, Y_train)\n",
    "Y_predict_reg = regr.predict(X_test)\n",
    "\n",
    "# The mean squared error\n",
    "print(\"Mean squared Error on test set : \", mean_squared_error(Y_test, Y_predict_reg))\n"
   ]
  },
  {
   "cell_type": "code",
   "execution_count": 42,
   "id": "a24a6583",
   "metadata": {},
   "outputs": [
    {
     "name": "stdout",
     "output_type": "stream",
     "text": [
      "Mean squared Error on test set :  62.139360768299376\n"
     ]
    },
    {
     "name": "stderr",
     "output_type": "stream",
     "text": [
      "C:\\Users\\B.OVEIS\\AppData\\Local\\Programs\\Python\\Python39\\lib\\site-packages\\sklearn\\linear_model\\_base.py:141: FutureWarning: 'normalize' was deprecated in version 1.0 and will be removed in 1.2.\n",
      "If you wish to scale the data, use Pipeline with a StandardScaler in a preprocessing stage. To reproduce the previous behavior:\n",
      "\n",
      "from sklearn.pipeline import make_pipeline\n",
      "\n",
      "model = make_pipeline(StandardScaler(with_mean=False), LinearRegression())\n",
      "\n",
      "If you wish to pass a sample_weight parameter, you need to pass it as a fit parameter to each step of the pipeline as follows:\n",
      "\n",
      "kwargs = {s[0] + '__sample_weight': sample_weight for s in model.steps}\n",
      "model.fit(X, y, **kwargs)\n",
      "\n",
      "\n",
      "  warnings.warn(\n"
     ]
    }
   ],
   "source": [
    "#use linear regression in normalized data\n",
    "\n",
    "regr = linear_model.LinearRegression(normalize=True)\n",
    "regr.fit(X_train, Y_train)\n",
    "Y_predict_reg = regr.predict(X_test)\n",
    "\n",
    "# The mean squared error\n",
    "print(\"Mean squared Error on test set : \", mean_squared_error(Y_test, Y_predict_reg))\n"
   ]
  },
  {
   "cell_type": "markdown",
   "id": "0024afba",
   "metadata": {},
   "source": [
    "we find that there's no difference in error in normalizing data. "
   ]
  },
  {
   "cell_type": "code",
   "execution_count": 54,
   "id": "cda29624",
   "metadata": {},
   "outputs": [
    {
     "name": "stdout",
     "output_type": "stream",
     "text": [
      "Mean squared Error on test set (alpha = 0.1):  62.13914386044549\n",
      "Mean squared Error on test set (alpha = 1):  62.13719586412624\n",
      "Mean squared Error on test set (alpha = 10):  62.11812507708798\n",
      "Mean squared Error on test set (alpha = 0.01):  62.13933907333552\n"
     ]
    }
   ],
   "source": [
    "#use Ridge loss and ridge model \n",
    "from sklearn.linear_model import Ridge\n",
    "\n",
    "ridge_regr = Ridge(alpha = 0.1)\n",
    "ridge_regr.fit(X_train, Y_train)\n",
    "Y_predict_ridge = ridge_regr.predict(X_test)\n",
    " \n",
    "# calculate mean square error\n",
    "print(\"Mean squared Error on test set (alpha = 0.1): \", mean_squared_error(Y_test, Y_predict_ridge)) \n",
    "\n",
    "ridge_regr = Ridge(alpha = 1)\n",
    "ridge_regr.fit(X_train, Y_train)\n",
    "Y_predict_ridge = ridge_regr.predict(X_test)\n",
    " \n",
    "# calculate mean square error\n",
    "print(\"Mean squared Error on test set (alpha = 1): \", mean_squared_error(Y_test, Y_predict_ridge)) \n",
    "\n",
    "ridge_regr = Ridge(alpha = 10)\n",
    "ridge_regr.fit(X_train, Y_train)\n",
    "Y_predict_ridge = ridge_regr.predict(X_test)\n",
    " \n",
    "# calculate mean square error\n",
    "print(\"Mean squared Error on test set (alpha = 10): \", mean_squared_error(Y_test, Y_predict_ridge)) \n",
    "\n",
    "ridge_regr = Ridge(alpha = 0.01)\n",
    "ridge_regr.fit(X_train, Y_train)\n",
    "Y_predict_ridge = ridge_regr.predict(X_test)\n",
    " \n",
    "# calculate mean square error\n",
    "print(\"Mean squared Error on test set (alpha = 0.01): \", mean_squared_error(Y_test, Y_predict_ridge)) \n"
   ]
  },
  {
   "cell_type": "markdown",
   "id": "905a2122",
   "metadata": {},
   "source": [
    "we see that bigger alpha make MSE smaller and model work a little better than linear-reg"
   ]
  },
  {
   "cell_type": "code",
   "execution_count": 52,
   "id": "52f3bd84",
   "metadata": {},
   "outputs": [
    {
     "name": "stdout",
     "output_type": "stream",
     "text": [
      "Mean squared error on test set(alpha = 1) 61.656408003929386\n",
      "Mean squared error on test set(alpha = 10) 67.40063031491438\n",
      "Mean squared error on test set(alpha = 0.1) 62.07225845929922\n",
      "Mean squared error on test set(alpha = 0.01) 62.1324590985867\n"
     ]
    }
   ],
   "source": [
    "from sklearn.linear_model import Lasso\n",
    " \n",
    "# Train the model\n",
    "lasso_regr = Lasso(alpha = 1)\n",
    "lasso_regr.fit(X_train, Y_train)\n",
    "Y_predict_lasso = lasso_regr.predict(X_test)\n",
    "\n",
    "print(\"Mean squared error on test set(alpha = 1)\", mean_squared_error(Y_test,Y_predict_lasso))\n",
    "\n",
    "\n",
    "lasso_regr = Lasso(alpha = 10)\n",
    "lasso_regr.fit(X_train, Y_train)\n",
    "Y_predict_lasso = lasso_regr.predict(X_test)\n",
    "\n",
    "print(\"Mean squared error on test set(alpha = 10)\", mean_squared_error(Y_test,Y_predict_lasso))\n",
    "\n",
    "\n",
    "lasso_regr = Lasso(alpha = 0.1)\n",
    "lasso_regr.fit(X_train, Y_train)\n",
    "Y_predict_lasso = lasso_regr.predict(X_test)\n",
    "\n",
    "print(\"Mean squared error on test set(alpha = 0.1)\", mean_squared_error(Y_test,Y_predict_lasso))\n",
    "\n",
    "\n",
    "lasso_regr = Lasso(alpha = 0.01)\n",
    "lasso_regr.fit(X_train, Y_train)\n",
    "Y_predict_lasso = lasso_regr.predict(X_test)\n",
    "\n",
    "print(\"Mean squared error on test set(alpha = 0.01)\", mean_squared_error(Y_test,Y_predict_lasso))"
   ]
  },
  {
   "cell_type": "markdown",
   "id": "8a5d2bb9",
   "metadata": {},
   "source": [
    "best alpha for lasso_reg is 1 and as we make alpha smaller, it make lasso model close to linear"
   ]
  },
  {
   "cell_type": "code",
   "execution_count": 56,
   "id": "b67d346e",
   "metadata": {},
   "outputs": [
    {
     "name": "stdout",
     "output_type": "stream",
     "text": [
      "Mean Squared Error on test set(alpha = 1) 61.72486378689951\n",
      "Mean Squared Error on test set(alpha = 0.1) 62.07219096957181\n",
      "Mean Squared Error on test set(alpha = 0.01) 62.132344726434404\n",
      "Mean Squared Error on test set(alpha = 10) 65.5676111960834\n"
     ]
    }
   ],
   "source": [
    "from sklearn.linear_model import ElasticNet\n",
    " \n",
    "# Train the model\n",
    "e_net = ElasticNet(alpha = 1)\n",
    "e_net.fit(X_train, Y_train)\n",
    "Y_predict_elastic = e_net.predict(X_test)\n",
    "\n",
    "print(\"Mean Squared Error on test set(alpha = 1)\", mean_squared_error(Y_test, Y_predict_elastic))\n",
    "\n",
    "e_net = ElasticNet(alpha = 0.1)\n",
    "e_net.fit(X_train, Y_train)\n",
    "Y_predict_elastic = e_net.predict(X_test)\n",
    "\n",
    "print(\"Mean Squared Error on test set(alpha = 0.1)\", mean_squared_error(Y_test, Y_predict_elastic))\n",
    "\n",
    "\n",
    "e_net = ElasticNet(alpha = 0.01)\n",
    "e_net.fit(X_train, Y_train)\n",
    "Y_predict_elastic = e_net.predict(X_test)\n",
    "\n",
    "print(\"Mean Squared Error on test set(alpha = 0.01)\", mean_squared_error(Y_test, Y_predict_elastic))\n",
    "\n",
    "\n",
    "e_net = ElasticNet(alpha = 10)\n",
    "e_net.fit(X_train, Y_train)\n",
    "Y_predict_elastic = e_net.predict(X_test)\n",
    "\n",
    "print(\"Mean Squared Error on test set(alpha = 10)\", mean_squared_error(Y_test, Y_predict_elastic))\n"
   ]
  },
  {
   "cell_type": "markdown",
   "id": "07f56753",
   "metadata": {},
   "source": [
    "this model with alpha=1 work better than linear regression and have smaller MSE"
   ]
  }
 ],
 "metadata": {
  "kernelspec": {
   "display_name": "Python 3 (ipykernel)",
   "language": "python",
   "name": "python3"
  },
  "language_info": {
   "codemirror_mode": {
    "name": "ipython",
    "version": 3
   },
   "file_extension": ".py",
   "mimetype": "text/x-python",
   "name": "python",
   "nbconvert_exporter": "python",
   "pygments_lexer": "ipython3",
   "version": "3.9.6"
  }
 },
 "nbformat": 4,
 "nbformat_minor": 5
}

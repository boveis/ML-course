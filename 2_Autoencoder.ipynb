{
  "cells": [
    {
      "cell_type": "markdown",
      "metadata": {
        "id": "rGI7gMXb8QsR"
      },
      "source": [
        "<img src='http://www-scf.usc.edu/~ghasemig/images/sharif.png' alt=\"SUT logo\" width=200 height=200 align=left class=\"saturate\" >\n",
        "\n",
        "<br>\n",
        "<font face=\"Times New Roman\">\n",
        "<div dir=ltr align=center>\n",
        "<font color=0F5298 size=7>\n",
        "    Introduction to Machine Learning <br>\n",
        "<font color=2565AE size=5>\n",
        "    Computer Engineering Department <br>\n",
        "    Fall 2022<br>\n",
        "<font color=3C99D size=5>\n",
        "    Homework 3: Practical - Neural Network <br>\n",
        "<font color=696880 size=4>\n",
        "    Alireza Belal\n",
        "    \n",
        "    \n",
        "____\n"
      ]
    },
    {
      "cell_type": "code",
      "source": [],
      "metadata": {
        "id": "ltehOZJO8Rde"
      },
      "execution_count": 9,
      "outputs": []
    },
    {
      "cell_type": "markdown",
      "metadata": {
        "id": "RVHzsAdz8QsU"
      },
      "source": [
        "### Full Name : Bahar Oveisgharan\n",
        "### Student Number : 98106242\n",
        "___"
      ]
    },
    {
      "cell_type": "markdown",
      "metadata": {
        "id": "auwc5pZ_8QsV"
      },
      "source": [
        "# Setup"
      ]
    },
    {
      "cell_type": "markdown",
      "metadata": {
        "id": "71KSyeDS8QsW"
      },
      "source": [
        "# 0. Preparation\n",
        "\n",
        "In this part, you will use a dataset related to COVID-19. Load your dataset using pandas."
      ]
    },
    {
      "cell_type": "code",
      "execution_count": 10,
      "metadata": {
        "id": "7j4DuzbR8QsX"
      },
      "outputs": [],
      "source": [
        "import pandas as pd\n",
        "from sklearn.preprocessing import LabelEncoder\n",
        "covid_data = pd.read_csv('Covid Dataset.csv')\n",
        "categorical_feature_mask = covid_data.dtypes == object\n",
        "cateforical_cols = covid_data.columns[categorical_feature_mask].tolist()\n",
        "le = LabelEncoder()\n",
        "covid_data[cateforical_cols] = covid_data[cateforical_cols].apply(lambda col: le.fit_transform(col))\n",
        "covid_data = covid_data.astype(float)\n",
        "\n",
        "# Extract X and Y from the dataset\n",
        "X_total = covid_data.iloc[:, 0:20].values\n",
        "y_total = covid_data.iloc[:,20].values\n",
        "\n",
        "\n",
        "#SPLIT THE DATA INTO TRAIN AND TEST DATA \n",
        "from sklearn.model_selection import train_test_split\n",
        "X_train, X_test, y_train, y_test = train_test_split(X_total, y_total, test_size = 0.3, random_state = 0)"
      ]
    },
    {
      "cell_type": "code",
      "source": [
        "covid_data.head()"
      ],
      "metadata": {
        "colab": {
          "base_uri": "https://localhost:8080/",
          "height": 386
        },
        "id": "9nOtPYDxI1hR",
        "outputId": "8b631d84-ce93-40ae-c785-ce3f38814103"
      },
      "execution_count": 11,
      "outputs": [
        {
          "output_type": "execute_result",
          "data": {
            "text/plain": [
              "   Breathing Problem  Fever  Dry Cough  Sore throat  Running Nose  Asthma  \\\n",
              "0                1.0    1.0        1.0          1.0           1.0     0.0   \n",
              "1                1.0    1.0        1.0          1.0           0.0     1.0   \n",
              "2                1.0    1.0        1.0          1.0           1.0     1.0   \n",
              "3                1.0    1.0        1.0          0.0           0.0     1.0   \n",
              "4                1.0    1.0        1.0          1.0           1.0     0.0   \n",
              "\n",
              "   Chronic Lung Disease  Headache  Heart Disease  Diabetes  ...  Fatigue   \\\n",
              "0                   0.0       0.0            0.0       1.0  ...       1.0   \n",
              "1                   1.0       1.0            0.0       0.0  ...       1.0   \n",
              "2                   1.0       1.0            0.0       1.0  ...       1.0   \n",
              "3                   0.0       0.0            1.0       1.0  ...       0.0   \n",
              "4                   1.0       1.0            1.0       1.0  ...       0.0   \n",
              "\n",
              "   Gastrointestinal   Abroad travel  Contact with COVID Patient  \\\n",
              "0                1.0            0.0                         1.0   \n",
              "1                0.0            0.0                         0.0   \n",
              "2                1.0            1.0                         0.0   \n",
              "3                0.0            1.0                         0.0   \n",
              "4                1.0            0.0                         1.0   \n",
              "\n",
              "   Attended Large Gathering  Visited Public Exposed Places  \\\n",
              "0                       0.0                            1.0   \n",
              "1                       1.0                            1.0   \n",
              "2                       0.0                            0.0   \n",
              "3                       1.0                            1.0   \n",
              "4                       0.0                            1.0   \n",
              "\n",
              "   Family working in Public Exposed Places  Wearing Masks  \\\n",
              "0                                      1.0            0.0   \n",
              "1                                      0.0            0.0   \n",
              "2                                      0.0            0.0   \n",
              "3                                      0.0            0.0   \n",
              "4                                      0.0            0.0   \n",
              "\n",
              "   Sanitization from Market  COVID-19  \n",
              "0                       0.0       1.0  \n",
              "1                       0.0       1.0  \n",
              "2                       0.0       1.0  \n",
              "3                       0.0       1.0  \n",
              "4                       0.0       1.0  \n",
              "\n",
              "[5 rows x 21 columns]"
            ],
            "text/html": [
              "\n",
              "  <div id=\"df-ae7b253d-7170-48c5-8ce0-e889c0ace669\">\n",
              "    <div class=\"colab-df-container\">\n",
              "      <div>\n",
              "<style scoped>\n",
              "    .dataframe tbody tr th:only-of-type {\n",
              "        vertical-align: middle;\n",
              "    }\n",
              "\n",
              "    .dataframe tbody tr th {\n",
              "        vertical-align: top;\n",
              "    }\n",
              "\n",
              "    .dataframe thead th {\n",
              "        text-align: right;\n",
              "    }\n",
              "</style>\n",
              "<table border=\"1\" class=\"dataframe\">\n",
              "  <thead>\n",
              "    <tr style=\"text-align: right;\">\n",
              "      <th></th>\n",
              "      <th>Breathing Problem</th>\n",
              "      <th>Fever</th>\n",
              "      <th>Dry Cough</th>\n",
              "      <th>Sore throat</th>\n",
              "      <th>Running Nose</th>\n",
              "      <th>Asthma</th>\n",
              "      <th>Chronic Lung Disease</th>\n",
              "      <th>Headache</th>\n",
              "      <th>Heart Disease</th>\n",
              "      <th>Diabetes</th>\n",
              "      <th>...</th>\n",
              "      <th>Fatigue</th>\n",
              "      <th>Gastrointestinal</th>\n",
              "      <th>Abroad travel</th>\n",
              "      <th>Contact with COVID Patient</th>\n",
              "      <th>Attended Large Gathering</th>\n",
              "      <th>Visited Public Exposed Places</th>\n",
              "      <th>Family working in Public Exposed Places</th>\n",
              "      <th>Wearing Masks</th>\n",
              "      <th>Sanitization from Market</th>\n",
              "      <th>COVID-19</th>\n",
              "    </tr>\n",
              "  </thead>\n",
              "  <tbody>\n",
              "    <tr>\n",
              "      <th>0</th>\n",
              "      <td>1.0</td>\n",
              "      <td>1.0</td>\n",
              "      <td>1.0</td>\n",
              "      <td>1.0</td>\n",
              "      <td>1.0</td>\n",
              "      <td>0.0</td>\n",
              "      <td>0.0</td>\n",
              "      <td>0.0</td>\n",
              "      <td>0.0</td>\n",
              "      <td>1.0</td>\n",
              "      <td>...</td>\n",
              "      <td>1.0</td>\n",
              "      <td>1.0</td>\n",
              "      <td>0.0</td>\n",
              "      <td>1.0</td>\n",
              "      <td>0.0</td>\n",
              "      <td>1.0</td>\n",
              "      <td>1.0</td>\n",
              "      <td>0.0</td>\n",
              "      <td>0.0</td>\n",
              "      <td>1.0</td>\n",
              "    </tr>\n",
              "    <tr>\n",
              "      <th>1</th>\n",
              "      <td>1.0</td>\n",
              "      <td>1.0</td>\n",
              "      <td>1.0</td>\n",
              "      <td>1.0</td>\n",
              "      <td>0.0</td>\n",
              "      <td>1.0</td>\n",
              "      <td>1.0</td>\n",
              "      <td>1.0</td>\n",
              "      <td>0.0</td>\n",
              "      <td>0.0</td>\n",
              "      <td>...</td>\n",
              "      <td>1.0</td>\n",
              "      <td>0.0</td>\n",
              "      <td>0.0</td>\n",
              "      <td>0.0</td>\n",
              "      <td>1.0</td>\n",
              "      <td>1.0</td>\n",
              "      <td>0.0</td>\n",
              "      <td>0.0</td>\n",
              "      <td>0.0</td>\n",
              "      <td>1.0</td>\n",
              "    </tr>\n",
              "    <tr>\n",
              "      <th>2</th>\n",
              "      <td>1.0</td>\n",
              "      <td>1.0</td>\n",
              "      <td>1.0</td>\n",
              "      <td>1.0</td>\n",
              "      <td>1.0</td>\n",
              "      <td>1.0</td>\n",
              "      <td>1.0</td>\n",
              "      <td>1.0</td>\n",
              "      <td>0.0</td>\n",
              "      <td>1.0</td>\n",
              "      <td>...</td>\n",
              "      <td>1.0</td>\n",
              "      <td>1.0</td>\n",
              "      <td>1.0</td>\n",
              "      <td>0.0</td>\n",
              "      <td>0.0</td>\n",
              "      <td>0.0</td>\n",
              "      <td>0.0</td>\n",
              "      <td>0.0</td>\n",
              "      <td>0.0</td>\n",
              "      <td>1.0</td>\n",
              "    </tr>\n",
              "    <tr>\n",
              "      <th>3</th>\n",
              "      <td>1.0</td>\n",
              "      <td>1.0</td>\n",
              "      <td>1.0</td>\n",
              "      <td>0.0</td>\n",
              "      <td>0.0</td>\n",
              "      <td>1.0</td>\n",
              "      <td>0.0</td>\n",
              "      <td>0.0</td>\n",
              "      <td>1.0</td>\n",
              "      <td>1.0</td>\n",
              "      <td>...</td>\n",
              "      <td>0.0</td>\n",
              "      <td>0.0</td>\n",
              "      <td>1.0</td>\n",
              "      <td>0.0</td>\n",
              "      <td>1.0</td>\n",
              "      <td>1.0</td>\n",
              "      <td>0.0</td>\n",
              "      <td>0.0</td>\n",
              "      <td>0.0</td>\n",
              "      <td>1.0</td>\n",
              "    </tr>\n",
              "    <tr>\n",
              "      <th>4</th>\n",
              "      <td>1.0</td>\n",
              "      <td>1.0</td>\n",
              "      <td>1.0</td>\n",
              "      <td>1.0</td>\n",
              "      <td>1.0</td>\n",
              "      <td>0.0</td>\n",
              "      <td>1.0</td>\n",
              "      <td>1.0</td>\n",
              "      <td>1.0</td>\n",
              "      <td>1.0</td>\n",
              "      <td>...</td>\n",
              "      <td>0.0</td>\n",
              "      <td>1.0</td>\n",
              "      <td>0.0</td>\n",
              "      <td>1.0</td>\n",
              "      <td>0.0</td>\n",
              "      <td>1.0</td>\n",
              "      <td>0.0</td>\n",
              "      <td>0.0</td>\n",
              "      <td>0.0</td>\n",
              "      <td>1.0</td>\n",
              "    </tr>\n",
              "  </tbody>\n",
              "</table>\n",
              "<p>5 rows × 21 columns</p>\n",
              "</div>\n",
              "      <button class=\"colab-df-convert\" onclick=\"convertToInteractive('df-ae7b253d-7170-48c5-8ce0-e889c0ace669')\"\n",
              "              title=\"Convert this dataframe to an interactive table.\"\n",
              "              style=\"display:none;\">\n",
              "        \n",
              "  <svg xmlns=\"http://www.w3.org/2000/svg\" height=\"24px\"viewBox=\"0 0 24 24\"\n",
              "       width=\"24px\">\n",
              "    <path d=\"M0 0h24v24H0V0z\" fill=\"none\"/>\n",
              "    <path d=\"M18.56 5.44l.94 2.06.94-2.06 2.06-.94-2.06-.94-.94-2.06-.94 2.06-2.06.94zm-11 1L8.5 8.5l.94-2.06 2.06-.94-2.06-.94L8.5 2.5l-.94 2.06-2.06.94zm10 10l.94 2.06.94-2.06 2.06-.94-2.06-.94-.94-2.06-.94 2.06-2.06.94z\"/><path d=\"M17.41 7.96l-1.37-1.37c-.4-.4-.92-.59-1.43-.59-.52 0-1.04.2-1.43.59L10.3 9.45l-7.72 7.72c-.78.78-.78 2.05 0 2.83L4 21.41c.39.39.9.59 1.41.59.51 0 1.02-.2 1.41-.59l7.78-7.78 2.81-2.81c.8-.78.8-2.07 0-2.86zM5.41 20L4 18.59l7.72-7.72 1.47 1.35L5.41 20z\"/>\n",
              "  </svg>\n",
              "      </button>\n",
              "      \n",
              "  <style>\n",
              "    .colab-df-container {\n",
              "      display:flex;\n",
              "      flex-wrap:wrap;\n",
              "      gap: 12px;\n",
              "    }\n",
              "\n",
              "    .colab-df-convert {\n",
              "      background-color: #E8F0FE;\n",
              "      border: none;\n",
              "      border-radius: 50%;\n",
              "      cursor: pointer;\n",
              "      display: none;\n",
              "      fill: #1967D2;\n",
              "      height: 32px;\n",
              "      padding: 0 0 0 0;\n",
              "      width: 32px;\n",
              "    }\n",
              "\n",
              "    .colab-df-convert:hover {\n",
              "      background-color: #E2EBFA;\n",
              "      box-shadow: 0px 1px 2px rgba(60, 64, 67, 0.3), 0px 1px 3px 1px rgba(60, 64, 67, 0.15);\n",
              "      fill: #174EA6;\n",
              "    }\n",
              "\n",
              "    [theme=dark] .colab-df-convert {\n",
              "      background-color: #3B4455;\n",
              "      fill: #D2E3FC;\n",
              "    }\n",
              "\n",
              "    [theme=dark] .colab-df-convert:hover {\n",
              "      background-color: #434B5C;\n",
              "      box-shadow: 0px 1px 3px 1px rgba(0, 0, 0, 0.15);\n",
              "      filter: drop-shadow(0px 1px 2px rgba(0, 0, 0, 0.3));\n",
              "      fill: #FFFFFF;\n",
              "    }\n",
              "  </style>\n",
              "\n",
              "      <script>\n",
              "        const buttonEl =\n",
              "          document.querySelector('#df-ae7b253d-7170-48c5-8ce0-e889c0ace669 button.colab-df-convert');\n",
              "        buttonEl.style.display =\n",
              "          google.colab.kernel.accessAllowed ? 'block' : 'none';\n",
              "\n",
              "        async function convertToInteractive(key) {\n",
              "          const element = document.querySelector('#df-ae7b253d-7170-48c5-8ce0-e889c0ace669');\n",
              "          const dataTable =\n",
              "            await google.colab.kernel.invokeFunction('convertToInteractive',\n",
              "                                                     [key], {});\n",
              "          if (!dataTable) return;\n",
              "\n",
              "          const docLinkHtml = 'Like what you see? Visit the ' +\n",
              "            '<a target=\"_blank\" href=https://colab.research.google.com/notebooks/data_table.ipynb>data table notebook</a>'\n",
              "            + ' to learn more about interactive tables.';\n",
              "          element.innerHTML = '';\n",
              "          dataTable['output_type'] = 'display_data';\n",
              "          await google.colab.output.renderOutput(dataTable, element);\n",
              "          const docLink = document.createElement('div');\n",
              "          docLink.innerHTML = docLinkHtml;\n",
              "          element.appendChild(docLink);\n",
              "        }\n",
              "      </script>\n",
              "    </div>\n",
              "  </div>\n",
              "  "
            ]
          },
          "metadata": {},
          "execution_count": 11
        }
      ]
    },
    {
      "cell_type": "code",
      "source": [
        "covid_data.columns"
      ],
      "metadata": {
        "colab": {
          "base_uri": "https://localhost:8080/"
        },
        "id": "teD3coC8JPxs",
        "outputId": "c8f6fcfd-e366-4fc7-b886-e3d476b3a1c0"
      },
      "execution_count": 12,
      "outputs": [
        {
          "output_type": "execute_result",
          "data": {
            "text/plain": [
              "Index(['Breathing Problem', 'Fever', 'Dry Cough', 'Sore throat',\n",
              "       'Running Nose', 'Asthma', 'Chronic Lung Disease', 'Headache',\n",
              "       'Heart Disease', 'Diabetes', 'Hyper Tension', 'Fatigue ',\n",
              "       'Gastrointestinal ', 'Abroad travel', 'Contact with COVID Patient',\n",
              "       'Attended Large Gathering', 'Visited Public Exposed Places',\n",
              "       'Family working in Public Exposed Places', 'Wearing Masks',\n",
              "       'Sanitization from Market', 'COVID-19'],\n",
              "      dtype='object')"
            ]
          },
          "metadata": {},
          "execution_count": 12
        }
      ]
    },
    {
      "cell_type": "markdown",
      "metadata": {
        "id": "UI7LhU1J8QsZ"
      },
      "source": [
        "# 1. DNN as nonlinear dimensionality reduction method (50 Points)\n",
        "\n",
        "Autoencoder is an unsupervised artificial neural network that compresses the data to lower dimension and then reconstructs the input back. Autoencoder finds the representation of the data in a lower dimension by focusing more on the important features getting rid of noise and redundancy. It's based on Encoder-Decoder architecture, where encoder encodes the high-dimensional data to lower-dimension and decoder takes the lower-dimensional data and tries to reconstruct the original high-dimensional data.\n",
        "\n",
        "![picture](https://drive.google.com/uc?id=1RTZwx4xL6zFV_nUENBgWlFKLKldPoyI-)\n",
        "\n",
        "In the above Diagram, X is the input data, z is the lower-dimension representation of input X and X’ is the reconstructed input data. The mapping of higher to lower dimensions can be linear or non-linear depending on the choice of the activation function.\n",
        "\n",
        "In this part you're gonna implement an autoencoder using Keras framework as dimensionally reduction module as explained [here](https://blog.keras.io/building-autoencoders-in-keras.html).\n",
        "(It would be ok to use PyTorch as well.)\n",
        "Reduce the dimension of the data to 2 dimensions and visualize the low-dimensional data."
      ]
    },
    {
      "cell_type": "markdown",
      "metadata": {
        "id": "9AU6j2l_8QsY"
      },
      "source": [
        "---------------"
      ]
    },
    {
      "cell_type": "code",
      "execution_count": 13,
      "metadata": {
        "id": "moGEgpV999cl"
      },
      "outputs": [],
      "source": [
        "# import necessary libraries\n",
        "import matplotlib.pyplot as plt\n",
        "from keras.layers import Input, Dense\n",
        "from keras.models import Model\n",
        "import torch\n",
        "import torch.nn as nn\n",
        "from keras import layers"
      ]
    },
    {
      "cell_type": "code",
      "source": [
        "\n",
        "input_dim = X_train.shape[1]\n",
        "input_dim"
      ],
      "metadata": {
        "colab": {
          "base_uri": "https://localhost:8080/"
        },
        "id": "fD9pIWW8LPBY",
        "outputId": "8606257a-cbdf-4c8b-d4b2-284371201a7b"
      },
      "execution_count": 14,
      "outputs": [
        {
          "output_type": "execute_result",
          "data": {
            "text/plain": [
              "20"
            ]
          },
          "metadata": {},
          "execution_count": 14
        }
      ]
    },
    {
      "cell_type": "code",
      "execution_count": 15,
      "metadata": {
        "id": "Bgpbm6T48Qsa"
      },
      "outputs": [],
      "source": [
        "# define layers (25 Points)\n",
        "\n",
        "input_dim = X_train.shape[1]\n",
        "input_layer = Input(shape=(X_train.shape[1],))\n",
        "encoder =  layers.Dense(15, activation=\"relu\")(input_layer)\n",
        "encoder =  layers.Dense(10, activation=\"relu\")(encoder)\n",
        "encoder =  layers.Dense(5, activation=\"relu\")(encoder)\n",
        "encoder =  layers.Dense(2, activation=\"relu\")(encoder)\n",
        "decoder =  layers.Dense(5, activation=\"relu\")(encoder)\n",
        "decoder =  layers.Dense(10, activation=\"relu\")(decoder)\n",
        "decoder =  layers.Dense(15, activation=\"relu\")(decoder)\n",
        "decoder =  layers.Dense(input_dim, activation=\"sigmoid\")(decoder)\n",
        "\n",
        "autoencoder = Model(input_layer, decoder)\n",
        "autoencoder.compile(loss='binary_crossentropy', optimizer='adam')"
      ]
    },
    {
      "cell_type": "code",
      "execution_count": 16,
      "metadata": {
        "id": "ek3AgDFw8Qsb",
        "colab": {
          "base_uri": "https://localhost:8080/"
        },
        "outputId": "a07e97f4-3314-4d60-f5b6-77bf8cd8c1d4"
      },
      "outputs": [
        {
          "output_type": "stream",
          "name": "stdout",
          "text": [
            "Epoch 1/60\n",
            "39/39 [==============================] - 1s 7ms/step - loss: 0.6732 - val_loss: 0.6446\n",
            "Epoch 2/60\n",
            "39/39 [==============================] - 0s 4ms/step - loss: 0.6215 - val_loss: 0.6026\n",
            "Epoch 3/60\n",
            "39/39 [==============================] - 0s 4ms/step - loss: 0.5912 - val_loss: 0.5833\n",
            "Epoch 4/60\n",
            "39/39 [==============================] - 0s 3ms/step - loss: 0.5784 - val_loss: 0.5743\n",
            "Epoch 5/60\n",
            "39/39 [==============================] - 0s 4ms/step - loss: 0.5689 - val_loss: 0.5630\n",
            "Epoch 6/60\n",
            "39/39 [==============================] - 0s 4ms/step - loss: 0.5553 - val_loss: 0.5481\n",
            "Epoch 7/60\n",
            "39/39 [==============================] - 0s 4ms/step - loss: 0.5419 - val_loss: 0.5392\n",
            "Epoch 8/60\n",
            "39/39 [==============================] - 0s 4ms/step - loss: 0.5341 - val_loss: 0.5315\n",
            "Epoch 9/60\n",
            "39/39 [==============================] - 0s 3ms/step - loss: 0.5258 - val_loss: 0.5256\n",
            "Epoch 10/60\n",
            "39/39 [==============================] - 0s 3ms/step - loss: 0.5200 - val_loss: 0.5202\n",
            "Epoch 11/60\n",
            "39/39 [==============================] - 0s 4ms/step - loss: 0.5154 - val_loss: 0.5158\n",
            "Epoch 12/60\n",
            "39/39 [==============================] - 0s 4ms/step - loss: 0.5113 - val_loss: 0.5142\n",
            "Epoch 13/60\n",
            "39/39 [==============================] - 0s 3ms/step - loss: 0.5093 - val_loss: 0.5116\n",
            "Epoch 14/60\n",
            "39/39 [==============================] - 0s 3ms/step - loss: 0.5067 - val_loss: 0.5099\n",
            "Epoch 15/60\n",
            "39/39 [==============================] - 0s 3ms/step - loss: 0.5058 - val_loss: 0.5085\n",
            "Epoch 16/60\n",
            "39/39 [==============================] - 0s 3ms/step - loss: 0.5038 - val_loss: 0.5074\n",
            "Epoch 17/60\n",
            "39/39 [==============================] - 0s 3ms/step - loss: 0.5027 - val_loss: 0.5062\n",
            "Epoch 18/60\n",
            "39/39 [==============================] - 0s 4ms/step - loss: 0.5018 - val_loss: 0.5053\n",
            "Epoch 19/60\n",
            "39/39 [==============================] - 0s 3ms/step - loss: 0.5007 - val_loss: 0.5055\n",
            "Epoch 20/60\n",
            "39/39 [==============================] - 0s 4ms/step - loss: 0.5002 - val_loss: 0.5042\n",
            "Epoch 21/60\n",
            "39/39 [==============================] - 0s 4ms/step - loss: 0.4991 - val_loss: 0.5025\n",
            "Epoch 22/60\n",
            "39/39 [==============================] - 0s 3ms/step - loss: 0.4981 - val_loss: 0.5019\n",
            "Epoch 23/60\n",
            "39/39 [==============================] - 0s 4ms/step - loss: 0.4967 - val_loss: 0.5007\n",
            "Epoch 24/60\n",
            "39/39 [==============================] - 0s 4ms/step - loss: 0.4961 - val_loss: 0.5003\n",
            "Epoch 25/60\n",
            "39/39 [==============================] - 0s 4ms/step - loss: 0.4961 - val_loss: 0.5001\n",
            "Epoch 26/60\n",
            "39/39 [==============================] - 0s 4ms/step - loss: 0.4953 - val_loss: 0.4985\n",
            "Epoch 27/60\n",
            "39/39 [==============================] - 0s 4ms/step - loss: 0.4940 - val_loss: 0.4985\n",
            "Epoch 28/60\n",
            "39/39 [==============================] - 0s 3ms/step - loss: 0.4936 - val_loss: 0.4971\n",
            "Epoch 29/60\n",
            "39/39 [==============================] - 0s 4ms/step - loss: 0.4923 - val_loss: 0.4976\n",
            "Epoch 30/60\n",
            "39/39 [==============================] - 0s 3ms/step - loss: 0.4923 - val_loss: 0.4957\n",
            "Epoch 31/60\n",
            "39/39 [==============================] - 0s 4ms/step - loss: 0.4906 - val_loss: 0.4947\n",
            "Epoch 32/60\n",
            "39/39 [==============================] - 0s 4ms/step - loss: 0.4897 - val_loss: 0.4938\n",
            "Epoch 33/60\n",
            "39/39 [==============================] - 0s 3ms/step - loss: 0.4894 - val_loss: 0.4940\n",
            "Epoch 34/60\n",
            "39/39 [==============================] - 0s 3ms/step - loss: 0.4884 - val_loss: 0.4922\n",
            "Epoch 35/60\n",
            "39/39 [==============================] - 0s 4ms/step - loss: 0.4879 - val_loss: 0.4919\n",
            "Epoch 36/60\n",
            "39/39 [==============================] - 0s 5ms/step - loss: 0.4872 - val_loss: 0.4912\n",
            "Epoch 37/60\n",
            "39/39 [==============================] - 0s 3ms/step - loss: 0.4858 - val_loss: 0.4900\n",
            "Epoch 38/60\n",
            "39/39 [==============================] - 0s 3ms/step - loss: 0.4853 - val_loss: 0.4894\n",
            "Epoch 39/60\n",
            "39/39 [==============================] - 0s 4ms/step - loss: 0.4846 - val_loss: 0.4880\n",
            "Epoch 40/60\n",
            "39/39 [==============================] - 0s 3ms/step - loss: 0.4833 - val_loss: 0.4875\n",
            "Epoch 41/60\n",
            "39/39 [==============================] - 0s 3ms/step - loss: 0.4832 - val_loss: 0.4884\n",
            "Epoch 42/60\n",
            "39/39 [==============================] - 0s 4ms/step - loss: 0.4834 - val_loss: 0.4858\n",
            "Epoch 43/60\n",
            "39/39 [==============================] - 0s 3ms/step - loss: 0.4811 - val_loss: 0.4851\n",
            "Epoch 44/60\n",
            "39/39 [==============================] - 0s 4ms/step - loss: 0.4804 - val_loss: 0.4845\n",
            "Epoch 45/60\n",
            "39/39 [==============================] - 0s 4ms/step - loss: 0.4804 - val_loss: 0.4833\n",
            "Epoch 46/60\n",
            "39/39 [==============================] - 0s 3ms/step - loss: 0.4790 - val_loss: 0.4823\n",
            "Epoch 47/60\n",
            "39/39 [==============================] - 0s 3ms/step - loss: 0.4778 - val_loss: 0.4811\n",
            "Epoch 48/60\n",
            "39/39 [==============================] - 0s 4ms/step - loss: 0.4776 - val_loss: 0.4807\n",
            "Epoch 49/60\n",
            "39/39 [==============================] - 0s 3ms/step - loss: 0.4764 - val_loss: 0.4811\n",
            "Epoch 50/60\n",
            "39/39 [==============================] - 0s 3ms/step - loss: 0.4755 - val_loss: 0.4790\n",
            "Epoch 51/60\n",
            "39/39 [==============================] - 0s 4ms/step - loss: 0.4741 - val_loss: 0.4782\n",
            "Epoch 52/60\n",
            "39/39 [==============================] - 0s 3ms/step - loss: 0.4741 - val_loss: 0.4778\n",
            "Epoch 53/60\n",
            "39/39 [==============================] - 0s 4ms/step - loss: 0.4732 - val_loss: 0.4768\n",
            "Epoch 54/60\n",
            "39/39 [==============================] - 0s 4ms/step - loss: 0.4718 - val_loss: 0.4773\n",
            "Epoch 55/60\n",
            "39/39 [==============================] - 0s 3ms/step - loss: 0.4730 - val_loss: 0.4755\n",
            "Epoch 56/60\n",
            "39/39 [==============================] - 0s 3ms/step - loss: 0.4707 - val_loss: 0.4745\n",
            "Epoch 57/60\n",
            "39/39 [==============================] - 0s 4ms/step - loss: 0.4701 - val_loss: 0.4741\n",
            "Epoch 58/60\n",
            "39/39 [==============================] - 0s 3ms/step - loss: 0.4690 - val_loss: 0.4726\n",
            "Epoch 59/60\n",
            "39/39 [==============================] - 0s 4ms/step - loss: 0.4686 - val_loss: 0.4726\n",
            "Epoch 60/60\n",
            "39/39 [==============================] - 0s 3ms/step - loss: 0.4681 - val_loss: 0.4726\n",
            "119/119 [==============================] - 0s 1ms/step\n",
            "51/51 [==============================] - 0s 1ms/step\n"
          ]
        }
      ],
      "source": [
        "# train the model and reduce the dimension of the data (15 Points)\n",
        "autoencoder.fit(X_train, X_train, epochs=60, batch_size=100,validation_data=(X_test, X_test))\n",
        "Enc_model = Model(input_layer, encoder)\n",
        "train_Enc = Enc_model.predict(X_train)\n",
        "test_Enc = Enc_model.predict(X_test)"
      ]
    },
    {
      "cell_type": "code",
      "execution_count": 17,
      "metadata": {
        "id": "TmE4TjbQ8Qsb",
        "colab": {
          "base_uri": "https://localhost:8080/",
          "height": 269
        },
        "outputId": "0b778e39-687e-4586-8c51-a300224a6a90"
      },
      "outputs": [
        {
          "output_type": "display_data",
          "data": {
            "text/plain": [
              "<Figure size 432x288 with 2 Axes>"
            ],
            "image/png": "[encoded data removed]"
          },
          "metadata": {
            "needs_background": "light"
          }
        }
      ],
      "source": [
        "# Plot the encoded data (10 Points)\n",
        "plt.scatter(test_Enc[:, 0], test_Enc[:, 1], c=y_test )\n",
        "plt.colorbar()\n",
        "plt.show()"
      ]
    },
    {
      "cell_type": "code",
      "source": [],
      "metadata": {
        "id": "c2ZTaWfZQLem"
      },
      "execution_count": 17,
      "outputs": []
    }
  ],
  "metadata": {
    "colab": {
      "provenance": []
    },
    "kernelspec": {
      "display_name": "Python 3 (ipykernel)",
      "language": "python",
      "name": "python3"
    },
    "language_info": {
      "codemirror_mode": {
        "name": "ipython",
        "version": 3
      },
      "file_extension": ".py",
      "mimetype": "text/x-python",
      "name": "python",
      "nbconvert_exporter": "python",
      "pygments_lexer": "ipython3",
      "version": "3.9.7"
    },
    "vscode": {
      "interpreter": {
        "hash": "81794d4967e6c3204c66dcd87b604927b115b27c00565d3d43f05ba2f3a2cb0d"
      }
    }
  },
  "nbformat": 4,
  "nbformat_minor": 0
}
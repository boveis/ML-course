{
 "cells": [
  {
   "cell_type": "markdown",
   "metadata": {},
   "source": [
    "<img src='http://www-scf.usc.edu/~ghasemig/images/sharif.png' alt=\"SUT logo\" width=200 height=200 align=left class=\"saturate\" >\n",
    "\n",
    "<br>\n",
    "<font face=\"Times New Roman\">\n",
    "<div dir=ltr align=center>\n",
    "<font color=0F5298 size=7>\n",
    "    Introduction to Machine Learning <br>\n",
    "<font color=2565AE size=5>\n",
    "    Computer Engineering Department <br>\n",
    "    Fall 2022<br>\n",
    "<font color=3C99D size=5>\n",
    "    Homework 3: Practical - Neural Network <br>\n",
    "<font color=696880 size=4>\n",
    "    Javad Hezareh \n",
    "    \n",
    "    \n",
    "____\n"
   ]
  },
  {
   "attachments": {},
   "cell_type": "markdown",
   "metadata": {},
   "source": [
    "### Full Name : Bahar Oveis\n",
    "### Student Number : 98106242\n",
    "___"
   ]
  },
  {
   "cell_type": "markdown",
   "metadata": {},
   "source": [
    "# Problem\n",
    "In this assignment our goal is to develop a framework for simple neural networks, multi layer perceptrons. We are going to use only `numpy` and no other packages to build our own classes and network."
   ]
  },
  {
   "cell_type": "markdown",
   "metadata": {},
   "source": [
    "# Setup"
   ]
  },
  {
   "cell_type": "code",
   "execution_count": 293,
   "metadata": {
    "id": "D_a46D-Gz3Rj"
   },
   "outputs": [],
   "source": [
    "###################################\n",
    "#  Do Not Add any other packages  #\n",
    "###################################\n",
    "\n",
    "import numpy as np\n",
    "import seaborn as sn\n",
    "import matplotlib.pyplot as plt\n",
    "import tqdm\n",
    "import copy\n",
    "from utils import *\n",
    "\n",
    "plt.style.use('ggplot')"
   ]
  },
  {
   "cell_type": "markdown",
   "metadata": {},
   "source": [
    "# Section 1: Modules implementation (65 Points)\n",
    "We are going to implement required modules for a neural net. Each of this modules must implement the neccessery functions, `_forward` and `backward`. In the following parts, we will implement `LinearLayer`, `ReLU` and `SoftMax` layers."
   ]
  },
  {
   "cell_type": "markdown",
   "metadata": {},
   "source": [
    "## Layers"
   ]
  },
  {
   "cell_type": "markdown",
   "metadata": {},
   "source": [
    "#### Linear Layer (10 Points)"
   ]
  },
  {
   "cell_type": "code",
   "execution_count": 294,
   "metadata": {
    "id": "moGEgpV999cl"
   },
   "outputs": [],
   "source": [
    "class LinearLayer(Module):\n",
    "    \"\"\"\n",
    "    A linear layer module which calculate (Wx + b).\n",
    "    \"\"\"\n",
    "\n",
    "    def __init__(self, dim_in, dim_out, initializer, reg, alpha):\n",
    "        \"\"\"\n",
    "        Args:\n",
    "            - dim_in: input dimension,\n",
    "            - dim_out: output dimension,\n",
    "            - initializer: a function which get (dim_in, dim_out) and initialize\n",
    "                a [dim_in x dim_out] matrix,\n",
    "            - reg: L2-regularization flag\n",
    "            - alpha: L2-regularization coefficient\n",
    "        \n",
    "        self.dim_in = dim_in\n",
    "        self.dim_out = dim_out\n",
    "        self.reg = reg\n",
    "        self.alpha = alpha\n",
    "        self.params = {\n",
    "            #########################################\n",
    "            ##          Initialize parameters      ##\n",
    "            ##              Your Code              ##\n",
    "            #########################################\n",
    "            'W': initializer(dim_in, dim_out),\n",
    "            'b': np.zeros(dim_out)\n",
    "            'W':initializer( dim_in , dim_out ),\n",
    "            'b': np.zeros(dim_out),\n",
    "        }\n",
    "        self.grads = dict()\n",
    "        self.cache = dict()\n",
    "\"\"\"\n",
    "\n",
    "        \n",
    "        self.dim_in = dim_in\n",
    "        self.dim_out = dim_out\n",
    "        self.alpha=alpha\n",
    "        self.reg=reg\n",
    "        self.params = {\n",
    "            #########################################\n",
    "            ##          Initialize parameters      ##\n",
    "            ##              Your Code              ##\n",
    "            #########################################\n",
    "            'W':initializer(dim_in , dim_out),\n",
    "            'b': np.zeros(dim_out),\n",
    "            \n",
    "        }\n",
    "        self.grads = dict()\n",
    "        self.cache = dict()\n",
    "\n",
    "    def _forward(self, x):\n",
    "        \"\"\"\n",
    "        linear forward function, calculate Wx+b for a batch of data\n",
    "\n",
    "        Args:\n",
    "            x : a batch of data\n",
    "\n",
    "        Note:\n",
    "            you need to store some values in cache to be able to\n",
    "            calculate backward path.\n",
    "        \"\"\"\n",
    "        #########################################\n",
    "        ##              Your Code              ##\n",
    "        #########################################\n",
    "        self.cache[\"x\"]=x\n",
    "        W = self.params[\"W\"]\n",
    "        b = self.params[\"b\"]\n",
    "        y = np.dot(x, W.T) + b\n",
    "        self.cache[\"x\"]=x\n",
    "        return y\n",
    "\n",
    "    def backward(self, upstream):\n",
    "        \"\"\"\n",
    "        get upstream gradient and returns downstream gradient\n",
    "\n",
    "        Args:\n",
    "            upstream : upstream gradient of loss w.r.t module output\n",
    "\n",
    "        Note:\n",
    "            you need to calculate gradient of loss w.r.t module input\n",
    "            and parameters and store them in grads.\n",
    "        \"\"\"\n",
    "        #########################################\n",
    "        ##              Your Code              ##\n",
    "        #########################################\n",
    "        x = self.cache['x']\n",
    "        W = self.params[\"W\"]\n",
    "        grad_w = np.dot(upstream.T, x)\n",
    "        grad_reg = 2*self.alpha * W\n",
    "        grad_x = np.dot(upstream, W)\n",
    "        grad_b = upstream.sum(axis=0)\n",
    "        self.grads = {\n",
    "            'W': grad_w,\n",
    "            'b': grad_b,\n",
    "            'x': grad_x,\n",
    "            'reg': grad_reg\n",
    "        }\n"
   ]
  },
  {
   "cell_type": "code",
   "execution_count": 295,
   "metadata": {},
   "outputs": [
    {
     "name": "stdout",
     "output_type": "stream",
     "text": [
      "Gradient of loss w.r.t output:\n",
      "[[0.82955535 0.21114721 0.29056745 0.76196253 0.48381119 0.26313752\n",
      "  0.17058744 0.68924104 0.14521547 0.36108282 0.17969557 0.61131998]\n",
      " [0.90547691 0.09465278 0.04351438 0.82898441 0.53347611 0.25746229\n",
      "  0.83709683 0.91589097 0.95338569 0.53886974 0.68147718 0.14543317]\n",
      " [0.36605854 0.25725115 0.64065521 0.99467217 0.84735271 0.6116583\n",
      "  0.6585274  0.09264464 0.55180917 0.84839143 0.74920247 0.66146217]\n",
      " [0.48228694 0.96546312 0.48159736 0.23890255 0.62490249 0.71391215\n",
      "  0.39654666 0.08349731 0.25206548 0.14235356 0.84943899 0.30579129]\n",
      " [0.18025764 0.72632517 0.07006783 0.77688796 0.90754448 0.97929669\n",
      "  0.15398316 0.39885902 0.85437948 0.42579468 0.34963434 0.91473698]\n",
      " [0.92071169 0.33599422 0.31872931 0.63541889 0.58434891 0.17077758\n",
      "  0.11395208 0.59733395 0.64102327 0.2976854  0.36232214 0.94163488]\n",
      " [0.10551311 0.04220206 0.55321597 0.03134844 0.82945429 0.71557495\n",
      "  0.4421455  0.89943093 0.15358404 0.01888662 0.93738637 0.70363497]\n",
      " [0.25615749 0.52405876 0.07851757 0.82801702 0.82128155 0.6839097\n",
      "  0.43418109 0.88647521 0.26329912 0.97095353 0.84626562 0.99043451]\n",
      " [0.17365826 0.97193332 0.63421181 0.30386288 0.67835468 0.6601781\n",
      "  0.80468593 0.42069812 0.34247869 0.41258744 0.15539917 0.12872808]\n",
      " [0.50912333 0.76242788 0.23354037 0.83329713 0.27259661 0.37348566\n",
      "  0.09703369 0.62817394 0.98414259 0.63421196 0.12645117 0.32862426]]\n",
      "Gradient of loss w.r.t input:\n",
      "[[-3.86697334 -2.78976815  0.39981837  0.38872356  2.44920334]\n",
      " [-4.07663892 -2.38911529 -0.57516401  0.52413447  3.02795466]\n",
      " [-2.42070401 -4.37830049 -0.33662315  0.17426406  5.29339435]\n",
      " [-2.53355198 -3.13462911  1.37900016 -1.05202946  3.42717472]\n",
      " [-3.50525689 -3.19970764  0.06821917  0.06161378  5.87266113]\n",
      " [-4.34112069 -3.54314941  0.73482414  0.26828375  3.52429854]\n",
      " [-4.62291969 -1.34276004  2.15201291  0.92162587  3.0636926 ]\n",
      " [-4.36957705 -3.63002872  0.0430919   0.64233637  4.89509448]\n",
      " [-3.48244667 -2.22681867  1.28368358 -1.57156376  2.61257591]\n",
      " [-3.75374304 -3.50118017  0.76050971 -1.01095018  3.00392869]]\n",
      "Gradient of loss w.r.t W:\n",
      "[[ 0.60296793  2.64325465  0.87670883 -1.72008307  1.80180035]\n",
      " [-1.61883506  1.28293081 -1.5340714  -0.11545109  2.78578139]\n",
      " [-1.16068484  1.06887546 -1.75629507 -0.12894812  1.6593709 ]\n",
      " [ 0.4545917   3.05520758  1.44496446 -0.04507846  2.47594291]\n",
      " [ 0.49302393  1.2461954   0.36367171  1.10414817  1.82555873]\n",
      " [ 0.07483492  0.18079655 -0.42817094  1.03425058  2.05791696]\n",
      " [ 0.25953707  0.37095     1.6139916  -0.30006248  0.67160284]\n",
      " [ 2.19551969  1.02177659  2.69240881  0.60108166 -0.87012326]\n",
      " [ 1.2727168   1.28753926  1.40102579  0.22004613  1.56993439]\n",
      " [-0.11174944  2.12204373  1.48540106  0.42674775  1.30315133]\n",
      " [ 0.97263339 -0.1022656   0.81737232 -0.2647868   1.35368133]\n",
      " [ 0.73973444  2.2344255   0.03261304  1.87558462  1.24209346]]\n",
      "Gradient of loss w.r.t b:\n",
      "[4.72879924 4.89145567 3.34461725 6.23335398 6.58312302 5.42939295\n",
      " 4.10873979 5.61224514 5.14138301 4.65081719 5.23727303 5.73180029]\n",
      "Relative error of delta-loss (for linear unit):\n",
      "1.810841242632753e-05\n",
      "Relative error of delta-loss (for regularization):\n",
      "2.383026591767501e-05\n"
     ]
    }
   ],
   "source": [
    "# sanity check, output must be from o(e-5)\n",
    "initializer = lambda x, y: np.random.normal(size=(y, x))\n",
    "linear = LinearLayer(5, 12, initializer, reg=True, alpha=1)\n",
    "check_gradient_linear(linear, h=0.00001)"
   ]
  },
  {
   "cell_type": "markdown",
   "metadata": {},
   "source": [
    "#### ReLU Layer (5 Points)"
   ]
  },
  {
   "cell_type": "code",
   "execution_count": 296,
   "metadata": {
    "id": "RSsLumM29_eT"
   },
   "outputs": [],
   "source": [
    "class ReLU(Module):\n",
    "    \"\"\"\n",
    "    Rectified Linear Unit function\n",
    "    \"\"\"\n",
    "    def __init__(self):\n",
    "        self.cache = dict()\n",
    "        self.grads = dict()\n",
    "\n",
    "    def _forward(self, x):\n",
    "        \"\"\"\n",
    "        applies relu function on x\n",
    "\n",
    "        Args:\n",
    "            x : a batch of data\n",
    "\n",
    "        Returns:\n",
    "            y : relu of input\n",
    "        \"\"\"\n",
    "        #########################################\n",
    "        ##              Your Code              ##\n",
    "        #########################################\n",
    "    \n",
    "        y = np.maximum(0, x)\n",
    "        self.cache[\"y\"]=y\n",
    "        return y\n",
    "\n",
    "    def backward(self, upstream):\n",
    "        \"\"\"\n",
    "        calculate and store gradient of loss w.r.t module input\n",
    "\n",
    "        Args:\n",
    "            upstream : gradient of loss w.r.t modele output\n",
    "        \"\"\"\n",
    "        #########################################\n",
    "        ##              Your Code              ##\n",
    "        #########################################\n",
    "        \n",
    "        y=self.cache[\"y\"]\n",
    "        y[y>0] = 1\n",
    "        grad_x = upstream*(y)\n",
    "        self.grads['x'] = grad_x\n"
   ]
  },
  {
   "cell_type": "code",
   "execution_count": 297,
   "metadata": {},
   "outputs": [
    {
     "name": "stdout",
     "output_type": "stream",
     "text": [
      "Gradient of loss w.r.t output:\n",
      "[[0.0584373  0.88325126 0.26846461 0.89464548 0.50320908]\n",
      " [0.09177401 0.38804983 0.72265477 0.53096799 0.3455338 ]\n",
      " [0.24378035 0.21950653 0.93640053 0.87820106 0.33644566]\n",
      " [0.87531923 0.36254974 0.54245228 0.95475059 0.96677731]\n",
      " [0.52121319 0.0189511  0.32733035 0.67793154 0.20010495]\n",
      " [0.7436883  0.46844046 0.26309046 0.4595906  0.83244012]\n",
      " [0.62944357 0.72287473 0.73348264 0.21539666 0.77413853]\n",
      " [0.20357441 0.51746258 0.75884962 0.6687436  0.51406511]\n",
      " [0.71992879 0.77988594 0.72842911 0.12522849 0.8795159 ]\n",
      " [0.64932805 0.24568954 0.25430494 0.42654584 0.25253977]]\n",
      "Gradient of loss w.r.t input:\n",
      "[[0.         0.88325126 0.         0.         0.        ]\n",
      " [0.         0.         0.         0.         0.        ]\n",
      " [0.         0.         0.93640053 0.         0.33644566]\n",
      " [0.87531923 0.36254974 0.         0.         0.96677731]\n",
      " [0.52121319 0.0189511  0.         0.67793154 0.20010495]\n",
      " [0.         0.46844046 0.26309046 0.         0.        ]\n",
      " [0.62944357 0.         0.         0.21539666 0.        ]\n",
      " [0.20357441 0.         0.75884962 0.         0.51406511]\n",
      " [0.         0.         0.72842911 0.         0.        ]\n",
      " [0.64932805 0.24568954 0.25430494 0.42654584 0.25253977]]\n",
      "Relative error of delta-loss:\n",
      "2.484727903125079e-14\n"
     ]
    }
   ],
   "source": [
    "# sanity check - output must be from o(e-8)\n",
    "relu = ReLU()\n",
    "check_gradient_relu(relu)"
   ]
  },
  {
   "cell_type": "markdown",
   "metadata": {},
   "source": [
    "#### SoftMax Layer (15 Points)\n",
    "\n",
    "We could have a layer that calculate softmax for us. In other word, for input $x\\in\\mathcal{R}^N$ it would return $y\\in\\mathcal{R}^n$ where $y_i = \\frac{e^{x_i}}{\\sum e^{x_i}}$. But this method is not numerical stable because $e^{x_i}$ in this formulation can get very large easly and return `nan`. Instead of that we will implement a logarithmic version of softmax which instead of calculating $\\frac{e^{x_i}}{\\sum e^{x_i}}$, we will calculate $\\log\\left(\\frac{e^{x_i}}{\\sum e^{x_i}}\\right) = x_i - \\log\\sum e^{x_i}$. In order to calculate second term you can use `np.logaddexp` but this function only works on two input. For more than two input, fill in the following function to be able to calculate log sum exp of an array of shape (b,n). `axis=1` means sum over columns and `axis=0` sum over rows."
   ]
  },
  {
   "cell_type": "code",
   "execution_count": 298,
   "metadata": {},
   "outputs": [],
   "source": [
    "def logsumexp(array, axis=1):\n",
    "    \"\"\"\n",
    "    calculate log(sum(exp(array))) using np.logaddexp\n",
    "\n",
    "    Args:\n",
    "        array : input array\n",
    "        axis : reduce axis, 1 means columns and 0 means rows\n",
    "    \"\"\"\n",
    "    assert len(array) >= 2\n",
    "    \n",
    "    res=np.zeros((array.shape))\n",
    "    for i in range (array.shape[0]):\n",
    "        c=array[i,:].max()\n",
    "        y=c+np.log(np.sum(np.exp(array[i,:]-c)))\n",
    "        res[i,:]=y\n",
    "    \n",
    "    return res\n",
    "    \n",
    "    #########################################\n",
    "    ##              Your Code              ##\n",
    "    #########################################\n",
    "   "
   ]
  },
  {
   "cell_type": "code",
   "execution_count": 299,
   "metadata": {
    "id": "R4v5_UBB-BCK"
   },
   "outputs": [],
   "source": [
    "class LogSoftMax(Module):\n",
    "    def __init__(self):\n",
    "        self.cache = dict()\n",
    "        self.grads = dict()\n",
    "\n",
    "    def _forward(self, x):\n",
    "        \"\"\"\n",
    "        get x and calculate softmax of that.\n",
    "\n",
    "        Args:\n",
    "            x : batch of data with shape (b,m)\n",
    "\n",
    "        Returns:\n",
    "            y : log softmax of x with shape (b,m)\n",
    "        \"\"\"\n",
    "        #########################################\n",
    "        ##              Your Code              ##\n",
    "        #########################################\n",
    "        logsumexp_val = logsumexp(x, axis=1)\n",
    "        temp=np.ones((x.shape))\n",
    "        \n",
    "        for i in range(len(logsumexp_val)):\n",
    "            temp[i]=logsumexp_val[i]*temp[i]\n",
    "    \n",
    "        y=x-temp\n",
    "        self.cache[\"y\"]=y\n",
    "        self.cache[\"x\"]=x\n",
    "        return y\n",
    "\n",
    "    def backward(self, upstream):\n",
    "        \"\"\"\n",
    "        calculate gradient of loss w.r.t module input and save that in grads.\n",
    "\n",
    "        Args:\n",
    "            upstream : gradient of loss w.r.t module output with sahpe (b,m)\n",
    "        \"\"\"\n",
    "        #########################################\n",
    "        ##              Your Code              ##\n",
    "        #########################################\n",
    "        softmax=np.exp(self.cache['y'])\n",
    "        s_dim=softmax.shape[1]\n",
    "        grad_x=np.zeros_like(upstream)\n",
    "        for b in range(self.cache['y'].shape[0]):\n",
    "            jac=np.eye(s_dim) - softmax[b,np.newaxis]\n",
    "            grad_x[b] = np.dot(upstream[b], jac)\n",
    "        self.grads['x'] = grad_x\n",
    "\n",
    "\n",
    "        "
   ]
  },
  {
   "cell_type": "code",
   "execution_count": 300,
   "metadata": {},
   "outputs": [
    {
     "name": "stdout",
     "output_type": "stream",
     "text": [
      "Gradient of loss w.r.t output:\n",
      "[[0.1630331  0.13488387 0.64710355 0.267412   0.38909318]\n",
      " [0.17558247 0.28087961 0.28324271 0.94903849 0.49365313]\n",
      " [0.66110396 0.48183119 0.81942941 0.72267524 0.05972474]\n",
      " [0.23687506 0.58419898 0.63517021 0.34454597 0.22345524]\n",
      " [0.88441083 0.96840966 0.22989379 0.11408372 0.45871137]\n",
      " [0.00832097 0.74025973 0.43923602 0.0739073  0.96269913]\n",
      " [0.17190485 0.1383921  0.6479173  0.88009471 0.35911365]\n",
      " [0.42453736 0.08015594 0.24649505 0.0371008  0.95956135]\n",
      " [0.14149331 0.25348514 0.93081829 0.36581357 0.52428419]\n",
      " [0.23683714 0.9252707  0.18926396 0.4527474  0.47814843]]\n",
      "Gradient of loss w.r.t input:\n",
      "[[-0.25543381 -0.14106689  0.41398    -0.12588516  0.10840584]\n",
      " [-0.20376161 -0.15868754 -0.08018071  0.43744502  0.00518484]\n",
      " [ 0.11956483  0.16874444  0.31243645 -0.01058303 -0.59016269]\n",
      " [-0.09121993  0.20407432  0.31101343  0.00085981 -0.42472763]\n",
      " [ 0.28037124  0.35101985 -0.11664377 -0.4851247  -0.02962261]\n",
      " [-0.29306479  0.21679663 -0.12605471 -0.46330875  0.66563162]\n",
      " [-0.403257   -0.28535296  0.22465089  0.32906213  0.13489695]\n",
      " [ 0.02977464 -0.26441952 -0.26649578 -0.19206979  0.69321045]\n",
      " [-0.37287508 -0.16202289  0.67216183 -0.13421601 -0.00304785]\n",
      " [-0.1331356   0.33035269 -0.14465495 -0.06388172  0.01131958]]\n",
      "Relative error of delta-loss:\n",
      "8.090480642957152e-08\n"
     ]
    }
   ],
   "source": [
    "# sanity check, output must be from o(e-7)\n",
    "sm = LogSoftMax()\n",
    "check_gradient_softmax(sm)"
   ]
  },
  {
   "cell_type": "markdown",
   "metadata": {},
   "source": [
    "## Model (10 Points)\n",
    "We need a model class which gathers our layers togather and performs forward and backward on all of them."
   ]
  },
  {
   "cell_type": "code",
   "execution_count": 301,
   "metadata": {},
   "outputs": [],
   "source": [
    "class MLPModel(Module):\n",
    "    \"\"\"\n",
    "    A multilayer neural network model\n",
    "    \"\"\"\n",
    "\n",
    "    def __init__(self, layers):\n",
    "        \"\"\"\n",
    "        Args:\n",
    "            layers : list of model layers\n",
    "        \"\"\"\n",
    "        self.layers = layers\n",
    "\n",
    "    def _forward(self, x):\n",
    "        \"\"\"\n",
    "        Perform forward on x\n",
    "\n",
    "        Args:\n",
    "            x : a batch of data\n",
    "\n",
    "        Returns:\n",
    "            o : model output\n",
    "        \"\"\"\n",
    "        res_x = x\n",
    "\n",
    "        for layer in self.layers:\n",
    "            res_x=layer._forward(res_x)\n",
    "        return res_x\n",
    "        #########################################\n",
    "        ##              Your Code              ##\n",
    "        #########################################\n",
    "    \n",
    "    def backward(self, upstream):\n",
    "        \"\"\"\n",
    "        Perform backward path on whole model\n",
    "\n",
    "        Args:\n",
    "            upstream : gradient of loss w.r.t model output\n",
    "        \"\"\"\n",
    "        #########################################\n",
    "        ##              Your Code              ##\n",
    "        #########################################\n",
    "        '''\n",
    "        current_upstream=upstream\n",
    "        for layer in reversed(self.layers):\n",
    "            layer.backward(current_upstream)\n",
    "            current_upstream=layer.grads[\"x\"]\n",
    "        '''\n",
    "        new_upstream = upstream\n",
    "        for i in range((len(self.layers)-1), -1, -1):\n",
    "            self.layers[i].backward(new_upstream)\n",
    "            new_upstream =self.layers[i].grads[\"x\"]\n",
    "        return new_upstream\n",
    "\n",
    "    def get_parameters(self):\n",
    "        \"\"\"\n",
    "        Returns:\n",
    "            parametric_layers : all layers of model which have parameter\n",
    "        \"\"\"\n",
    "\n",
    "        layers=[]\n",
    "        for i in range(len(self.layers)):\n",
    "            layer = self.layers[i]\n",
    "            if(hasattr(layer,\"params\")):\n",
    "                layers.append(layer)\n",
    "        \n",
    "        return layers\n",
    "        "
   ]
  },
  {
   "cell_type": "markdown",
   "metadata": {},
   "source": [
    "## Loss functions (10 Points)\n",
    "We need to implement loss functions to be able to train our network. We will implement CrossEntropy loss function. But notice that we have implemented `LogSoftMax` in logarithmic way so input of the following class will be logarithm of probabilities. "
   ]
  },
  {
   "cell_type": "code",
   "execution_count": 302,
   "metadata": {
    "id": "HIBN2fmBpYGG"
   },
   "outputs": [],
   "source": [
    "class CrossEntropyLoss(Module):\n",
    "    def __init__(self, mean=False):\n",
    "        self.mean = mean\n",
    "        self.cache = dict()\n",
    "        self.grads = dict()\n",
    "\n",
    "    def _forward(self, logprobs, targets):\n",
    "        \"\"\"\n",
    "        Calculate cross entropy of inputs.\n",
    "\n",
    "        Args:\n",
    "            probs : matrix of probabilities with shape (b,n)\n",
    "            targets : list of samples classes with shape (b,)\n",
    "\n",
    "        Returns:\n",
    "            y : cross entropy loss\n",
    "        \"\"\"\n",
    "        #########################################\n",
    "        ##              Your Code              ##\n",
    "        #########################################\n",
    "        y= -1 * np.sum( logprobs[range(targets.shape[0]),targets] )/targets.shape[0]\n",
    "        self.cache['y']=y\n",
    "        self.cache['logprobs']=logprobs\n",
    "        self.cache['targets']=targets\n",
    "        return y\n",
    "\n",
    "    def backward(self, upstream):\n",
    "        \"\"\"\n",
    "        Calculate gradient of loss w.r.t module input and save them in grads.\n",
    "\n",
    "        Args:\n",
    "            upstream : gradient of loss w.r.t module output (loss)\n",
    "        \"\"\"\n",
    "        #########################################\n",
    "        ##              Your Code              ##\n",
    "        #########################################\n",
    "        \n",
    "        grad_scores = np.zeros((self.cache['logprobs'].shape))\n",
    "        targets = self.cache['targets']\n",
    "        grad_scores[range(targets.shape[0]),targets] = -1/(targets.shape[0])\n",
    "        self.grads['x'] = grad_scores"
   ]
  },
  {
   "cell_type": "code",
   "execution_count": 303,
   "metadata": {},
   "outputs": [
    {
     "name": "stdout",
     "output_type": "stream",
     "text": [
      "Gradient of loss w.r.t output:\n",
      "1\n",
      "Gradient of loss w.r.t input:\n",
      "[[ 0.  -0.1  0.   0.   0. ]\n",
      " [ 0.   0.   0.  -0.1  0. ]\n",
      " [ 0.   0.   0.   0.  -0.1]\n",
      " [-0.1  0.   0.   0.   0. ]\n",
      " [-0.1  0.   0.   0.   0. ]\n",
      " [ 0.  -0.1  0.   0.   0. ]\n",
      " [ 0.   0.   0.   0.  -0.1]\n",
      " [ 0.  -0.1  0.   0.   0. ]\n",
      " [ 0.  -0.1  0.   0.   0. ]\n",
      " [ 0.   0.   0.   0.  -0.1]]\n",
      "Relative error of delta-loss:\n",
      "3.327145416815998e-13\n"
     ]
    }
   ],
   "source": [
    "# check gradient, output must be from o(e-10)\n",
    "ce = CrossEntropyLoss()\n",
    "check_gradient_ce(ce, h=0.0001)"
   ]
  },
  {
   "cell_type": "markdown",
   "metadata": {},
   "source": [
    "## Optimization (15 Points)\n",
    "\n",
    "Now that we have our network and loss function, we need to update model paremeters. We can do so by using `Optimizer` class that perform updating rule on model parameters. You need to implement `sgd` and `momentum` strategy for this optimizer. Becarefull to consider regularization update for linear units that require regularization."
   ]
  },
  {
   "cell_type": "code",
   "execution_count": 304,
   "metadata": {
    "id": "pDROgraatB0p"
   },
   "outputs": [],
   "source": [
    "class Optimizer():\n",
    "    \"\"\"\n",
    "    Our main optimization class.\n",
    "    \n",
    "    You can add arguments to _sgd and _momentum function if you need to do so, and\n",
    "    pass this arguments to step function when using optimizer. Don't change __init__\n",
    "    or step function.\n",
    "    \"\"\"\n",
    "\n",
    "    def __init__(self, layers, strategy, lr):\n",
    "        \"\"\"\n",
    "        save layers here in order to update their parameters later.\n",
    "\n",
    "        Args:\n",
    "            layers : model layers (those that we want to update their parameters)\n",
    "            strategy : optimization strategy\n",
    "            lr : learning rate\n",
    "        \"\"\"\n",
    "        self.layers = layers\n",
    "        self.strategy = strategy\n",
    "        self.lr = lr\n",
    "        self.strategies = {\n",
    "            'sgd': self._sgd,\n",
    "            'momentum': self._momentum,\n",
    "        }\n",
    "\n",
    "    def step(self, *args):\n",
    "        \"\"\"\n",
    "        Perform updating strategy on all layers paramters.\n",
    "        \"\"\"\n",
    "        self.strategies[self.strategy](*args)\n",
    "\n",
    "    def _sgd(self):\n",
    "        \"\"\"\n",
    "        Perform sgd update on all parameters of layers\n",
    "        \"\"\"\n",
    "        for i in range(len(self.layers)):\n",
    "            layer = self.layers[i]\n",
    "            if isinstance(layer , LinearLayer):\n",
    "                layer.params[\"W\"]= layer.params[\"W\"] - layer.grads[\"W\"]*self.lr\n",
    "                layer.params[\"b\"]= layer.params[\"b\"] - layer.grads[\"b\"]*self.lr\n",
    "                if layer.reg:\n",
    "                    layer.params[\"W\"]=layer.params[\"W\"] - layer.grads[\"reg\"]*self.lr\n",
    "\n",
    "    \n",
    "    def _momentum(self):\n",
    "        \"\"\"\n",
    "        Perform momentum update on all parameters of layers\n",
    "        \"\"\"\n",
    "        #########################################\n",
    "        ##              Your Code              ##\n",
    "        #########################################\n",
    "        pass\n"
   ]
  },
  {
   "cell_type": "markdown",
   "metadata": {},
   "source": [
    "# Section 2: CIFAR-10 Classification (35 Points)\n",
    "\n",
    "Now that we can build a neural network we want to solve CIFAR-10 classification problem. This dataset consists of 60000 $32 \\times 32$ coloured images in 10 classes."
   ]
  },
  {
   "cell_type": "markdown",
   "metadata": {},
   "source": [
    "## Data preparation (5 Points)"
   ]
  },
  {
   "cell_type": "code",
   "execution_count": 305,
   "metadata": {},
   "outputs": [],
   "source": [
    "#################################################\n",
    "##      Run this cell to download dataset      ##\n",
    "##         the dataset is about 150 MB         ##\n",
    "#################################################\n",
    "\n",
    "#!E:/uni/ml/Hw/ML_HW3/Practical/Q2. Neural Network/cifar10_downloader.bash\n"
   ]
  },
  {
   "cell_type": "code",
   "execution_count": 306,
   "metadata": {},
   "outputs": [
    {
     "name": "stdout",
     "output_type": "stream",
     "text": [
      "X_train: (4000, 32, 32, 3)\n",
      "Y_train: (4000,)\n",
      "X_test: (1000, 32, 32, 3)\n",
      "Y_test: (1000,)\n"
     ]
    }
   ],
   "source": [
    "#############################################\n",
    "##      Run this cell to load dataset      ##\n",
    "#############################################\n",
    "data = load_dataset(train_num=4000, test_num=1000)\n",
    "for k in data.keys():\n",
    "    print(f'{k}: {data[k].shape}')"
   ]
  },
  {
   "cell_type": "code",
   "execution_count": 307,
   "metadata": {},
   "outputs": [
    {
     "name": "stdout",
     "output_type": "stream",
     "text": [
      "X_train: (2800, 32, 32, 3)\n",
      "Y_train: (2800,)\n",
      "X_test: (1000, 32, 32, 3)\n",
      "Y_test: (1000,)\n",
      "X_val: (1200, 32, 32, 3)\n",
      "Y_val: (1200,)\n"
     ]
    }
   ],
   "source": [
    "##############################################\n",
    "##      Split train set to train/val        ##\n",
    "################[Your Code]###################\n",
    "val_index=np.random.choice(list(range(1,4000)),1200,replace=False)\n",
    "\n",
    "data[\"X_val\"]=data[\"X_train\"][val_index,:,: ]\n",
    "data[\"Y_val\"]=data[\"Y_train\"][val_index ]\n",
    "data[\"X_train\"]=np.delete(data[\"X_train\"],val_index, axis=0)\n",
    "mask = np.ones(data[\"Y_train\"].size, dtype=bool)\n",
    "mask[val_index] = False\n",
    "data[\"Y_train\"]=data[\"Y_train\"][mask]\n",
    "\n",
    "##############################################\n",
    "for k in data.keys():\n",
    "    print(f'{k}: {data[k].shape}')"
   ]
  },
  {
   "cell_type": "code",
   "execution_count": 308,
   "metadata": {},
   "outputs": [
    {
     "data": {
      "image/png": "[encoded data removed]",
      "text/plain": [
       "<Figure size 1080x648 with 50 Axes>"
      ]
     },
     "metadata": {},
     "output_type": "display_data"
    }
   ],
   "source": [
    "##################################################\n",
    "##      Visualize 5 samples from each class     ##\n",
    "##################[Your Code]#####################\n",
    "\n",
    "labels = np.unique(data[\"Y_train\"])\n",
    "fig, ax = plt.subplots(nrows=10 , ncols=5, figsize=(15, 9))\n",
    "ax = ax.flatten()\n",
    "for i in labels:\n",
    "   indices = np.where(data['Y_train']==i)[0]\n",
    "   for j in range(5):\n",
    "      ax[i*5+j].imshow(data['X_train'][indices[j]])\n",
    "      ax[i*5+j].set_xticks([])\n",
    "      ax[i*5+j].set_yticks([])\n",
    "      ax[i*5+j].set_title(\"class_label:{}\".format(i))\n",
    "plt.suptitle(\"images\")\n",
    "plt.show()\n",
    "\n",
    "\n",
    "\n",
    "\n",
    "\n"
   ]
  },
  {
   "cell_type": "code",
   "execution_count": 309,
   "metadata": {},
   "outputs": [
    {
     "name": "stdout",
     "output_type": "stream",
     "text": [
      "X_train: (2800, 32, 32, 3)\n",
      "Y_train: (2800,)\n",
      "X_test: (1000, 32, 32, 3)\n",
      "Y_test: (1000,)\n",
      "X_val: (1200, 32, 32, 3)\n",
      "Y_val: (1200,)\n",
      "X_train_flatt: (2800, 3072)\n",
      "X_val_flatt: (1200, 3072)\n",
      "X_test_flatt: (1000, 3072)\n",
      "Y_train_flatt: (2800,)\n",
      "Y_test_flatt: (1000,)\n",
      "Y_val_flatt: (1200,)\n"
     ]
    }
   ],
   "source": [
    "#####################################################\n",
    "##             Normalize and flatten X             ##\n",
    "####################[Your Code]######################\n",
    "mean_X=np.mean(data[\"X_train\"])\n",
    "data[\"X_train_flatt\"] = data[\"X_train\"].reshape(data[\"X_train\"].shape[0],-1) - mean_X\n",
    "data[\"X_val_flatt\"] = data[\"X_val\"].reshape(data[\"X_val\"].shape[0],-1) - mean_X\n",
    "data[\"X_test_flatt\"] = data[\"X_test\"].reshape(data[\"X_test\"].shape[0],-1) - mean_X\n",
    "data[\"Y_train_flatt\"]=data[\"Y_train\"]\n",
    "data[\"Y_test_flatt\"]=data[\"Y_test\"]\n",
    "data[\"Y_val_flatt\"]=data[\"Y_val\"]\n",
    "#####################################################\n",
    "for k in data.keys():\n",
    "    print(f'{k}: {data[k].shape}')"
   ]
  },
  {
   "cell_type": "markdown",
   "metadata": {},
   "source": [
    "## Train and Test Model (25 Points)"
   ]
  },
  {
   "cell_type": "markdown",
   "metadata": {},
   "source": [
    "### Batch Sampler\n",
    "We need to sample bathces from our dataset to train model. Complete the following class to have a random sampler."
   ]
  },
  {
   "cell_type": "code",
   "execution_count": 310,
   "metadata": {},
   "outputs": [],
   "source": [
    "class RandomSampler(object):\n",
    "    def __init__(self, batch_size, dataset, type):\n",
    "        \"\"\"\n",
    "        Args:\n",
    "            batch_size : sampler batch size\n",
    "            dataset : dataset we want to get batch from that\n",
    "            type : one of {'train', 'test', 'val'}\n",
    "        batch_count = int(dataset[self.x_key].shape[0]/batch_size)\n",
    "        \"\"\"\n",
    "        self.x_key = f'X_{type}'\n",
    "        self.y_key = f'Y_{type}'\n",
    "        batch_count = int(dataset[self.x_key].shape[0]/batch_size)\n",
    "        self.num_batches = batch_count\n",
    "        self.batch_size = batch_size\n",
    "        self.dataset = dataset\n",
    "        self.indices = []\n",
    "        self.indices = np.array(list(range(dataset[self.x_key].shape[0]))).reshape(batch_count,batch_size)\n",
    "\n",
    "\n",
    "\n",
    "        ################################################################\n",
    "        ##       Build batches indices and store them in indices      ##\n",
    "        ##          Also store number of batches in num_batches       ##\n",
    "        ##                          Your Code                         ##\n",
    "        ################################################################\n",
    "\n",
    "    def __len__(self):\n",
    "        assert type(self.num_batches) == int\n",
    "        return self.num_batches\n",
    "\n",
    "    def __iter__(self):\n",
    "        \"\"\"\n",
    "        This function call when we iterate an object of this class and\n",
    "        yields one batch on each call.\n",
    "\n",
    "        Yields:\n",
    "            (x, y) : tuple of bathces of x and y\n",
    "        \"\"\"\n",
    "        for idx in self.indices:\n",
    "            x = self.dataset[self.x_key][idx]\n",
    "            y = self.dataset[self.y_key][idx]\n",
    "            yield x, y\n"
   ]
  },
  {
   "cell_type": "markdown",
   "metadata": {},
   "source": [
    "Fill the following functions to update a confusion matrix and calculate f1 score for a confusion matrix. For multi class f1 score read [here](https://towardsdatascience.com/multi-class-metrics-made-simple-part-ii-the-f1-score-ebe8b2c2ca1)."
   ]
  },
  {
   "cell_type": "code",
   "execution_count": 311,
   "metadata": {},
   "outputs": [],
   "source": [
    "def update_confusion_matrix(conf_matrix, preds, reals):\n",
    "    \"\"\"\n",
    "    Updates confusion matrix\n",
    "\n",
    "    Args:\n",
    "        conf_matrix : input confusion matrix\n",
    "        preds : array of predicted labels\n",
    "        reals : array of real labels\n",
    "\n",
    "    Returns:\n",
    "        conf_matrix : updated confusion matrix\n",
    "    \"\"\"\n",
    "    #################################\n",
    "    ##          Your Code          ##\n",
    "    #################################\n",
    "\n",
    "    for i in range(len(preds)):\n",
    "        conf_matrix[preds[i]][reals[i]]+=1\n",
    "    return conf_matrix\n",
    "\n",
    "\n",
    "def f1_score(confusion_matrix):\n",
    "    \"\"\"\n",
    "    calculate macro f1 score from given confusion matrix\n",
    "\n",
    "    Args:\n",
    "        confusion_matrix : given confusion matrix\n",
    "        \n",
    "    Returns:\n",
    "        f1 : macro f1 score\n",
    "    \"\"\"\n",
    "    #################################\n",
    "    ##          Your Code          ##\n",
    "    #################################\n",
    "    \n",
    "    prec_classes = confusion_matrix.diagonal()/np.sum(confusion_matrix,axis=1)\n",
    "    recal_classes = confusion_matrix.diagonal()/np.sum(confusion_matrix,axis=0)\n",
    "    f1_classes = 2*((prec_classes*recal_classes)/(prec_classes+recal_classes))\n",
    "    f1_score = np.sum(f1_classes)/f1_classes.size\n",
    "    return f1_score"
   ]
  },
  {
   "cell_type": "markdown",
   "metadata": {},
   "source": [
    "### Define Model\n",
    "Define an MLP model to solve classification problem."
   ]
  },
  {
   "cell_type": "code",
   "execution_count": 312,
   "metadata": {},
   "outputs": [],
   "source": [
    "###############################################\n",
    "##             Define your model             ##\n",
    "##     use a good initializer for layers     ##\n",
    "###############################################\n",
    "\n",
    "initializer = lambda x, y: np.random.normal(size=(y, x))\n",
    "layers = [LinearLayer(3072, 10, initializer, reg=True, alpha=.01),LogSoftMax()]\n",
    "model = MLPModel(layers)\n"
   ]
  },
  {
   "cell_type": "code",
   "execution_count": 313,
   "metadata": {},
   "outputs": [],
   "source": [
    "#########################################\n",
    "##          Hyper parameters           ##\n",
    "#########################################\n",
    "n_epochs = 300\n",
    "batch_size = 100\n",
    "lr = 0.2\n",
    "reg_coeff = 0.0001"
   ]
  },
  {
   "cell_type": "code",
   "execution_count": 314,
   "metadata": {},
   "outputs": [],
   "source": [
    "##################################################\n",
    "##      Define optimizer, loss and sampler      ##\n",
    "##################################################\n",
    "\n",
    "optimizer =  Optimizer(layers,'sgd',lr)\n",
    "criterion = CrossEntropyLoss()\n",
    "train_sampler = RandomSampler(batch_size,data,\"train_flatt\")\n",
    "val_sampler =  RandomSampler(batch_size,data,\"val_flatt\")\n",
    "test_sampler =  RandomSampler(batch_size,data,\"test_flatt\")\n"
   ]
  },
  {
   "cell_type": "markdown",
   "metadata": {},
   "source": [
    "### Train Model\n",
    "\n",
    "Fill in the below cell to train the model. Store each epoch loss, accuracy and f1-score. Use f1-score to choose best epoch.\n",
    "\n",
    "**Note1**: To do backpropagation you need to first call `backward` function of criterion with 1 as its argument to have gradient of loss w.r.t output of this module and then using model `backward` function with `criterion.grads['x']` argument.\n",
    "\n",
    "**Note2**: You can ignore regularization term in your total loss value and just use criterion, but you must consider that during updating."
   ]
  },
  {
   "cell_type": "code",
   "execution_count": 315,
   "metadata": {},
   "outputs": [
    {
     "name": "stderr",
     "output_type": "stream",
     "text": [
      "  0%|          | 0/28 [00:00<?, ?it/s]C:\\Users\\B6E52~1.OVE\\AppData\\Local\\Temp/ipykernel_33744/2051838951.py:38: RuntimeWarning: invalid value encountered in true_divide\n",
      "  f1_classes = 2*((prec_classes*recal_classes)/(prec_classes+recal_classes))\n",
      "Train 0 | Loss:1.34e+01 | Acc: 0.15| F1: 0.14|: 100%|██████████| 28/28 [00:00<00:00, 59.16it/s]\n",
      "Val   0 | Loss:1.09e+01 | Acc: 0.14| F1: 0.14|: 100%|██████████| 12/12 [00:00<00:00, 116.96it/s]\n"
     ]
    },
    {
     "name": "stdout",
     "output_type": "stream",
     "text": [
      "----------------------------[Epoch1 finished!]----------------------------\n"
     ]
    },
    {
     "name": "stderr",
     "output_type": "stream",
     "text": [
      "Train 1 | Loss:8.80e+00 | Acc: 0.19| F1: 0.18|: 100%|██████████| 28/28 [00:00<00:00, 49.97it/s]\n",
      "Val   1 | Loss:8.23e+00 | Acc: 0.17| F1: 0.17|: 100%|██████████| 12/12 [00:00<00:00, 193.67it/s]\n"
     ]
    },
    {
     "name": "stdout",
     "output_type": "stream",
     "text": [
      "----------------------------[Epoch2 finished!]----------------------------\n"
     ]
    },
    {
     "name": "stderr",
     "output_type": "stream",
     "text": [
      "Train 2 | Loss:6.81e+00 | Acc: 0.21| F1: 0.21|: 100%|██████████| 28/28 [00:00<00:00, 65.25it/s]\n",
      "Val   2 | Loss:6.62e+00 | Acc: 0.18| F1: 0.19|: 100%|██████████| 12/12 [00:00<00:00, 135.29it/s]\n"
     ]
    },
    {
     "name": "stdout",
     "output_type": "stream",
     "text": [
      "----------------------------[Epoch3 finished!]----------------------------\n"
     ]
    },
    {
     "name": "stderr",
     "output_type": "stream",
     "text": [
      "Train 3 | Loss:5.53e+00 | Acc: 0.23| F1: 0.22|: 100%|██████████| 28/28 [00:00<00:00, 66.35it/s]\n",
      "Val   3 | Loss:5.50e+00 | Acc: 0.20| F1: 0.20|: 100%|██████████| 12/12 [00:00<00:00, 132.52it/s]\n"
     ]
    },
    {
     "name": "stdout",
     "output_type": "stream",
     "text": [
      "----------------------------[Epoch4 finished!]----------------------------\n"
     ]
    },
    {
     "name": "stderr",
     "output_type": "stream",
     "text": [
      "Train 4 | Loss:4.60e+00 | Acc: 0.24| F1: 0.24|: 100%|██████████| 28/28 [00:00<00:00, 68.79it/s]\n",
      "Val   4 | Loss:4.66e+00 | Acc: 0.20| F1: 0.21|: 100%|██████████| 12/12 [00:00<00:00, 121.81it/s]\n"
     ]
    },
    {
     "name": "stdout",
     "output_type": "stream",
     "text": [
      "----------------------------[Epoch5 finished!]----------------------------\n"
     ]
    },
    {
     "name": "stderr",
     "output_type": "stream",
     "text": [
      "Train 5 | Loss:3.89e+00 | Acc: 0.26| F1: 0.25|: 100%|██████████| 28/28 [00:00<00:00, 58.19it/s]\n",
      "Val   5 | Loss:4.02e+00 | Acc: 0.21| F1: 0.21|: 100%|██████████| 12/12 [00:00<00:00, 117.59it/s]\n"
     ]
    },
    {
     "name": "stdout",
     "output_type": "stream",
     "text": [
      "----------------------------[Epoch6 finished!]----------------------------\n"
     ]
    },
    {
     "name": "stderr",
     "output_type": "stream",
     "text": [
      "Train 6 | Loss:3.35e+00 | Acc: 0.26| F1: 0.26|: 100%|██████████| 28/28 [00:00<00:00, 58.08it/s]\n",
      "Val   6 | Loss:3.53e+00 | Acc: 0.23| F1: 0.23|: 100%|██████████| 12/12 [00:00<00:00, 139.43it/s]\n"
     ]
    },
    {
     "name": "stdout",
     "output_type": "stream",
     "text": [
      "----------------------------[Epoch7 finished!]----------------------------\n"
     ]
    },
    {
     "name": "stderr",
     "output_type": "stream",
     "text": [
      "Train 7 | Loss:2.93e+00 | Acc: 0.27| F1: 0.27|: 100%|██████████| 28/28 [00:00<00:00, 49.87it/s]\n",
      "Val   7 | Loss:3.15e+00 | Acc: 0.24| F1: 0.24|: 100%|██████████| 12/12 [00:00<00:00, 85.56it/s]\n"
     ]
    },
    {
     "name": "stdout",
     "output_type": "stream",
     "text": [
      "----------------------------[Epoch8 finished!]----------------------------\n"
     ]
    },
    {
     "name": "stderr",
     "output_type": "stream",
     "text": [
      "Train 8 | Loss:2.61e+00 | Acc: 0.29| F1: 0.29|: 100%|██████████| 28/28 [00:00<00:00, 69.58it/s]\n",
      "Val   8 | Loss:2.85e+00 | Acc: 0.25| F1: 0.25|: 100%|██████████| 12/12 [00:00<00:00, 160.80it/s]\n"
     ]
    },
    {
     "name": "stdout",
     "output_type": "stream",
     "text": [
      "----------------------------[Epoch9 finished!]----------------------------\n"
     ]
    },
    {
     "name": "stderr",
     "output_type": "stream",
     "text": [
      "Train 9 | Loss:2.36e+00 | Acc: 0.31| F1: 0.30|: 100%|██████████| 28/28 [00:00<00:00, 78.98it/s]\n",
      "Val   9 | Loss:2.63e+00 | Acc: 0.26| F1: 0.26|: 100%|██████████| 12/12 [00:00<00:00, 90.34it/s]\n"
     ]
    },
    {
     "name": "stdout",
     "output_type": "stream",
     "text": [
      "----------------------------[Epoch10 finished!]----------------------------\n"
     ]
    },
    {
     "name": "stderr",
     "output_type": "stream",
     "text": [
      "Train 10 | Loss:2.17e+00 | Acc: 0.33| F1: 0.32|: 100%|██████████| 28/28 [00:00<00:00, 61.00it/s]\n",
      "Val   10 | Loss:2.45e+00 | Acc: 0.27| F1: 0.27|: 100%|██████████| 12/12 [00:00<00:00, 76.20it/s]\n"
     ]
    },
    {
     "name": "stdout",
     "output_type": "stream",
     "text": [
      "----------------------------[Epoch11 finished!]----------------------------\n"
     ]
    },
    {
     "name": "stderr",
     "output_type": "stream",
     "text": [
      "Train 11 | Loss:2.02e+00 | Acc: 0.34| F1: 0.34|: 100%|██████████| 28/28 [00:00<00:00, 66.41it/s]\n",
      "Val   11 | Loss:2.32e+00 | Acc: 0.28| F1: 0.28|: 100%|██████████| 12/12 [00:00<00:00, 130.07it/s]\n"
     ]
    },
    {
     "name": "stdout",
     "output_type": "stream",
     "text": [
      "----------------------------[Epoch12 finished!]----------------------------\n"
     ]
    },
    {
     "name": "stderr",
     "output_type": "stream",
     "text": [
      "Train 12 | Loss:1.91e+00 | Acc: 0.36| F1: 0.35|: 100%|██████████| 28/28 [00:00<00:00, 67.16it/s]\n",
      "Val   12 | Loss:2.21e+00 | Acc: 0.29| F1: 0.29|: 100%|██████████| 12/12 [00:00<00:00, 121.76it/s]\n"
     ]
    },
    {
     "name": "stdout",
     "output_type": "stream",
     "text": [
      "----------------------------[Epoch13 finished!]----------------------------\n"
     ]
    },
    {
     "name": "stderr",
     "output_type": "stream",
     "text": [
      "Train 13 | Loss:1.82e+00 | Acc: 0.37| F1: 0.37|: 100%|██████████| 28/28 [00:00<00:00, 55.03it/s]\n",
      "Val   13 | Loss:2.13e+00 | Acc: 0.30| F1: 0.30|: 100%|██████████| 12/12 [00:00<00:00, 126.81it/s]\n"
     ]
    },
    {
     "name": "stdout",
     "output_type": "stream",
     "text": [
      "----------------------------[Epoch14 finished!]----------------------------\n"
     ]
    },
    {
     "name": "stderr",
     "output_type": "stream",
     "text": [
      "Train 14 | Loss:1.76e+00 | Acc: 0.39| F1: 0.39|: 100%|██████████| 28/28 [00:00<00:00, 66.73it/s]\n",
      "Val   14 | Loss:2.07e+00 | Acc: 0.31| F1: 0.31|: 100%|██████████| 12/12 [00:00<00:00, 99.44it/s] \n"
     ]
    },
    {
     "name": "stdout",
     "output_type": "stream",
     "text": [
      "----------------------------[Epoch15 finished!]----------------------------\n"
     ]
    },
    {
     "name": "stderr",
     "output_type": "stream",
     "text": [
      "Train 15 | Loss:1.71e+00 | Acc: 0.41| F1: 0.41|: 100%|██████████| 28/28 [00:00<00:00, 65.89it/s]\n",
      "Val   15 | Loss:2.03e+00 | Acc: 0.32| F1: 0.32|: 100%|██████████| 12/12 [00:00<00:00, 136.56it/s]\n"
     ]
    },
    {
     "name": "stdout",
     "output_type": "stream",
     "text": [
      "----------------------------[Epoch16 finished!]----------------------------\n"
     ]
    },
    {
     "name": "stderr",
     "output_type": "stream",
     "text": [
      "Train 16 | Loss:1.68e+00 | Acc: 0.42| F1: 0.41|: 100%|██████████| 28/28 [00:00<00:00, 73.57it/s]\n",
      "Val   16 | Loss:2.00e+00 | Acc: 0.32| F1: 0.32|: 100%|██████████| 12/12 [00:00<00:00, 105.20it/s]\n"
     ]
    },
    {
     "name": "stdout",
     "output_type": "stream",
     "text": [
      "----------------------------[Epoch17 finished!]----------------------------\n"
     ]
    },
    {
     "name": "stderr",
     "output_type": "stream",
     "text": [
      "Train 17 | Loss:1.65e+00 | Acc: 0.43| F1: 0.42|: 100%|██████████| 28/28 [00:00<00:00, 67.76it/s]\n",
      "Val   17 | Loss:1.97e+00 | Acc: 0.32| F1: 0.33|: 100%|██████████| 12/12 [00:00<00:00, 88.18it/s]\n"
     ]
    },
    {
     "name": "stdout",
     "output_type": "stream",
     "text": [
      "----------------------------[Epoch18 finished!]----------------------------\n"
     ]
    },
    {
     "name": "stderr",
     "output_type": "stream",
     "text": [
      "Train 18 | Loss:1.63e+00 | Acc: 0.44| F1: 0.44|: 100%|██████████| 28/28 [00:00<00:00, 64.25it/s]\n",
      "Val   18 | Loss:1.95e+00 | Acc: 0.32| F1: 0.32|: 100%|██████████| 12/12 [00:00<00:00, 104.43it/s]\n"
     ]
    },
    {
     "name": "stdout",
     "output_type": "stream",
     "text": [
      "----------------------------[Epoch19 finished!]----------------------------\n"
     ]
    },
    {
     "name": "stderr",
     "output_type": "stream",
     "text": [
      "Train 19 | Loss:1.61e+00 | Acc: 0.45| F1: 0.44|: 100%|██████████| 28/28 [00:00<00:00, 48.46it/s]\n",
      "Val   19 | Loss:1.94e+00 | Acc: 0.33| F1: 0.33|: 100%|██████████| 12/12 [00:00<00:00, 100.48it/s]\n"
     ]
    },
    {
     "name": "stdout",
     "output_type": "stream",
     "text": [
      "----------------------------[Epoch20 finished!]----------------------------\n"
     ]
    },
    {
     "name": "stderr",
     "output_type": "stream",
     "text": [
      "Train 20 | Loss:1.60e+00 | Acc: 0.45| F1: 0.45|: 100%|██████████| 28/28 [00:00<00:00, 68.85it/s]\n",
      "Val   20 | Loss:1.93e+00 | Acc: 0.32| F1: 0.32|: 100%|██████████| 12/12 [00:00<00:00, 121.32it/s]\n"
     ]
    },
    {
     "name": "stdout",
     "output_type": "stream",
     "text": [
      "----------------------------[Epoch21 finished!]----------------------------\n"
     ]
    },
    {
     "name": "stderr",
     "output_type": "stream",
     "text": [
      "Train 21 | Loss:1.59e+00 | Acc: 0.46| F1: 0.45|: 100%|██████████| 28/28 [00:00<00:00, 67.75it/s]\n",
      "Val   21 | Loss:1.92e+00 | Acc: 0.33| F1: 0.33|: 100%|██████████| 12/12 [00:00<00:00, 134.34it/s]\n"
     ]
    },
    {
     "name": "stdout",
     "output_type": "stream",
     "text": [
      "----------------------------[Epoch22 finished!]----------------------------\n"
     ]
    },
    {
     "name": "stderr",
     "output_type": "stream",
     "text": [
      "Train 22 | Loss:1.58e+00 | Acc: 0.46| F1: 0.46|: 100%|██████████| 28/28 [00:00<00:00, 67.12it/s]\n",
      "Val   22 | Loss:1.91e+00 | Acc: 0.34| F1: 0.34|: 100%|██████████| 12/12 [00:00<00:00, 93.08it/s]\n"
     ]
    },
    {
     "name": "stdout",
     "output_type": "stream",
     "text": [
      "----------------------------[Epoch23 finished!]----------------------------\n"
     ]
    },
    {
     "name": "stderr",
     "output_type": "stream",
     "text": [
      "Train 23 | Loss:1.58e+00 | Acc: 0.46| F1: 0.46|: 100%|██████████| 28/28 [00:00<00:00, 58.73it/s]\n",
      "Val   23 | Loss:1.91e+00 | Acc: 0.34| F1: 0.34|: 100%|██████████| 12/12 [00:00<00:00, 121.26it/s]\n"
     ]
    },
    {
     "name": "stdout",
     "output_type": "stream",
     "text": [
      "----------------------------[Epoch24 finished!]----------------------------\n"
     ]
    },
    {
     "name": "stderr",
     "output_type": "stream",
     "text": [
      "Train 24 | Loss:1.57e+00 | Acc: 0.47| F1: 0.46|: 100%|██████████| 28/28 [00:00<00:00, 54.76it/s]\n",
      "Val   24 | Loss:1.90e+00 | Acc: 0.34| F1: 0.34|: 100%|██████████| 12/12 [00:00<00:00, 131.36it/s]\n"
     ]
    },
    {
     "name": "stdout",
     "output_type": "stream",
     "text": [
      "----------------------------[Epoch25 finished!]----------------------------\n"
     ]
    },
    {
     "name": "stderr",
     "output_type": "stream",
     "text": [
      "Train 25 | Loss:1.57e+00 | Acc: 0.47| F1: 0.47|: 100%|██████████| 28/28 [00:00<00:00, 69.44it/s]\n",
      "Val   25 | Loss:1.90e+00 | Acc: 0.34| F1: 0.35|: 100%|██████████| 12/12 [00:00<00:00, 111.27it/s]\n"
     ]
    },
    {
     "name": "stdout",
     "output_type": "stream",
     "text": [
      "----------------------------[Epoch26 finished!]----------------------------\n"
     ]
    },
    {
     "name": "stderr",
     "output_type": "stream",
     "text": [
      "Train 26 | Loss:1.56e+00 | Acc: 0.47| F1: 0.47|: 100%|██████████| 28/28 [00:00<00:00, 64.75it/s]\n",
      "Val   26 | Loss:1.90e+00 | Acc: 0.35| F1: 0.35|: 100%|██████████| 12/12 [00:00<00:00, 121.08it/s]\n"
     ]
    },
    {
     "name": "stdout",
     "output_type": "stream",
     "text": [
      "----------------------------[Epoch27 finished!]----------------------------\n"
     ]
    },
    {
     "name": "stderr",
     "output_type": "stream",
     "text": [
      "Train 27 | Loss:1.56e+00 | Acc: 0.48| F1: 0.47|: 100%|██████████| 28/28 [00:00<00:00, 70.60it/s]\n",
      "Val   27 | Loss:1.90e+00 | Acc: 0.34| F1: 0.35|: 100%|██████████| 12/12 [00:00<00:00, 120.30it/s]\n"
     ]
    },
    {
     "name": "stdout",
     "output_type": "stream",
     "text": [
      "----------------------------[Epoch28 finished!]----------------------------\n"
     ]
    },
    {
     "name": "stderr",
     "output_type": "stream",
     "text": [
      "Train 28 | Loss:1.56e+00 | Acc: 0.48| F1: 0.47|: 100%|██████████| 28/28 [00:00<00:00, 56.21it/s]\n",
      "Val   28 | Loss:1.90e+00 | Acc: 0.34| F1: 0.34|: 100%|██████████| 12/12 [00:00<00:00, 122.05it/s]\n"
     ]
    },
    {
     "name": "stdout",
     "output_type": "stream",
     "text": [
      "----------------------------[Epoch29 finished!]----------------------------\n"
     ]
    },
    {
     "name": "stderr",
     "output_type": "stream",
     "text": [
      "Train 29 | Loss:1.56e+00 | Acc: 0.48| F1: 0.47|: 100%|██████████| 28/28 [00:00<00:00, 60.56it/s]\n",
      "Val   29 | Loss:1.90e+00 | Acc: 0.34| F1: 0.34|: 100%|██████████| 12/12 [00:00<00:00, 118.13it/s]\n"
     ]
    },
    {
     "name": "stdout",
     "output_type": "stream",
     "text": [
      "----------------------------[Epoch30 finished!]----------------------------\n"
     ]
    },
    {
     "name": "stderr",
     "output_type": "stream",
     "text": [
      "Train 30 | Loss:1.56e+00 | Acc: 0.48| F1: 0.48|: 100%|██████████| 28/28 [00:00<00:00, 64.37it/s]\n",
      "Val   30 | Loss:1.90e+00 | Acc: 0.34| F1: 0.34|: 100%|██████████| 12/12 [00:00<00:00, 120.25it/s]\n"
     ]
    },
    {
     "name": "stdout",
     "output_type": "stream",
     "text": [
      "----------------------------[Epoch31 finished!]----------------------------\n"
     ]
    },
    {
     "name": "stderr",
     "output_type": "stream",
     "text": [
      "Train 31 | Loss:1.56e+00 | Acc: 0.48| F1: 0.48|: 100%|██████████| 28/28 [00:00<00:00, 64.91it/s]\n",
      "Val   31 | Loss:1.90e+00 | Acc: 0.34| F1: 0.34|: 100%|██████████| 12/12 [00:00<00:00, 120.75it/s]\n"
     ]
    },
    {
     "name": "stdout",
     "output_type": "stream",
     "text": [
      "----------------------------[Epoch32 finished!]----------------------------\n"
     ]
    },
    {
     "name": "stderr",
     "output_type": "stream",
     "text": [
      "Train 32 | Loss:1.56e+00 | Acc: 0.48| F1: 0.48|: 100%|██████████| 28/28 [00:00<00:00, 60.76it/s]\n",
      "Val   32 | Loss:1.90e+00 | Acc: 0.34| F1: 0.34|: 100%|██████████| 12/12 [00:00<00:00, 138.79it/s]\n"
     ]
    },
    {
     "name": "stdout",
     "output_type": "stream",
     "text": [
      "----------------------------[Epoch33 finished!]----------------------------\n"
     ]
    },
    {
     "name": "stderr",
     "output_type": "stream",
     "text": [
      "Train 33 | Loss:1.56e+00 | Acc: 0.48| F1: 0.48|: 100%|██████████| 28/28 [00:00<00:00, 59.53it/s]\n",
      "Val   33 | Loss:1.90e+00 | Acc: 0.34| F1: 0.34|: 100%|██████████| 12/12 [00:00<00:00, 68.96it/s]\n"
     ]
    },
    {
     "name": "stdout",
     "output_type": "stream",
     "text": [
      "----------------------------[Epoch34 finished!]----------------------------\n"
     ]
    },
    {
     "name": "stderr",
     "output_type": "stream",
     "text": [
      "Train 34 | Loss:1.56e+00 | Acc: 0.48| F1: 0.48|: 100%|██████████| 28/28 [00:00<00:00, 46.36it/s]\n",
      "Val   34 | Loss:1.90e+00 | Acc: 0.34| F1: 0.34|: 100%|██████████| 12/12 [00:00<00:00, 109.12it/s]\n"
     ]
    },
    {
     "name": "stdout",
     "output_type": "stream",
     "text": [
      "----------------------------[Epoch35 finished!]----------------------------\n"
     ]
    },
    {
     "name": "stderr",
     "output_type": "stream",
     "text": [
      "Train 35 | Loss:1.56e+00 | Acc: 0.48| F1: 0.48|: 100%|██████████| 28/28 [00:00<00:00, 57.25it/s]\n",
      "Val   35 | Loss:1.90e+00 | Acc: 0.34| F1: 0.34|: 100%|██████████| 12/12 [00:00<00:00, 86.95it/s]\n"
     ]
    },
    {
     "name": "stdout",
     "output_type": "stream",
     "text": [
      "----------------------------[Epoch36 finished!]----------------------------\n"
     ]
    },
    {
     "name": "stderr",
     "output_type": "stream",
     "text": [
      "Train 36 | Loss:1.56e+00 | Acc: 0.48| F1: 0.48|: 100%|██████████| 28/28 [00:00<00:00, 45.42it/s]\n",
      "Val   36 | Loss:1.90e+00 | Acc: 0.34| F1: 0.34|: 100%|██████████| 12/12 [00:00<00:00, 52.89it/s]\n"
     ]
    },
    {
     "name": "stdout",
     "output_type": "stream",
     "text": [
      "----------------------------[Epoch37 finished!]----------------------------\n"
     ]
    },
    {
     "name": "stderr",
     "output_type": "stream",
     "text": [
      "Train 37 | Loss:1.55e+00 | Acc: 0.48| F1: 0.48|: 100%|██████████| 28/28 [00:00<00:00, 33.37it/s]\n",
      "Val   37 | Loss:1.90e+00 | Acc: 0.34| F1: 0.34|: 100%|██████████| 12/12 [00:00<00:00, 58.96it/s]\n"
     ]
    },
    {
     "name": "stdout",
     "output_type": "stream",
     "text": [
      "----------------------------[Epoch38 finished!]----------------------------\n"
     ]
    },
    {
     "name": "stderr",
     "output_type": "stream",
     "text": [
      "Train 38 | Loss:1.55e+00 | Acc: 0.48| F1: 0.48|: 100%|██████████| 28/28 [00:00<00:00, 33.15it/s]\n",
      "Val   38 | Loss:1.90e+00 | Acc: 0.34| F1: 0.34|: 100%|██████████| 12/12 [00:00<00:00, 60.66it/s]\n"
     ]
    },
    {
     "name": "stdout",
     "output_type": "stream",
     "text": [
      "----------------------------[Epoch39 finished!]----------------------------\n"
     ]
    },
    {
     "name": "stderr",
     "output_type": "stream",
     "text": [
      "Train 39 | Loss:1.55e+00 | Acc: 0.48| F1: 0.48|: 100%|██████████| 28/28 [00:00<00:00, 33.97it/s]\n",
      "Val   39 | Loss:1.90e+00 | Acc: 0.34| F1: 0.34|: 100%|██████████| 12/12 [00:00<00:00, 40.05it/s]\n"
     ]
    },
    {
     "name": "stdout",
     "output_type": "stream",
     "text": [
      "----------------------------[Epoch40 finished!]----------------------------\n"
     ]
    },
    {
     "name": "stderr",
     "output_type": "stream",
     "text": [
      "Train 40 | Loss:1.55e+00 | Acc: 0.48| F1: 0.48|: 100%|██████████| 28/28 [00:00<00:00, 44.30it/s]\n",
      "Val   40 | Loss:1.90e+00 | Acc: 0.34| F1: 0.34|: 100%|██████████| 12/12 [00:00<00:00, 51.66it/s]\n"
     ]
    },
    {
     "name": "stdout",
     "output_type": "stream",
     "text": [
      "----------------------------[Epoch41 finished!]----------------------------\n"
     ]
    },
    {
     "name": "stderr",
     "output_type": "stream",
     "text": [
      "Train 41 | Loss:1.55e+00 | Acc: 0.49| F1: 0.48|: 100%|██████████| 28/28 [00:00<00:00, 36.99it/s]\n",
      "Val   41 | Loss:1.90e+00 | Acc: 0.34| F1: 0.34|: 100%|██████████| 12/12 [00:00<00:00, 36.29it/s]\n"
     ]
    },
    {
     "name": "stdout",
     "output_type": "stream",
     "text": [
      "----------------------------[Epoch42 finished!]----------------------------\n"
     ]
    },
    {
     "name": "stderr",
     "output_type": "stream",
     "text": [
      "Train 42 | Loss:1.55e+00 | Acc: 0.49| F1: 0.48|: 100%|██████████| 28/28 [00:00<00:00, 35.43it/s]\n",
      "Val   42 | Loss:1.90e+00 | Acc: 0.34| F1: 0.34|: 100%|██████████| 12/12 [00:00<00:00, 41.36it/s]\n"
     ]
    },
    {
     "name": "stdout",
     "output_type": "stream",
     "text": [
      "----------------------------[Epoch43 finished!]----------------------------\n"
     ]
    },
    {
     "name": "stderr",
     "output_type": "stream",
     "text": [
      "Train 43 | Loss:1.55e+00 | Acc: 0.49| F1: 0.48|: 100%|██████████| 28/28 [00:00<00:00, 35.16it/s]\n",
      "Val   43 | Loss:1.90e+00 | Acc: 0.34| F1: 0.34|: 100%|██████████| 12/12 [00:00<00:00, 51.52it/s]\n"
     ]
    },
    {
     "name": "stdout",
     "output_type": "stream",
     "text": [
      "----------------------------[Epoch44 finished!]----------------------------\n"
     ]
    },
    {
     "name": "stderr",
     "output_type": "stream",
     "text": [
      "Train 44 | Loss:1.55e+00 | Acc: 0.48| F1: 0.48|: 100%|██████████| 28/28 [00:00<00:00, 43.59it/s]\n",
      "Val   44 | Loss:1.90e+00 | Acc: 0.34| F1: 0.34|: 100%|██████████| 12/12 [00:00<00:00, 147.76it/s]\n"
     ]
    },
    {
     "name": "stdout",
     "output_type": "stream",
     "text": [
      "----------------------------[Epoch45 finished!]----------------------------\n"
     ]
    },
    {
     "name": "stderr",
     "output_type": "stream",
     "text": [
      "Train 45 | Loss:1.55e+00 | Acc: 0.48| F1: 0.48|: 100%|██████████| 28/28 [00:00<00:00, 71.03it/s]\n",
      "Val   45 | Loss:1.90e+00 | Acc: 0.34| F1: 0.34|: 100%|██████████| 12/12 [00:00<00:00, 49.80it/s]\n"
     ]
    },
    {
     "name": "stdout",
     "output_type": "stream",
     "text": [
      "----------------------------[Epoch46 finished!]----------------------------\n"
     ]
    },
    {
     "name": "stderr",
     "output_type": "stream",
     "text": [
      "Train 46 | Loss:1.55e+00 | Acc: 0.48| F1: 0.48|: 100%|██████████| 28/28 [00:00<00:00, 66.89it/s]\n",
      "Val   46 | Loss:1.90e+00 | Acc: 0.34| F1: 0.34|: 100%|██████████| 12/12 [00:00<00:00, 109.80it/s]\n"
     ]
    },
    {
     "name": "stdout",
     "output_type": "stream",
     "text": [
      "----------------------------[Epoch47 finished!]----------------------------\n"
     ]
    },
    {
     "name": "stderr",
     "output_type": "stream",
     "text": [
      "Train 47 | Loss:1.55e+00 | Acc: 0.49| F1: 0.48|: 100%|██████████| 28/28 [00:00<00:00, 44.92it/s]\n",
      "Val   47 | Loss:1.90e+00 | Acc: 0.34| F1: 0.34|: 100%|██████████| 12/12 [00:00<00:00, 62.18it/s]\n"
     ]
    },
    {
     "name": "stdout",
     "output_type": "stream",
     "text": [
      "----------------------------[Epoch48 finished!]----------------------------\n"
     ]
    },
    {
     "name": "stderr",
     "output_type": "stream",
     "text": [
      "Train 48 | Loss:1.55e+00 | Acc: 0.49| F1: 0.48|: 100%|██████████| 28/28 [00:00<00:00, 38.99it/s]\n",
      "Val   48 | Loss:1.90e+00 | Acc: 0.34| F1: 0.34|: 100%|██████████| 12/12 [00:00<00:00, 62.05it/s]\n"
     ]
    },
    {
     "name": "stdout",
     "output_type": "stream",
     "text": [
      "----------------------------[Epoch49 finished!]----------------------------\n"
     ]
    },
    {
     "name": "stderr",
     "output_type": "stream",
     "text": [
      "Train 49 | Loss:1.55e+00 | Acc: 0.48| F1: 0.48|: 100%|██████████| 28/28 [00:00<00:00, 40.69it/s]\n",
      "Val   49 | Loss:1.90e+00 | Acc: 0.34| F1: 0.34|: 100%|██████████| 12/12 [00:00<00:00, 61.91it/s]\n"
     ]
    },
    {
     "name": "stdout",
     "output_type": "stream",
     "text": [
      "----------------------------[Epoch50 finished!]----------------------------\n"
     ]
    },
    {
     "name": "stderr",
     "output_type": "stream",
     "text": [
      "Train 50 | Loss:1.55e+00 | Acc: 0.48| F1: 0.48|: 100%|██████████| 28/28 [00:00<00:00, 37.13it/s]\n",
      "Val   50 | Loss:1.90e+00 | Acc: 0.34| F1: 0.34|: 100%|██████████| 12/12 [00:00<00:00, 68.29it/s]\n"
     ]
    },
    {
     "name": "stdout",
     "output_type": "stream",
     "text": [
      "----------------------------[Epoch51 finished!]----------------------------\n"
     ]
    },
    {
     "name": "stderr",
     "output_type": "stream",
     "text": [
      "Train 51 | Loss:1.55e+00 | Acc: 0.49| F1: 0.48|: 100%|██████████| 28/28 [00:00<00:00, 44.34it/s]\n",
      "Val   51 | Loss:1.90e+00 | Acc: 0.34| F1: 0.34|: 100%|██████████| 12/12 [00:00<00:00, 59.45it/s]\n"
     ]
    },
    {
     "name": "stdout",
     "output_type": "stream",
     "text": [
      "----------------------------[Epoch52 finished!]----------------------------\n"
     ]
    },
    {
     "name": "stderr",
     "output_type": "stream",
     "text": [
      "Train 52 | Loss:1.55e+00 | Acc: 0.49| F1: 0.48|: 100%|██████████| 28/28 [00:00<00:00, 37.60it/s]\n",
      "Val   52 | Loss:1.90e+00 | Acc: 0.34| F1: 0.34|: 100%|██████████| 12/12 [00:00<00:00, 133.61it/s]\n"
     ]
    },
    {
     "name": "stdout",
     "output_type": "stream",
     "text": [
      "----------------------------[Epoch53 finished!]----------------------------\n"
     ]
    },
    {
     "name": "stderr",
     "output_type": "stream",
     "text": [
      "Train 53 | Loss:1.55e+00 | Acc: 0.49| F1: 0.48|: 100%|██████████| 28/28 [00:00<00:00, 66.96it/s]\n",
      "Val   53 | Loss:1.90e+00 | Acc: 0.34| F1: 0.34|: 100%|██████████| 12/12 [00:00<00:00, 69.54it/s]\n"
     ]
    },
    {
     "name": "stdout",
     "output_type": "stream",
     "text": [
      "----------------------------[Epoch54 finished!]----------------------------\n"
     ]
    },
    {
     "name": "stderr",
     "output_type": "stream",
     "text": [
      "Train 54 | Loss:1.55e+00 | Acc: 0.49| F1: 0.48|: 100%|██████████| 28/28 [00:00<00:00, 39.24it/s]\n",
      "Val   54 | Loss:1.90e+00 | Acc: 0.34| F1: 0.34|: 100%|██████████| 12/12 [00:00<00:00, 64.14it/s]\n"
     ]
    },
    {
     "name": "stdout",
     "output_type": "stream",
     "text": [
      "----------------------------[Epoch55 finished!]----------------------------\n"
     ]
    },
    {
     "name": "stderr",
     "output_type": "stream",
     "text": [
      "Train 55 | Loss:1.55e+00 | Acc: 0.49| F1: 0.48|: 100%|██████████| 28/28 [00:00<00:00, 37.32it/s]\n",
      "Val   55 | Loss:1.90e+00 | Acc: 0.34| F1: 0.34|: 100%|██████████| 12/12 [00:00<00:00, 71.85it/s]\n"
     ]
    },
    {
     "name": "stdout",
     "output_type": "stream",
     "text": [
      "----------------------------[Epoch56 finished!]----------------------------\n"
     ]
    },
    {
     "name": "stderr",
     "output_type": "stream",
     "text": [
      "Train 56 | Loss:1.55e+00 | Acc: 0.49| F1: 0.48|: 100%|██████████| 28/28 [00:00<00:00, 43.95it/s]\n",
      "Val   56 | Loss:1.90e+00 | Acc: 0.34| F1: 0.34|: 100%|██████████| 12/12 [00:00<00:00, 80.80it/s]\n"
     ]
    },
    {
     "name": "stdout",
     "output_type": "stream",
     "text": [
      "----------------------------[Epoch57 finished!]----------------------------\n"
     ]
    },
    {
     "name": "stderr",
     "output_type": "stream",
     "text": [
      "Train 57 | Loss:1.55e+00 | Acc: 0.49| F1: 0.48|: 100%|██████████| 28/28 [00:00<00:00, 45.46it/s]\n",
      "Val   57 | Loss:1.90e+00 | Acc: 0.33| F1: 0.34|: 100%|██████████| 12/12 [00:00<00:00, 80.77it/s]\n"
     ]
    },
    {
     "name": "stdout",
     "output_type": "stream",
     "text": [
      "----------------------------[Epoch58 finished!]----------------------------\n"
     ]
    },
    {
     "name": "stderr",
     "output_type": "stream",
     "text": [
      "Train 58 | Loss:1.55e+00 | Acc: 0.49| F1: 0.48|: 100%|██████████| 28/28 [00:00<00:00, 43.49it/s]\n",
      "Val   58 | Loss:1.90e+00 | Acc: 0.33| F1: 0.34|: 100%|██████████| 12/12 [00:00<00:00, 71.09it/s]\n"
     ]
    },
    {
     "name": "stdout",
     "output_type": "stream",
     "text": [
      "----------------------------[Epoch59 finished!]----------------------------\n"
     ]
    },
    {
     "name": "stderr",
     "output_type": "stream",
     "text": [
      "Train 59 | Loss:1.55e+00 | Acc: 0.49| F1: 0.48|: 100%|██████████| 28/28 [00:00<00:00, 44.07it/s]\n",
      "Val   59 | Loss:1.90e+00 | Acc: 0.33| F1: 0.34|: 100%|██████████| 12/12 [00:00<00:00, 81.09it/s]\n"
     ]
    },
    {
     "name": "stdout",
     "output_type": "stream",
     "text": [
      "----------------------------[Epoch60 finished!]----------------------------\n"
     ]
    },
    {
     "name": "stderr",
     "output_type": "stream",
     "text": [
      "Train 60 | Loss:1.55e+00 | Acc: 0.49| F1: 0.48|: 100%|██████████| 28/28 [00:00<00:00, 45.48it/s]\n",
      "Val   60 | Loss:1.90e+00 | Acc: 0.33| F1: 0.34|: 100%|██████████| 12/12 [00:00<00:00, 79.14it/s]\n"
     ]
    },
    {
     "name": "stdout",
     "output_type": "stream",
     "text": [
      "----------------------------[Epoch61 finished!]----------------------------\n"
     ]
    },
    {
     "name": "stderr",
     "output_type": "stream",
     "text": [
      "Train 61 | Loss:1.55e+00 | Acc: 0.49| F1: 0.48|: 100%|██████████| 28/28 [00:00<00:00, 45.84it/s]\n",
      "Val   61 | Loss:1.90e+00 | Acc: 0.33| F1: 0.34|: 100%|██████████| 12/12 [00:00<00:00, 69.32it/s]\n"
     ]
    },
    {
     "name": "stdout",
     "output_type": "stream",
     "text": [
      "----------------------------[Epoch62 finished!]----------------------------\n"
     ]
    },
    {
     "name": "stderr",
     "output_type": "stream",
     "text": [
      "Train 62 | Loss:1.55e+00 | Acc: 0.49| F1: 0.48|: 100%|██████████| 28/28 [00:00<00:00, 34.18it/s]\n",
      "Val   62 | Loss:1.90e+00 | Acc: 0.33| F1: 0.34|: 100%|██████████| 12/12 [00:00<00:00, 59.96it/s]\n"
     ]
    },
    {
     "name": "stdout",
     "output_type": "stream",
     "text": [
      "----------------------------[Epoch63 finished!]----------------------------\n"
     ]
    },
    {
     "name": "stderr",
     "output_type": "stream",
     "text": [
      "Train 63 | Loss:1.55e+00 | Acc: 0.49| F1: 0.48|: 100%|██████████| 28/28 [00:00<00:00, 50.81it/s]\n",
      "Val   63 | Loss:1.90e+00 | Acc: 0.33| F1: 0.34|: 100%|██████████| 12/12 [00:00<00:00, 179.85it/s]\n"
     ]
    },
    {
     "name": "stdout",
     "output_type": "stream",
     "text": [
      "----------------------------[Epoch64 finished!]----------------------------\n"
     ]
    },
    {
     "name": "stderr",
     "output_type": "stream",
     "text": [
      "Train 64 | Loss:1.55e+00 | Acc: 0.49| F1: 0.48|: 100%|██████████| 28/28 [00:00<00:00, 49.89it/s]\n",
      "Val   64 | Loss:1.90e+00 | Acc: 0.33| F1: 0.34|: 100%|██████████| 12/12 [00:00<00:00, 110.33it/s]\n"
     ]
    },
    {
     "name": "stdout",
     "output_type": "stream",
     "text": [
      "----------------------------[Epoch65 finished!]----------------------------\n"
     ]
    },
    {
     "name": "stderr",
     "output_type": "stream",
     "text": [
      "Train 65 | Loss:1.55e+00 | Acc: 0.49| F1: 0.48|: 100%|██████████| 28/28 [00:00<00:00, 65.06it/s]\n",
      "Val   65 | Loss:1.90e+00 | Acc: 0.33| F1: 0.34|: 100%|██████████| 12/12 [00:00<00:00, 119.86it/s]\n"
     ]
    },
    {
     "name": "stdout",
     "output_type": "stream",
     "text": [
      "----------------------------[Epoch66 finished!]----------------------------\n"
     ]
    },
    {
     "name": "stderr",
     "output_type": "stream",
     "text": [
      "Train 66 | Loss:1.55e+00 | Acc: 0.49| F1: 0.48|: 100%|██████████| 28/28 [00:00<00:00, 38.62it/s]\n",
      "Val   66 | Loss:1.90e+00 | Acc: 0.33| F1: 0.34|: 100%|██████████| 12/12 [00:00<00:00, 69.97it/s]\n"
     ]
    },
    {
     "name": "stdout",
     "output_type": "stream",
     "text": [
      "----------------------------[Epoch67 finished!]----------------------------\n"
     ]
    },
    {
     "name": "stderr",
     "output_type": "stream",
     "text": [
      "Train 67 | Loss:1.55e+00 | Acc: 0.49| F1: 0.48|: 100%|██████████| 28/28 [00:00<00:00, 47.20it/s]\n",
      "Val   67 | Loss:1.90e+00 | Acc: 0.33| F1: 0.33|: 100%|██████████| 12/12 [00:00<00:00, 59.67it/s]\n"
     ]
    },
    {
     "name": "stdout",
     "output_type": "stream",
     "text": [
      "----------------------------[Epoch68 finished!]----------------------------\n"
     ]
    },
    {
     "name": "stderr",
     "output_type": "stream",
     "text": [
      "Train 68 | Loss:1.55e+00 | Acc: 0.49| F1: 0.48|: 100%|██████████| 28/28 [00:00<00:00, 33.02it/s]\n",
      "Val   68 | Loss:1.90e+00 | Acc: 0.33| F1: 0.33|: 100%|██████████| 12/12 [00:00<00:00, 64.18it/s]\n"
     ]
    },
    {
     "name": "stdout",
     "output_type": "stream",
     "text": [
      "----------------------------[Epoch69 finished!]----------------------------\n"
     ]
    },
    {
     "name": "stderr",
     "output_type": "stream",
     "text": [
      "Train 69 | Loss:1.55e+00 | Acc: 0.49| F1: 0.48|: 100%|██████████| 28/28 [00:00<00:00, 36.67it/s]\n",
      "Val   69 | Loss:1.90e+00 | Acc: 0.33| F1: 0.33|: 100%|██████████| 12/12 [00:00<00:00, 58.73it/s]\n"
     ]
    },
    {
     "name": "stdout",
     "output_type": "stream",
     "text": [
      "----------------------------[Epoch70 finished!]----------------------------\n"
     ]
    },
    {
     "name": "stderr",
     "output_type": "stream",
     "text": [
      "Train 70 | Loss:1.55e+00 | Acc: 0.49| F1: 0.48|: 100%|██████████| 28/28 [00:00<00:00, 34.24it/s]\n",
      "Val   70 | Loss:1.90e+00 | Acc: 0.33| F1: 0.33|: 100%|██████████| 12/12 [00:00<00:00, 68.21it/s]\n"
     ]
    },
    {
     "name": "stdout",
     "output_type": "stream",
     "text": [
      "----------------------------[Epoch71 finished!]----------------------------\n"
     ]
    },
    {
     "name": "stderr",
     "output_type": "stream",
     "text": [
      "Train 71 | Loss:1.55e+00 | Acc: 0.49| F1: 0.48|: 100%|██████████| 28/28 [00:00<00:00, 44.72it/s]\n",
      "Val   71 | Loss:1.90e+00 | Acc: 0.33| F1: 0.33|: 100%|██████████| 12/12 [00:00<00:00, 82.04it/s]\n"
     ]
    },
    {
     "name": "stdout",
     "output_type": "stream",
     "text": [
      "----------------------------[Epoch72 finished!]----------------------------\n"
     ]
    },
    {
     "name": "stderr",
     "output_type": "stream",
     "text": [
      "Train 72 | Loss:1.55e+00 | Acc: 0.49| F1: 0.48|: 100%|██████████| 28/28 [00:00<00:00, 45.38it/s]\n",
      "Val   72 | Loss:1.90e+00 | Acc: 0.33| F1: 0.33|: 100%|██████████| 12/12 [00:00<00:00, 79.02it/s]\n"
     ]
    },
    {
     "name": "stdout",
     "output_type": "stream",
     "text": [
      "----------------------------[Epoch73 finished!]----------------------------\n"
     ]
    },
    {
     "name": "stderr",
     "output_type": "stream",
     "text": [
      "Train 73 | Loss:1.55e+00 | Acc: 0.49| F1: 0.48|: 100%|██████████| 28/28 [00:00<00:00, 43.89it/s]\n",
      "Val   73 | Loss:1.90e+00 | Acc: 0.33| F1: 0.33|: 100%|██████████| 12/12 [00:00<00:00, 64.50it/s]\n"
     ]
    },
    {
     "name": "stdout",
     "output_type": "stream",
     "text": [
      "----------------------------[Epoch74 finished!]----------------------------\n"
     ]
    },
    {
     "name": "stderr",
     "output_type": "stream",
     "text": [
      "Train 74 | Loss:1.55e+00 | Acc: 0.49| F1: 0.48|: 100%|██████████| 28/28 [00:00<00:00, 35.92it/s]\n",
      "Val   74 | Loss:1.90e+00 | Acc: 0.33| F1: 0.33|: 100%|██████████| 12/12 [00:00<00:00, 56.53it/s]\n"
     ]
    },
    {
     "name": "stdout",
     "output_type": "stream",
     "text": [
      "----------------------------[Epoch75 finished!]----------------------------\n"
     ]
    },
    {
     "name": "stderr",
     "output_type": "stream",
     "text": [
      "Train 75 | Loss:1.55e+00 | Acc: 0.49| F1: 0.48|: 100%|██████████| 28/28 [00:00<00:00, 44.13it/s]\n",
      "Val   75 | Loss:1.90e+00 | Acc: 0.33| F1: 0.33|: 100%|██████████| 12/12 [00:00<00:00, 64.43it/s]\n"
     ]
    },
    {
     "name": "stdout",
     "output_type": "stream",
     "text": [
      "----------------------------[Epoch76 finished!]----------------------------\n"
     ]
    },
    {
     "name": "stderr",
     "output_type": "stream",
     "text": [
      "Train 76 | Loss:1.55e+00 | Acc: 0.49| F1: 0.48|: 100%|██████████| 28/28 [00:00<00:00, 36.63it/s]\n",
      "Val   76 | Loss:1.90e+00 | Acc: 0.33| F1: 0.34|: 100%|██████████| 12/12 [00:00<00:00, 60.29it/s]\n"
     ]
    },
    {
     "name": "stdout",
     "output_type": "stream",
     "text": [
      "----------------------------[Epoch77 finished!]----------------------------\n"
     ]
    },
    {
     "name": "stderr",
     "output_type": "stream",
     "text": [
      "Train 77 | Loss:1.55e+00 | Acc: 0.49| F1: 0.48|: 100%|██████████| 28/28 [00:00<00:00, 36.76it/s]\n",
      "Val   77 | Loss:1.90e+00 | Acc: 0.33| F1: 0.34|: 100%|██████████| 12/12 [00:00<00:00, 69.77it/s]\n"
     ]
    },
    {
     "name": "stdout",
     "output_type": "stream",
     "text": [
      "----------------------------[Epoch78 finished!]----------------------------\n"
     ]
    },
    {
     "name": "stderr",
     "output_type": "stream",
     "text": [
      "Train 78 | Loss:1.55e+00 | Acc: 0.49| F1: 0.48|: 100%|██████████| 28/28 [00:00<00:00, 37.84it/s]\n",
      "Val   78 | Loss:1.90e+00 | Acc: 0.33| F1: 0.34|: 100%|██████████| 12/12 [00:00<00:00, 55.62it/s]\n"
     ]
    },
    {
     "name": "stdout",
     "output_type": "stream",
     "text": [
      "----------------------------[Epoch79 finished!]----------------------------\n"
     ]
    },
    {
     "name": "stderr",
     "output_type": "stream",
     "text": [
      "Train 79 | Loss:1.55e+00 | Acc: 0.49| F1: 0.48|: 100%|██████████| 28/28 [00:00<00:00, 34.21it/s]\n",
      "Val   79 | Loss:1.90e+00 | Acc: 0.33| F1: 0.34|: 100%|██████████| 12/12 [00:00<00:00, 68.93it/s]\n"
     ]
    },
    {
     "name": "stdout",
     "output_type": "stream",
     "text": [
      "----------------------------[Epoch80 finished!]----------------------------\n"
     ]
    },
    {
     "name": "stderr",
     "output_type": "stream",
     "text": [
      "Train 80 | Loss:1.55e+00 | Acc: 0.49| F1: 0.48|: 100%|██████████| 28/28 [00:00<00:00, 37.71it/s]\n",
      "Val   80 | Loss:1.90e+00 | Acc: 0.33| F1: 0.34|: 100%|██████████| 12/12 [00:00<00:00, 65.68it/s]\n"
     ]
    },
    {
     "name": "stdout",
     "output_type": "stream",
     "text": [
      "----------------------------[Epoch81 finished!]----------------------------\n"
     ]
    },
    {
     "name": "stderr",
     "output_type": "stream",
     "text": [
      "Train 81 | Loss:1.55e+00 | Acc: 0.49| F1: 0.48|: 100%|██████████| 28/28 [00:00<00:00, 42.43it/s]\n",
      "Val   81 | Loss:1.90e+00 | Acc: 0.33| F1: 0.34|: 100%|██████████| 12/12 [00:00<00:00, 81.14it/s]\n"
     ]
    },
    {
     "name": "stdout",
     "output_type": "stream",
     "text": [
      "----------------------------[Epoch82 finished!]----------------------------\n"
     ]
    },
    {
     "name": "stderr",
     "output_type": "stream",
     "text": [
      "Train 82 | Loss:1.55e+00 | Acc: 0.49| F1: 0.48|: 100%|██████████| 28/28 [00:00<00:00, 47.66it/s]\n",
      "Val   82 | Loss:1.90e+00 | Acc: 0.33| F1: 0.34|: 100%|██████████| 12/12 [00:00<00:00, 123.34it/s]\n"
     ]
    },
    {
     "name": "stdout",
     "output_type": "stream",
     "text": [
      "----------------------------[Epoch83 finished!]----------------------------\n"
     ]
    },
    {
     "name": "stderr",
     "output_type": "stream",
     "text": [
      "Train 83 | Loss:1.55e+00 | Acc: 0.49| F1: 0.48|: 100%|██████████| 28/28 [00:00<00:00, 67.17it/s]\n",
      "Val   83 | Loss:1.90e+00 | Acc: 0.33| F1: 0.34|: 100%|██████████| 12/12 [00:00<00:00, 122.58it/s]\n"
     ]
    },
    {
     "name": "stdout",
     "output_type": "stream",
     "text": [
      "----------------------------[Epoch84 finished!]----------------------------\n"
     ]
    },
    {
     "name": "stderr",
     "output_type": "stream",
     "text": [
      "Train 84 | Loss:1.55e+00 | Acc: 0.49| F1: 0.48|: 100%|██████████| 28/28 [00:00<00:00, 67.70it/s]\n",
      "Val   84 | Loss:1.90e+00 | Acc: 0.33| F1: 0.34|: 100%|██████████| 12/12 [00:00<00:00, 120.15it/s]\n"
     ]
    },
    {
     "name": "stdout",
     "output_type": "stream",
     "text": [
      "----------------------------[Epoch85 finished!]----------------------------\n"
     ]
    },
    {
     "name": "stderr",
     "output_type": "stream",
     "text": [
      "Train 85 | Loss:1.55e+00 | Acc: 0.49| F1: 0.48|: 100%|██████████| 28/28 [00:00<00:00, 56.62it/s]\n",
      "Val   85 | Loss:1.90e+00 | Acc: 0.33| F1: 0.34|: 100%|██████████| 12/12 [00:00<00:00, 97.09it/s]\n"
     ]
    },
    {
     "name": "stdout",
     "output_type": "stream",
     "text": [
      "----------------------------[Epoch86 finished!]----------------------------\n"
     ]
    },
    {
     "name": "stderr",
     "output_type": "stream",
     "text": [
      "Train 86 | Loss:1.55e+00 | Acc: 0.49| F1: 0.48|: 100%|██████████| 28/28 [00:00<00:00, 46.87it/s]\n",
      "Val   86 | Loss:1.90e+00 | Acc: 0.33| F1: 0.34|: 100%|██████████| 12/12 [00:00<00:00, 100.31it/s]\n"
     ]
    },
    {
     "name": "stdout",
     "output_type": "stream",
     "text": [
      "----------------------------[Epoch87 finished!]----------------------------\n"
     ]
    },
    {
     "name": "stderr",
     "output_type": "stream",
     "text": [
      "Train 87 | Loss:1.55e+00 | Acc: 0.49| F1: 0.48|: 100%|██████████| 28/28 [00:00<00:00, 40.18it/s]\n",
      "Val   87 | Loss:1.90e+00 | Acc: 0.33| F1: 0.34|: 100%|██████████| 12/12 [00:00<00:00, 63.43it/s]\n"
     ]
    },
    {
     "name": "stdout",
     "output_type": "stream",
     "text": [
      "----------------------------[Epoch88 finished!]----------------------------\n"
     ]
    },
    {
     "name": "stderr",
     "output_type": "stream",
     "text": [
      "Train 88 | Loss:1.55e+00 | Acc: 0.49| F1: 0.48|: 100%|██████████| 28/28 [00:00<00:00, 35.09it/s]\n",
      "Val   88 | Loss:1.90e+00 | Acc: 0.33| F1: 0.34|: 100%|██████████| 12/12 [00:00<00:00, 60.25it/s]\n"
     ]
    },
    {
     "name": "stdout",
     "output_type": "stream",
     "text": [
      "----------------------------[Epoch89 finished!]----------------------------\n"
     ]
    },
    {
     "name": "stderr",
     "output_type": "stream",
     "text": [
      "Train 89 | Loss:1.55e+00 | Acc: 0.49| F1: 0.48|: 100%|██████████| 28/28 [00:00<00:00, 34.27it/s]\n",
      "Val   89 | Loss:1.90e+00 | Acc: 0.33| F1: 0.34|: 100%|██████████| 12/12 [00:00<00:00, 67.44it/s]\n"
     ]
    },
    {
     "name": "stdout",
     "output_type": "stream",
     "text": [
      "----------------------------[Epoch90 finished!]----------------------------\n"
     ]
    },
    {
     "name": "stderr",
     "output_type": "stream",
     "text": [
      "Train 90 | Loss:1.55e+00 | Acc: 0.49| F1: 0.48|: 100%|██████████| 28/28 [00:00<00:00, 37.76it/s]\n",
      "Val   90 | Loss:1.90e+00 | Acc: 0.33| F1: 0.34|: 100%|██████████| 12/12 [00:00<00:00, 66.52it/s]\n"
     ]
    },
    {
     "name": "stdout",
     "output_type": "stream",
     "text": [
      "----------------------------[Epoch91 finished!]----------------------------\n"
     ]
    },
    {
     "name": "stderr",
     "output_type": "stream",
     "text": [
      "Train 91 | Loss:1.55e+00 | Acc: 0.49| F1: 0.48|: 100%|██████████| 28/28 [00:00<00:00, 38.59it/s]\n",
      "Val   91 | Loss:1.90e+00 | Acc: 0.33| F1: 0.34|: 100%|██████████| 12/12 [00:00<00:00, 82.49it/s]\n"
     ]
    },
    {
     "name": "stdout",
     "output_type": "stream",
     "text": [
      "----------------------------[Epoch92 finished!]----------------------------\n"
     ]
    },
    {
     "name": "stderr",
     "output_type": "stream",
     "text": [
      "Train 92 | Loss:1.55e+00 | Acc: 0.49| F1: 0.48|: 100%|██████████| 28/28 [00:00<00:00, 46.99it/s]\n",
      "Val   92 | Loss:1.90e+00 | Acc: 0.33| F1: 0.34|: 100%|██████████| 12/12 [00:00<00:00, 82.01it/s]\n"
     ]
    },
    {
     "name": "stdout",
     "output_type": "stream",
     "text": [
      "----------------------------[Epoch93 finished!]----------------------------\n"
     ]
    },
    {
     "name": "stderr",
     "output_type": "stream",
     "text": [
      "Train 93 | Loss:1.55e+00 | Acc: 0.49| F1: 0.48|: 100%|██████████| 28/28 [00:00<00:00, 45.40it/s]\n",
      "Val   93 | Loss:1.90e+00 | Acc: 0.33| F1: 0.34|: 100%|██████████| 12/12 [00:00<00:00, 81.66it/s]\n"
     ]
    },
    {
     "name": "stdout",
     "output_type": "stream",
     "text": [
      "----------------------------[Epoch94 finished!]----------------------------\n"
     ]
    },
    {
     "name": "stderr",
     "output_type": "stream",
     "text": [
      "Train 94 | Loss:1.55e+00 | Acc: 0.49| F1: 0.48|: 100%|██████████| 28/28 [00:00<00:00, 44.35it/s]\n",
      "Val   94 | Loss:1.90e+00 | Acc: 0.33| F1: 0.34|: 100%|██████████| 12/12 [00:00<00:00, 78.53it/s]\n"
     ]
    },
    {
     "name": "stdout",
     "output_type": "stream",
     "text": [
      "----------------------------[Epoch95 finished!]----------------------------\n"
     ]
    },
    {
     "name": "stderr",
     "output_type": "stream",
     "text": [
      "Train 95 | Loss:1.55e+00 | Acc: 0.49| F1: 0.48|: 100%|██████████| 28/28 [00:00<00:00, 45.16it/s]\n",
      "Val   95 | Loss:1.90e+00 | Acc: 0.33| F1: 0.34|: 100%|██████████| 12/12 [00:00<00:00, 79.25it/s]\n"
     ]
    },
    {
     "name": "stdout",
     "output_type": "stream",
     "text": [
      "----------------------------[Epoch96 finished!]----------------------------\n"
     ]
    },
    {
     "name": "stderr",
     "output_type": "stream",
     "text": [
      "Train 96 | Loss:1.55e+00 | Acc: 0.49| F1: 0.48|: 100%|██████████| 28/28 [00:00<00:00, 45.44it/s]\n",
      "Val   96 | Loss:1.90e+00 | Acc: 0.33| F1: 0.34|: 100%|██████████| 12/12 [00:00<00:00, 80.57it/s]\n"
     ]
    },
    {
     "name": "stdout",
     "output_type": "stream",
     "text": [
      "----------------------------[Epoch97 finished!]----------------------------\n"
     ]
    },
    {
     "name": "stderr",
     "output_type": "stream",
     "text": [
      "Train 97 | Loss:1.55e+00 | Acc: 0.49| F1: 0.48|: 100%|██████████| 28/28 [00:00<00:00, 45.66it/s]\n",
      "Val   97 | Loss:1.90e+00 | Acc: 0.33| F1: 0.34|: 100%|██████████| 12/12 [00:00<00:00, 82.00it/s]\n"
     ]
    },
    {
     "name": "stdout",
     "output_type": "stream",
     "text": [
      "----------------------------[Epoch98 finished!]----------------------------\n"
     ]
    },
    {
     "name": "stderr",
     "output_type": "stream",
     "text": [
      "Train 98 | Loss:1.55e+00 | Acc: 0.49| F1: 0.48|: 100%|██████████| 28/28 [00:00<00:00, 45.90it/s]\n",
      "Val   98 | Loss:1.90e+00 | Acc: 0.33| F1: 0.34|: 100%|██████████| 12/12 [00:00<00:00, 81.59it/s]\n"
     ]
    },
    {
     "name": "stdout",
     "output_type": "stream",
     "text": [
      "----------------------------[Epoch99 finished!]----------------------------\n"
     ]
    },
    {
     "name": "stderr",
     "output_type": "stream",
     "text": [
      "Train 99 | Loss:1.55e+00 | Acc: 0.49| F1: 0.48|: 100%|██████████| 28/28 [00:00<00:00, 45.37it/s]\n",
      "Val   99 | Loss:1.90e+00 | Acc: 0.33| F1: 0.34|: 100%|██████████| 12/12 [00:00<00:00, 83.80it/s]\n"
     ]
    },
    {
     "name": "stdout",
     "output_type": "stream",
     "text": [
      "----------------------------[Epoch100 finished!]----------------------------\n"
     ]
    },
    {
     "name": "stderr",
     "output_type": "stream",
     "text": [
      "Train 100 | Loss:1.55e+00 | Acc: 0.49| F1: 0.48|: 100%|██████████| 28/28 [00:00<00:00, 45.56it/s]\n",
      "Val   100 | Loss:1.90e+00 | Acc: 0.33| F1: 0.34|: 100%|██████████| 12/12 [00:00<00:00, 81.55it/s]\n"
     ]
    },
    {
     "name": "stdout",
     "output_type": "stream",
     "text": [
      "----------------------------[Epoch101 finished!]----------------------------\n"
     ]
    },
    {
     "name": "stderr",
     "output_type": "stream",
     "text": [
      "Train 101 | Loss:1.55e+00 | Acc: 0.49| F1: 0.48|: 100%|██████████| 28/28 [00:00<00:00, 45.11it/s]\n",
      "Val   101 | Loss:1.90e+00 | Acc: 0.33| F1: 0.34|: 100%|██████████| 12/12 [00:00<00:00, 82.22it/s]\n"
     ]
    },
    {
     "name": "stdout",
     "output_type": "stream",
     "text": [
      "----------------------------[Epoch102 finished!]----------------------------\n"
     ]
    },
    {
     "name": "stderr",
     "output_type": "stream",
     "text": [
      "Train 102 | Loss:1.55e+00 | Acc: 0.49| F1: 0.48|: 100%|██████████| 28/28 [00:00<00:00, 45.69it/s]\n",
      "Val   102 | Loss:1.90e+00 | Acc: 0.33| F1: 0.34|: 100%|██████████| 12/12 [00:00<00:00, 81.45it/s]\n"
     ]
    },
    {
     "name": "stdout",
     "output_type": "stream",
     "text": [
      "----------------------------[Epoch103 finished!]----------------------------\n"
     ]
    },
    {
     "name": "stderr",
     "output_type": "stream",
     "text": [
      "Train 103 | Loss:1.55e+00 | Acc: 0.49| F1: 0.48|: 100%|██████████| 28/28 [00:00<00:00, 45.81it/s]\n",
      "Val   103 | Loss:1.90e+00 | Acc: 0.33| F1: 0.34|: 100%|██████████| 12/12 [00:00<00:00, 80.46it/s]\n"
     ]
    },
    {
     "name": "stdout",
     "output_type": "stream",
     "text": [
      "----------------------------[Epoch104 finished!]----------------------------\n"
     ]
    },
    {
     "name": "stderr",
     "output_type": "stream",
     "text": [
      "Train 104 | Loss:1.55e+00 | Acc: 0.49| F1: 0.48|: 100%|██████████| 28/28 [00:00<00:00, 39.58it/s]\n",
      "Val   104 | Loss:1.90e+00 | Acc: 0.33| F1: 0.34|: 100%|██████████| 12/12 [00:00<00:00, 77.68it/s]\n"
     ]
    },
    {
     "name": "stdout",
     "output_type": "stream",
     "text": [
      "----------------------------[Epoch105 finished!]----------------------------\n"
     ]
    },
    {
     "name": "stderr",
     "output_type": "stream",
     "text": [
      "Train 105 | Loss:1.55e+00 | Acc: 0.49| F1: 0.48|: 100%|██████████| 28/28 [00:00<00:00, 45.44it/s]\n",
      "Val   105 | Loss:1.90e+00 | Acc: 0.33| F1: 0.34|: 100%|██████████| 12/12 [00:00<00:00, 81.51it/s]\n"
     ]
    },
    {
     "name": "stdout",
     "output_type": "stream",
     "text": [
      "----------------------------[Epoch106 finished!]----------------------------\n"
     ]
    },
    {
     "name": "stderr",
     "output_type": "stream",
     "text": [
      "Train 106 | Loss:1.55e+00 | Acc: 0.49| F1: 0.48|: 100%|██████████| 28/28 [00:00<00:00, 44.63it/s]\n",
      "Val   106 | Loss:1.90e+00 | Acc: 0.33| F1: 0.34|: 100%|██████████| 12/12 [00:00<00:00, 80.94it/s]\n"
     ]
    },
    {
     "name": "stdout",
     "output_type": "stream",
     "text": [
      "----------------------------[Epoch107 finished!]----------------------------\n"
     ]
    },
    {
     "name": "stderr",
     "output_type": "stream",
     "text": [
      "Train 107 | Loss:1.55e+00 | Acc: 0.49| F1: 0.48|: 100%|██████████| 28/28 [00:00<00:00, 46.01it/s]\n",
      "Val   107 | Loss:1.90e+00 | Acc: 0.33| F1: 0.34|: 100%|██████████| 12/12 [00:00<00:00, 81.10it/s]\n"
     ]
    },
    {
     "name": "stdout",
     "output_type": "stream",
     "text": [
      "----------------------------[Epoch108 finished!]----------------------------\n"
     ]
    },
    {
     "name": "stderr",
     "output_type": "stream",
     "text": [
      "Train 108 | Loss:1.55e+00 | Acc: 0.49| F1: 0.48|: 100%|██████████| 28/28 [00:00<00:00, 45.64it/s]\n",
      "Val   108 | Loss:1.90e+00 | Acc: 0.33| F1: 0.34|: 100%|██████████| 12/12 [00:00<00:00, 81.46it/s]\n"
     ]
    },
    {
     "name": "stdout",
     "output_type": "stream",
     "text": [
      "----------------------------[Epoch109 finished!]----------------------------\n"
     ]
    },
    {
     "name": "stderr",
     "output_type": "stream",
     "text": [
      "Train 109 | Loss:1.55e+00 | Acc: 0.49| F1: 0.48|: 100%|██████████| 28/28 [00:00<00:00, 45.53it/s]\n",
      "Val   109 | Loss:1.90e+00 | Acc: 0.33| F1: 0.34|: 100%|██████████| 12/12 [00:00<00:00, 78.99it/s]\n"
     ]
    },
    {
     "name": "stdout",
     "output_type": "stream",
     "text": [
      "----------------------------[Epoch110 finished!]----------------------------\n"
     ]
    },
    {
     "name": "stderr",
     "output_type": "stream",
     "text": [
      "Train 110 | Loss:1.55e+00 | Acc: 0.49| F1: 0.48|: 100%|██████████| 28/28 [00:00<00:00, 45.75it/s]\n",
      "Val   110 | Loss:1.90e+00 | Acc: 0.33| F1: 0.34|: 100%|██████████| 12/12 [00:00<00:00, 90.90it/s]\n"
     ]
    },
    {
     "name": "stdout",
     "output_type": "stream",
     "text": [
      "----------------------------[Epoch111 finished!]----------------------------\n"
     ]
    },
    {
     "name": "stderr",
     "output_type": "stream",
     "text": [
      "Train 111 | Loss:1.55e+00 | Acc: 0.49| F1: 0.48|: 100%|██████████| 28/28 [00:00<00:00, 66.66it/s]\n",
      "Val   111 | Loss:1.90e+00 | Acc: 0.33| F1: 0.34|: 100%|██████████| 12/12 [00:00<00:00, 120.64it/s]\n"
     ]
    },
    {
     "name": "stdout",
     "output_type": "stream",
     "text": [
      "----------------------------[Epoch112 finished!]----------------------------\n"
     ]
    },
    {
     "name": "stderr",
     "output_type": "stream",
     "text": [
      "Train 112 | Loss:1.55e+00 | Acc: 0.49| F1: 0.48|: 100%|██████████| 28/28 [00:00<00:00, 67.76it/s]\n",
      "Val   112 | Loss:1.90e+00 | Acc: 0.33| F1: 0.34|: 100%|██████████| 12/12 [00:00<00:00, 123.15it/s]\n"
     ]
    },
    {
     "name": "stdout",
     "output_type": "stream",
     "text": [
      "----------------------------[Epoch113 finished!]----------------------------\n"
     ]
    },
    {
     "name": "stderr",
     "output_type": "stream",
     "text": [
      "Train 113 | Loss:1.55e+00 | Acc: 0.49| F1: 0.48|: 100%|██████████| 28/28 [00:00<00:00, 67.48it/s]\n",
      "Val   113 | Loss:1.90e+00 | Acc: 0.33| F1: 0.34|: 100%|██████████| 12/12 [00:00<00:00, 123.76it/s]\n"
     ]
    },
    {
     "name": "stdout",
     "output_type": "stream",
     "text": [
      "----------------------------[Epoch114 finished!]----------------------------\n"
     ]
    },
    {
     "name": "stderr",
     "output_type": "stream",
     "text": [
      "Train 114 | Loss:1.55e+00 | Acc: 0.49| F1: 0.48|: 100%|██████████| 28/28 [00:00<00:00, 66.60it/s]\n",
      "Val   114 | Loss:1.90e+00 | Acc: 0.33| F1: 0.34|: 100%|██████████| 12/12 [00:00<00:00, 122.45it/s]\n"
     ]
    },
    {
     "name": "stdout",
     "output_type": "stream",
     "text": [
      "----------------------------[Epoch115 finished!]----------------------------\n"
     ]
    },
    {
     "name": "stderr",
     "output_type": "stream",
     "text": [
      "Train 115 | Loss:1.55e+00 | Acc: 0.49| F1: 0.48|: 100%|██████████| 28/28 [00:00<00:00, 66.58it/s]\n",
      "Val   115 | Loss:1.90e+00 | Acc: 0.33| F1: 0.34|: 100%|██████████| 12/12 [00:00<00:00, 116.34it/s]\n"
     ]
    },
    {
     "name": "stdout",
     "output_type": "stream",
     "text": [
      "----------------------------[Epoch116 finished!]----------------------------\n"
     ]
    },
    {
     "name": "stderr",
     "output_type": "stream",
     "text": [
      "Train 116 | Loss:1.55e+00 | Acc: 0.49| F1: 0.48|: 100%|██████████| 28/28 [00:00<00:00, 65.93it/s]\n",
      "Val   116 | Loss:1.90e+00 | Acc: 0.33| F1: 0.34|: 100%|██████████| 12/12 [00:00<00:00, 125.04it/s]\n"
     ]
    },
    {
     "name": "stdout",
     "output_type": "stream",
     "text": [
      "----------------------------[Epoch117 finished!]----------------------------\n"
     ]
    },
    {
     "name": "stderr",
     "output_type": "stream",
     "text": [
      "Train 117 | Loss:1.55e+00 | Acc: 0.49| F1: 0.48|: 100%|██████████| 28/28 [00:00<00:00, 66.80it/s]\n",
      "Val   117 | Loss:1.90e+00 | Acc: 0.33| F1: 0.34|: 100%|██████████| 12/12 [00:00<00:00, 124.29it/s]\n"
     ]
    },
    {
     "name": "stdout",
     "output_type": "stream",
     "text": [
      "----------------------------[Epoch118 finished!]----------------------------\n"
     ]
    },
    {
     "name": "stderr",
     "output_type": "stream",
     "text": [
      "Train 118 | Loss:1.55e+00 | Acc: 0.49| F1: 0.48|: 100%|██████████| 28/28 [00:00<00:00, 67.12it/s]\n",
      "Val   118 | Loss:1.90e+00 | Acc: 0.33| F1: 0.34|: 100%|██████████| 12/12 [00:00<00:00, 123.77it/s]\n"
     ]
    },
    {
     "name": "stdout",
     "output_type": "stream",
     "text": [
      "----------------------------[Epoch119 finished!]----------------------------\n"
     ]
    },
    {
     "name": "stderr",
     "output_type": "stream",
     "text": [
      "Train 119 | Loss:1.55e+00 | Acc: 0.49| F1: 0.48|: 100%|██████████| 28/28 [00:00<00:00, 67.21it/s]\n",
      "Val   119 | Loss:1.90e+00 | Acc: 0.33| F1: 0.34|: 100%|██████████| 12/12 [00:00<00:00, 125.27it/s]\n"
     ]
    },
    {
     "name": "stdout",
     "output_type": "stream",
     "text": [
      "----------------------------[Epoch120 finished!]----------------------------\n"
     ]
    },
    {
     "name": "stderr",
     "output_type": "stream",
     "text": [
      "Train 120 | Loss:1.55e+00 | Acc: 0.49| F1: 0.48|: 100%|██████████| 28/28 [00:00<00:00, 66.78it/s]\n",
      "Val   120 | Loss:1.90e+00 | Acc: 0.33| F1: 0.34|: 100%|██████████| 12/12 [00:00<00:00, 121.97it/s]\n"
     ]
    },
    {
     "name": "stdout",
     "output_type": "stream",
     "text": [
      "----------------------------[Epoch121 finished!]----------------------------\n"
     ]
    },
    {
     "name": "stderr",
     "output_type": "stream",
     "text": [
      "Train 121 | Loss:1.55e+00 | Acc: 0.49| F1: 0.48|: 100%|██████████| 28/28 [00:00<00:00, 66.15it/s]\n",
      "Val   121 | Loss:1.90e+00 | Acc: 0.33| F1: 0.34|: 100%|██████████| 12/12 [00:00<00:00, 117.16it/s]\n"
     ]
    },
    {
     "name": "stdout",
     "output_type": "stream",
     "text": [
      "----------------------------[Epoch122 finished!]----------------------------\n"
     ]
    },
    {
     "name": "stderr",
     "output_type": "stream",
     "text": [
      "Train 122 | Loss:1.55e+00 | Acc: 0.49| F1: 0.48|: 100%|██████████| 28/28 [00:00<00:00, 50.73it/s]\n",
      "Val   122 | Loss:1.90e+00 | Acc: 0.33| F1: 0.34|: 100%|██████████| 12/12 [00:00<00:00, 74.01it/s]\n"
     ]
    },
    {
     "name": "stdout",
     "output_type": "stream",
     "text": [
      "----------------------------[Epoch123 finished!]----------------------------\n"
     ]
    },
    {
     "name": "stderr",
     "output_type": "stream",
     "text": [
      "Train 123 | Loss:1.55e+00 | Acc: 0.49| F1: 0.48|: 100%|██████████| 28/28 [00:00<00:00, 42.20it/s]\n",
      "Val   123 | Loss:1.90e+00 | Acc: 0.33| F1: 0.34|: 100%|██████████| 12/12 [00:00<00:00, 77.39it/s]\n"
     ]
    },
    {
     "name": "stdout",
     "output_type": "stream",
     "text": [
      "----------------------------[Epoch124 finished!]----------------------------\n"
     ]
    },
    {
     "name": "stderr",
     "output_type": "stream",
     "text": [
      "Train 124 | Loss:1.55e+00 | Acc: 0.49| F1: 0.48|: 100%|██████████| 28/28 [00:00<00:00, 43.68it/s]\n",
      "Val   124 | Loss:1.90e+00 | Acc: 0.33| F1: 0.34|: 100%|██████████| 12/12 [00:00<00:00, 80.23it/s]\n"
     ]
    },
    {
     "name": "stdout",
     "output_type": "stream",
     "text": [
      "----------------------------[Epoch125 finished!]----------------------------\n"
     ]
    },
    {
     "name": "stderr",
     "output_type": "stream",
     "text": [
      "Train 125 | Loss:1.55e+00 | Acc: 0.49| F1: 0.48|: 100%|██████████| 28/28 [00:00<00:00, 45.27it/s]\n",
      "Val   125 | Loss:1.90e+00 | Acc: 0.33| F1: 0.34|: 100%|██████████| 12/12 [00:00<00:00, 78.72it/s]\n"
     ]
    },
    {
     "name": "stdout",
     "output_type": "stream",
     "text": [
      "----------------------------[Epoch126 finished!]----------------------------\n"
     ]
    },
    {
     "name": "stderr",
     "output_type": "stream",
     "text": [
      "Train 126 | Loss:1.55e+00 | Acc: 0.49| F1: 0.48|: 100%|██████████| 28/28 [00:00<00:00, 45.53it/s]\n",
      "Val   126 | Loss:1.90e+00 | Acc: 0.33| F1: 0.34|: 100%|██████████| 12/12 [00:00<00:00, 80.13it/s]\n"
     ]
    },
    {
     "name": "stdout",
     "output_type": "stream",
     "text": [
      "----------------------------[Epoch127 finished!]----------------------------\n"
     ]
    },
    {
     "name": "stderr",
     "output_type": "stream",
     "text": [
      "Train 127 | Loss:1.55e+00 | Acc: 0.49| F1: 0.48|: 100%|██████████| 28/28 [00:00<00:00, 45.17it/s]\n",
      "Val   127 | Loss:1.90e+00 | Acc: 0.33| F1: 0.34|: 100%|██████████| 12/12 [00:00<00:00, 80.53it/s]\n"
     ]
    },
    {
     "name": "stdout",
     "output_type": "stream",
     "text": [
      "----------------------------[Epoch128 finished!]----------------------------\n"
     ]
    },
    {
     "name": "stderr",
     "output_type": "stream",
     "text": [
      "Train 128 | Loss:1.55e+00 | Acc: 0.49| F1: 0.48|: 100%|██████████| 28/28 [00:00<00:00, 45.34it/s]\n",
      "Val   128 | Loss:1.90e+00 | Acc: 0.33| F1: 0.34|: 100%|██████████| 12/12 [00:00<00:00, 81.02it/s]\n"
     ]
    },
    {
     "name": "stdout",
     "output_type": "stream",
     "text": [
      "----------------------------[Epoch129 finished!]----------------------------\n"
     ]
    },
    {
     "name": "stderr",
     "output_type": "stream",
     "text": [
      "Train 129 | Loss:1.55e+00 | Acc: 0.49| F1: 0.48|: 100%|██████████| 28/28 [00:00<00:00, 44.30it/s]\n",
      "Val   129 | Loss:1.90e+00 | Acc: 0.33| F1: 0.34|: 100%|██████████| 12/12 [00:00<00:00, 80.87it/s]\n"
     ]
    },
    {
     "name": "stdout",
     "output_type": "stream",
     "text": [
      "----------------------------[Epoch130 finished!]----------------------------\n"
     ]
    },
    {
     "name": "stderr",
     "output_type": "stream",
     "text": [
      "Train 130 | Loss:1.55e+00 | Acc: 0.49| F1: 0.48|: 100%|██████████| 28/28 [00:00<00:00, 55.60it/s]\n",
      "Val   130 | Loss:1.90e+00 | Acc: 0.33| F1: 0.34|: 100%|██████████| 12/12 [00:00<00:00, 117.27it/s]\n"
     ]
    },
    {
     "name": "stdout",
     "output_type": "stream",
     "text": [
      "----------------------------[Epoch131 finished!]----------------------------\n"
     ]
    },
    {
     "name": "stderr",
     "output_type": "stream",
     "text": [
      "Train 131 | Loss:1.55e+00 | Acc: 0.49| F1: 0.48|: 100%|██████████| 28/28 [00:00<00:00, 67.10it/s]\n",
      "Val   131 | Loss:1.90e+00 | Acc: 0.33| F1: 0.34|: 100%|██████████| 12/12 [00:00<00:00, 124.75it/s]\n"
     ]
    },
    {
     "name": "stdout",
     "output_type": "stream",
     "text": [
      "----------------------------[Epoch132 finished!]----------------------------\n"
     ]
    },
    {
     "name": "stderr",
     "output_type": "stream",
     "text": [
      "Train 132 | Loss:1.55e+00 | Acc: 0.49| F1: 0.48|: 100%|██████████| 28/28 [00:00<00:00, 66.98it/s]\n",
      "Val   132 | Loss:1.90e+00 | Acc: 0.33| F1: 0.34|: 100%|██████████| 12/12 [00:00<00:00, 125.35it/s]\n"
     ]
    },
    {
     "name": "stdout",
     "output_type": "stream",
     "text": [
      "----------------------------[Epoch133 finished!]----------------------------\n"
     ]
    },
    {
     "name": "stderr",
     "output_type": "stream",
     "text": [
      "Train 133 | Loss:1.55e+00 | Acc: 0.49| F1: 0.48|: 100%|██████████| 28/28 [00:00<00:00, 66.71it/s]\n",
      "Val   133 | Loss:1.90e+00 | Acc: 0.33| F1: 0.34|: 100%|██████████| 12/12 [00:00<00:00, 116.67it/s]\n"
     ]
    },
    {
     "name": "stdout",
     "output_type": "stream",
     "text": [
      "----------------------------[Epoch134 finished!]----------------------------\n"
     ]
    },
    {
     "name": "stderr",
     "output_type": "stream",
     "text": [
      "Train 134 | Loss:1.55e+00 | Acc: 0.49| F1: 0.48|: 100%|██████████| 28/28 [00:00<00:00, 57.68it/s]\n",
      "Val   134 | Loss:1.90e+00 | Acc: 0.33| F1: 0.34|: 100%|██████████| 12/12 [00:00<00:00, 81.69it/s]\n"
     ]
    },
    {
     "name": "stdout",
     "output_type": "stream",
     "text": [
      "----------------------------[Epoch135 finished!]----------------------------\n"
     ]
    },
    {
     "name": "stderr",
     "output_type": "stream",
     "text": [
      "Train 135 | Loss:1.55e+00 | Acc: 0.49| F1: 0.48|: 100%|██████████| 28/28 [00:00<00:00, 43.43it/s]\n",
      "Val   135 | Loss:1.90e+00 | Acc: 0.33| F1: 0.34|: 100%|██████████| 12/12 [00:00<00:00, 64.27it/s]\n"
     ]
    },
    {
     "name": "stdout",
     "output_type": "stream",
     "text": [
      "----------------------------[Epoch136 finished!]----------------------------\n"
     ]
    },
    {
     "name": "stderr",
     "output_type": "stream",
     "text": [
      "Train 136 | Loss:1.55e+00 | Acc: 0.49| F1: 0.48|: 100%|██████████| 28/28 [00:00<00:00, 35.72it/s]\n",
      "Val   136 | Loss:1.90e+00 | Acc: 0.33| F1: 0.34|: 100%|██████████| 12/12 [00:00<00:00, 74.87it/s]\n"
     ]
    },
    {
     "name": "stdout",
     "output_type": "stream",
     "text": [
      "----------------------------[Epoch137 finished!]----------------------------\n"
     ]
    },
    {
     "name": "stderr",
     "output_type": "stream",
     "text": [
      "Train 137 | Loss:1.55e+00 | Acc: 0.49| F1: 0.48|: 100%|██████████| 28/28 [00:00<00:00, 40.05it/s]\n",
      "Val   137 | Loss:1.90e+00 | Acc: 0.33| F1: 0.34|: 100%|██████████| 12/12 [00:00<00:00, 73.39it/s]\n"
     ]
    },
    {
     "name": "stdout",
     "output_type": "stream",
     "text": [
      "----------------------------[Epoch138 finished!]----------------------------\n"
     ]
    },
    {
     "name": "stderr",
     "output_type": "stream",
     "text": [
      "Train 138 | Loss:1.55e+00 | Acc: 0.49| F1: 0.48|: 100%|██████████| 28/28 [00:00<00:00, 41.54it/s]\n",
      "Val   138 | Loss:1.90e+00 | Acc: 0.33| F1: 0.34|: 100%|██████████| 12/12 [00:00<00:00, 65.67it/s]\n"
     ]
    },
    {
     "name": "stdout",
     "output_type": "stream",
     "text": [
      "----------------------------[Epoch139 finished!]----------------------------\n"
     ]
    },
    {
     "name": "stderr",
     "output_type": "stream",
     "text": [
      "Train 139 | Loss:1.55e+00 | Acc: 0.49| F1: 0.48|: 100%|██████████| 28/28 [00:00<00:00, 39.58it/s]\n",
      "Val   139 | Loss:1.90e+00 | Acc: 0.33| F1: 0.34|: 100%|██████████| 12/12 [00:00<00:00, 76.81it/s]\n"
     ]
    },
    {
     "name": "stdout",
     "output_type": "stream",
     "text": [
      "----------------------------[Epoch140 finished!]----------------------------\n"
     ]
    },
    {
     "name": "stderr",
     "output_type": "stream",
     "text": [
      "Train 140 | Loss:1.55e+00 | Acc: 0.49| F1: 0.48|: 100%|██████████| 28/28 [00:00<00:00, 38.59it/s]\n",
      "Val   140 | Loss:1.90e+00 | Acc: 0.33| F1: 0.34|: 100%|██████████| 12/12 [00:00<00:00, 66.88it/s]\n"
     ]
    },
    {
     "name": "stdout",
     "output_type": "stream",
     "text": [
      "----------------------------[Epoch141 finished!]----------------------------\n"
     ]
    },
    {
     "name": "stderr",
     "output_type": "stream",
     "text": [
      "Train 141 | Loss:1.55e+00 | Acc: 0.49| F1: 0.48|: 100%|██████████| 28/28 [00:00<00:00, 41.47it/s]\n",
      "Val   141 | Loss:1.90e+00 | Acc: 0.33| F1: 0.34|: 100%|██████████| 12/12 [00:00<00:00, 81.47it/s]\n"
     ]
    },
    {
     "name": "stdout",
     "output_type": "stream",
     "text": [
      "----------------------------[Epoch142 finished!]----------------------------\n"
     ]
    },
    {
     "name": "stderr",
     "output_type": "stream",
     "text": [
      "Train 142 | Loss:1.55e+00 | Acc: 0.49| F1: 0.48|: 100%|██████████| 28/28 [00:00<00:00, 45.21it/s]\n",
      "Val   142 | Loss:1.90e+00 | Acc: 0.33| F1: 0.34|: 100%|██████████| 12/12 [00:00<00:00, 79.62it/s]\n"
     ]
    },
    {
     "name": "stdout",
     "output_type": "stream",
     "text": [
      "----------------------------[Epoch143 finished!]----------------------------\n"
     ]
    },
    {
     "name": "stderr",
     "output_type": "stream",
     "text": [
      "Train 143 | Loss:1.55e+00 | Acc: 0.49| F1: 0.48|: 100%|██████████| 28/28 [00:00<00:00, 44.40it/s]\n",
      "Val   143 | Loss:1.90e+00 | Acc: 0.33| F1: 0.34|: 100%|██████████| 12/12 [00:00<00:00, 80.17it/s]\n"
     ]
    },
    {
     "name": "stdout",
     "output_type": "stream",
     "text": [
      "----------------------------[Epoch144 finished!]----------------------------\n"
     ]
    },
    {
     "name": "stderr",
     "output_type": "stream",
     "text": [
      "Train 144 | Loss:1.55e+00 | Acc: 0.49| F1: 0.48|: 100%|██████████| 28/28 [00:00<00:00, 45.23it/s]\n",
      "Val   144 | Loss:1.90e+00 | Acc: 0.33| F1: 0.34|: 100%|██████████| 12/12 [00:00<00:00, 80.59it/s]\n"
     ]
    },
    {
     "name": "stdout",
     "output_type": "stream",
     "text": [
      "----------------------------[Epoch145 finished!]----------------------------\n"
     ]
    },
    {
     "name": "stderr",
     "output_type": "stream",
     "text": [
      "Train 145 | Loss:1.55e+00 | Acc: 0.49| F1: 0.48|: 100%|██████████| 28/28 [00:00<00:00, 45.55it/s]\n",
      "Val   145 | Loss:1.90e+00 | Acc: 0.33| F1: 0.34|: 100%|██████████| 12/12 [00:00<00:00, 81.80it/s]\n"
     ]
    },
    {
     "name": "stdout",
     "output_type": "stream",
     "text": [
      "----------------------------[Epoch146 finished!]----------------------------\n"
     ]
    },
    {
     "name": "stderr",
     "output_type": "stream",
     "text": [
      "Train 146 | Loss:1.55e+00 | Acc: 0.49| F1: 0.48|: 100%|██████████| 28/28 [00:00<00:00, 42.11it/s]\n",
      "Val   146 | Loss:1.90e+00 | Acc: 0.33| F1: 0.34|: 100%|██████████| 12/12 [00:00<00:00, 71.33it/s]\n"
     ]
    },
    {
     "name": "stdout",
     "output_type": "stream",
     "text": [
      "----------------------------[Epoch147 finished!]----------------------------\n"
     ]
    },
    {
     "name": "stderr",
     "output_type": "stream",
     "text": [
      "Train 147 | Loss:1.55e+00 | Acc: 0.49| F1: 0.48|: 100%|██████████| 28/28 [00:00<00:00, 43.61it/s]\n",
      "Val   147 | Loss:1.90e+00 | Acc: 0.33| F1: 0.34|: 100%|██████████| 12/12 [00:00<00:00, 80.07it/s]\n"
     ]
    },
    {
     "name": "stdout",
     "output_type": "stream",
     "text": [
      "----------------------------[Epoch148 finished!]----------------------------\n"
     ]
    },
    {
     "name": "stderr",
     "output_type": "stream",
     "text": [
      "Train 148 | Loss:1.55e+00 | Acc: 0.49| F1: 0.48|: 100%|██████████| 28/28 [00:00<00:00, 56.01it/s]\n",
      "Val   148 | Loss:1.90e+00 | Acc: 0.33| F1: 0.34|: 100%|██████████| 12/12 [00:00<00:00, 129.85it/s]\n"
     ]
    },
    {
     "name": "stdout",
     "output_type": "stream",
     "text": [
      "----------------------------[Epoch149 finished!]----------------------------\n"
     ]
    },
    {
     "name": "stderr",
     "output_type": "stream",
     "text": [
      "Train 149 | Loss:1.55e+00 | Acc: 0.49| F1: 0.48|: 100%|██████████| 28/28 [00:00<00:00, 70.98it/s]\n",
      "Val   149 | Loss:1.90e+00 | Acc: 0.33| F1: 0.34|: 100%|██████████| 12/12 [00:00<00:00, 132.66it/s]\n"
     ]
    },
    {
     "name": "stdout",
     "output_type": "stream",
     "text": [
      "----------------------------[Epoch150 finished!]----------------------------\n"
     ]
    },
    {
     "name": "stderr",
     "output_type": "stream",
     "text": [
      "Train 150 | Loss:1.55e+00 | Acc: 0.49| F1: 0.48|: 100%|██████████| 28/28 [00:00<00:00, 71.69it/s]\n",
      "Val   150 | Loss:1.90e+00 | Acc: 0.33| F1: 0.34|: 100%|██████████| 12/12 [00:00<00:00, 135.20it/s]\n"
     ]
    },
    {
     "name": "stdout",
     "output_type": "stream",
     "text": [
      "----------------------------[Epoch151 finished!]----------------------------\n"
     ]
    },
    {
     "name": "stderr",
     "output_type": "stream",
     "text": [
      "Train 151 | Loss:1.55e+00 | Acc: 0.49| F1: 0.48|: 100%|██████████| 28/28 [00:00<00:00, 70.96it/s]\n",
      "Val   151 | Loss:1.90e+00 | Acc: 0.33| F1: 0.34|: 100%|██████████| 12/12 [00:00<00:00, 131.33it/s]\n"
     ]
    },
    {
     "name": "stdout",
     "output_type": "stream",
     "text": [
      "----------------------------[Epoch152 finished!]----------------------------\n"
     ]
    },
    {
     "name": "stderr",
     "output_type": "stream",
     "text": [
      "Train 152 | Loss:1.55e+00 | Acc: 0.49| F1: 0.48|: 100%|██████████| 28/28 [00:00<00:00, 71.56it/s]\n",
      "Val   152 | Loss:1.90e+00 | Acc: 0.33| F1: 0.34|: 100%|██████████| 12/12 [00:00<00:00, 130.61it/s]\n"
     ]
    },
    {
     "name": "stdout",
     "output_type": "stream",
     "text": [
      "----------------------------[Epoch153 finished!]----------------------------\n"
     ]
    },
    {
     "name": "stderr",
     "output_type": "stream",
     "text": [
      "Train 153 | Loss:1.55e+00 | Acc: 0.49| F1: 0.48|: 100%|██████████| 28/28 [00:00<00:00, 71.38it/s]\n",
      "Val   153 | Loss:1.90e+00 | Acc: 0.33| F1: 0.34|: 100%|██████████| 12/12 [00:00<00:00, 131.19it/s]\n"
     ]
    },
    {
     "name": "stdout",
     "output_type": "stream",
     "text": [
      "----------------------------[Epoch154 finished!]----------------------------\n"
     ]
    },
    {
     "name": "stderr",
     "output_type": "stream",
     "text": [
      "Train 154 | Loss:1.55e+00 | Acc: 0.49| F1: 0.48|: 100%|██████████| 28/28 [00:00<00:00, 72.46it/s]\n",
      "Val   154 | Loss:1.90e+00 | Acc: 0.33| F1: 0.34|: 100%|██████████| 12/12 [00:00<00:00, 130.09it/s]\n"
     ]
    },
    {
     "name": "stdout",
     "output_type": "stream",
     "text": [
      "----------------------------[Epoch155 finished!]----------------------------\n"
     ]
    },
    {
     "name": "stderr",
     "output_type": "stream",
     "text": [
      "Train 155 | Loss:1.55e+00 | Acc: 0.49| F1: 0.48|: 100%|██████████| 28/28 [00:00<00:00, 71.80it/s]\n",
      "Val   155 | Loss:1.90e+00 | Acc: 0.33| F1: 0.34|: 100%|██████████| 12/12 [00:00<00:00, 130.02it/s]\n"
     ]
    },
    {
     "name": "stdout",
     "output_type": "stream",
     "text": [
      "----------------------------[Epoch156 finished!]----------------------------\n"
     ]
    },
    {
     "name": "stderr",
     "output_type": "stream",
     "text": [
      "Train 156 | Loss:1.55e+00 | Acc: 0.49| F1: 0.48|: 100%|██████████| 28/28 [00:00<00:00, 71.17it/s]\n",
      "Val   156 | Loss:1.90e+00 | Acc: 0.33| F1: 0.34|: 100%|██████████| 12/12 [00:00<00:00, 128.87it/s]\n"
     ]
    },
    {
     "name": "stdout",
     "output_type": "stream",
     "text": [
      "----------------------------[Epoch157 finished!]----------------------------\n"
     ]
    },
    {
     "name": "stderr",
     "output_type": "stream",
     "text": [
      "Train 157 | Loss:1.55e+00 | Acc: 0.49| F1: 0.48|: 100%|██████████| 28/28 [00:00<00:00, 52.70it/s]\n",
      "Val   157 | Loss:1.90e+00 | Acc: 0.33| F1: 0.34|: 100%|██████████| 12/12 [00:00<00:00, 131.18it/s]\n"
     ]
    },
    {
     "name": "stdout",
     "output_type": "stream",
     "text": [
      "----------------------------[Epoch158 finished!]----------------------------\n"
     ]
    },
    {
     "name": "stderr",
     "output_type": "stream",
     "text": [
      "Train 158 | Loss:1.55e+00 | Acc: 0.49| F1: 0.48|: 100%|██████████| 28/28 [00:00<00:00, 70.95it/s]\n",
      "Val   158 | Loss:1.90e+00 | Acc: 0.33| F1: 0.34|: 100%|██████████| 12/12 [00:00<00:00, 127.55it/s]\n"
     ]
    },
    {
     "name": "stdout",
     "output_type": "stream",
     "text": [
      "----------------------------[Epoch159 finished!]----------------------------\n"
     ]
    },
    {
     "name": "stderr",
     "output_type": "stream",
     "text": [
      "Train 159 | Loss:1.55e+00 | Acc: 0.49| F1: 0.48|: 100%|██████████| 28/28 [00:00<00:00, 71.73it/s]\n",
      "Val   159 | Loss:1.90e+00 | Acc: 0.33| F1: 0.34|: 100%|██████████| 12/12 [00:00<00:00, 134.97it/s]\n"
     ]
    },
    {
     "name": "stdout",
     "output_type": "stream",
     "text": [
      "----------------------------[Epoch160 finished!]----------------------------\n"
     ]
    },
    {
     "name": "stderr",
     "output_type": "stream",
     "text": [
      "Train 160 | Loss:1.55e+00 | Acc: 0.49| F1: 0.48|: 100%|██████████| 28/28 [00:00<00:00, 70.46it/s]\n",
      "Val   160 | Loss:1.90e+00 | Acc: 0.33| F1: 0.34|: 100%|██████████| 12/12 [00:00<00:00, 130.97it/s]\n"
     ]
    },
    {
     "name": "stdout",
     "output_type": "stream",
     "text": [
      "----------------------------[Epoch161 finished!]----------------------------\n"
     ]
    },
    {
     "name": "stderr",
     "output_type": "stream",
     "text": [
      "Train 161 | Loss:1.55e+00 | Acc: 0.49| F1: 0.48|: 100%|██████████| 28/28 [00:00<00:00, 70.77it/s]\n",
      "Val   161 | Loss:1.90e+00 | Acc: 0.33| F1: 0.34|: 100%|██████████| 12/12 [00:00<00:00, 130.75it/s]\n"
     ]
    },
    {
     "name": "stdout",
     "output_type": "stream",
     "text": [
      "----------------------------[Epoch162 finished!]----------------------------\n"
     ]
    },
    {
     "name": "stderr",
     "output_type": "stream",
     "text": [
      "Train 162 | Loss:1.55e+00 | Acc: 0.49| F1: 0.48|: 100%|██████████| 28/28 [00:00<00:00, 71.85it/s]\n",
      "Val   162 | Loss:1.90e+00 | Acc: 0.33| F1: 0.34|: 100%|██████████| 12/12 [00:00<00:00, 131.73it/s]\n"
     ]
    },
    {
     "name": "stdout",
     "output_type": "stream",
     "text": [
      "----------------------------[Epoch163 finished!]----------------------------\n"
     ]
    },
    {
     "name": "stderr",
     "output_type": "stream",
     "text": [
      "Train 163 | Loss:1.55e+00 | Acc: 0.49| F1: 0.48|: 100%|██████████| 28/28 [00:00<00:00, 71.67it/s]\n",
      "Val   163 | Loss:1.90e+00 | Acc: 0.33| F1: 0.34|: 100%|██████████| 12/12 [00:00<00:00, 124.49it/s]\n"
     ]
    },
    {
     "name": "stdout",
     "output_type": "stream",
     "text": [
      "----------------------------[Epoch164 finished!]----------------------------\n"
     ]
    },
    {
     "name": "stderr",
     "output_type": "stream",
     "text": [
      "Train 164 | Loss:1.55e+00 | Acc: 0.49| F1: 0.48|: 100%|██████████| 28/28 [00:00<00:00, 68.23it/s]\n",
      "Val   164 | Loss:1.90e+00 | Acc: 0.33| F1: 0.34|: 100%|██████████| 12/12 [00:00<00:00, 129.81it/s]\n"
     ]
    },
    {
     "name": "stdout",
     "output_type": "stream",
     "text": [
      "----------------------------[Epoch165 finished!]----------------------------\n"
     ]
    },
    {
     "name": "stderr",
     "output_type": "stream",
     "text": [
      "Train 165 | Loss:1.55e+00 | Acc: 0.49| F1: 0.48|: 100%|██████████| 28/28 [00:00<00:00, 64.09it/s]\n",
      "Val   165 | Loss:1.90e+00 | Acc: 0.33| F1: 0.34|: 100%|██████████| 12/12 [00:00<00:00, 134.80it/s]\n"
     ]
    },
    {
     "name": "stdout",
     "output_type": "stream",
     "text": [
      "----------------------------[Epoch166 finished!]----------------------------\n"
     ]
    },
    {
     "name": "stderr",
     "output_type": "stream",
     "text": [
      "Train 166 | Loss:1.55e+00 | Acc: 0.49| F1: 0.48|: 100%|██████████| 28/28 [00:00<00:00, 71.65it/s]\n",
      "Val   166 | Loss:1.90e+00 | Acc: 0.33| F1: 0.34|: 100%|██████████| 12/12 [00:00<00:00, 132.86it/s]\n"
     ]
    },
    {
     "name": "stdout",
     "output_type": "stream",
     "text": [
      "----------------------------[Epoch167 finished!]----------------------------\n"
     ]
    },
    {
     "name": "stderr",
     "output_type": "stream",
     "text": [
      "Train 167 | Loss:1.55e+00 | Acc: 0.49| F1: 0.48|: 100%|██████████| 28/28 [00:00<00:00, 68.17it/s]\n",
      "Val   167 | Loss:1.90e+00 | Acc: 0.33| F1: 0.34|: 100%|██████████| 12/12 [00:00<00:00, 112.49it/s]\n"
     ]
    },
    {
     "name": "stdout",
     "output_type": "stream",
     "text": [
      "----------------------------[Epoch168 finished!]----------------------------\n"
     ]
    },
    {
     "name": "stderr",
     "output_type": "stream",
     "text": [
      "Train 168 | Loss:1.55e+00 | Acc: 0.49| F1: 0.48|: 100%|██████████| 28/28 [00:00<00:00, 35.70it/s]\n",
      "Val   168 | Loss:1.90e+00 | Acc: 0.33| F1: 0.34|: 100%|██████████| 12/12 [00:00<00:00, 59.91it/s]\n"
     ]
    },
    {
     "name": "stdout",
     "output_type": "stream",
     "text": [
      "----------------------------[Epoch169 finished!]----------------------------\n"
     ]
    },
    {
     "name": "stderr",
     "output_type": "stream",
     "text": [
      "Train 169 | Loss:1.55e+00 | Acc: 0.49| F1: 0.48|: 100%|██████████| 28/28 [00:00<00:00, 40.19it/s]\n",
      "Val   169 | Loss:1.90e+00 | Acc: 0.33| F1: 0.34|: 100%|██████████| 12/12 [00:00<00:00, 72.21it/s]\n"
     ]
    },
    {
     "name": "stdout",
     "output_type": "stream",
     "text": [
      "----------------------------[Epoch170 finished!]----------------------------\n"
     ]
    },
    {
     "name": "stderr",
     "output_type": "stream",
     "text": [
      "Train 170 | Loss:1.55e+00 | Acc: 0.49| F1: 0.48|: 100%|██████████| 28/28 [00:00<00:00, 36.43it/s]\n",
      "Val   170 | Loss:1.90e+00 | Acc: 0.33| F1: 0.34|: 100%|██████████| 12/12 [00:00<00:00, 64.81it/s]\n"
     ]
    },
    {
     "name": "stdout",
     "output_type": "stream",
     "text": [
      "----------------------------[Epoch171 finished!]----------------------------\n"
     ]
    },
    {
     "name": "stderr",
     "output_type": "stream",
     "text": [
      "Train 171 | Loss:1.55e+00 | Acc: 0.49| F1: 0.48|: 100%|██████████| 28/28 [00:00<00:00, 30.80it/s]\n",
      "Val   171 | Loss:1.90e+00 | Acc: 0.33| F1: 0.34|: 100%|██████████| 12/12 [00:00<00:00, 155.01it/s]\n"
     ]
    },
    {
     "name": "stdout",
     "output_type": "stream",
     "text": [
      "----------------------------[Epoch172 finished!]----------------------------\n"
     ]
    },
    {
     "name": "stderr",
     "output_type": "stream",
     "text": [
      "Train 172 | Loss:1.55e+00 | Acc: 0.49| F1: 0.48|: 100%|██████████| 28/28 [00:00<00:00, 36.89it/s]\n",
      "Val   172 | Loss:1.90e+00 | Acc: 0.33| F1: 0.34|: 100%|██████████| 12/12 [00:00<00:00, 71.36it/s]\n"
     ]
    },
    {
     "name": "stdout",
     "output_type": "stream",
     "text": [
      "----------------------------[Epoch173 finished!]----------------------------\n"
     ]
    },
    {
     "name": "stderr",
     "output_type": "stream",
     "text": [
      "Train 173 | Loss:1.55e+00 | Acc: 0.49| F1: 0.48|: 100%|██████████| 28/28 [00:00<00:00, 38.06it/s]\n",
      "Val   173 | Loss:1.90e+00 | Acc: 0.33| F1: 0.34|: 100%|██████████| 12/12 [00:00<00:00, 65.56it/s]\n"
     ]
    },
    {
     "name": "stdout",
     "output_type": "stream",
     "text": [
      "----------------------------[Epoch174 finished!]----------------------------\n"
     ]
    },
    {
     "name": "stderr",
     "output_type": "stream",
     "text": [
      "Train 174 | Loss:1.55e+00 | Acc: 0.49| F1: 0.48|: 100%|██████████| 28/28 [00:00<00:00, 34.02it/s]\n",
      "Val   174 | Loss:1.90e+00 | Acc: 0.33| F1: 0.34|: 100%|██████████| 12/12 [00:00<00:00, 59.92it/s]\n"
     ]
    },
    {
     "name": "stdout",
     "output_type": "stream",
     "text": [
      "----------------------------[Epoch175 finished!]----------------------------\n"
     ]
    },
    {
     "name": "stderr",
     "output_type": "stream",
     "text": [
      "Train 175 | Loss:1.55e+00 | Acc: 0.49| F1: 0.48|: 100%|██████████| 28/28 [00:00<00:00, 45.07it/s]\n",
      "Val   175 | Loss:1.90e+00 | Acc: 0.33| F1: 0.34|: 100%|██████████| 12/12 [00:00<00:00, 130.67it/s]\n"
     ]
    },
    {
     "name": "stdout",
     "output_type": "stream",
     "text": [
      "----------------------------[Epoch176 finished!]----------------------------\n"
     ]
    },
    {
     "name": "stderr",
     "output_type": "stream",
     "text": [
      "Train 176 | Loss:1.55e+00 | Acc: 0.49| F1: 0.48|: 100%|██████████| 28/28 [00:00<00:00, 70.12it/s]\n",
      "Val   176 | Loss:1.90e+00 | Acc: 0.33| F1: 0.34|: 100%|██████████| 12/12 [00:00<00:00, 129.73it/s]\n"
     ]
    },
    {
     "name": "stdout",
     "output_type": "stream",
     "text": [
      "----------------------------[Epoch177 finished!]----------------------------\n"
     ]
    },
    {
     "name": "stderr",
     "output_type": "stream",
     "text": [
      "Train 177 | Loss:1.55e+00 | Acc: 0.49| F1: 0.48|: 100%|██████████| 28/28 [00:00<00:00, 70.61it/s]\n",
      "Val   177 | Loss:1.90e+00 | Acc: 0.33| F1: 0.34|: 100%|██████████| 12/12 [00:00<00:00, 133.48it/s]\n"
     ]
    },
    {
     "name": "stdout",
     "output_type": "stream",
     "text": [
      "----------------------------[Epoch178 finished!]----------------------------\n"
     ]
    },
    {
     "name": "stderr",
     "output_type": "stream",
     "text": [
      "Train 178 | Loss:1.55e+00 | Acc: 0.49| F1: 0.48|: 100%|██████████| 28/28 [00:00<00:00, 76.26it/s]\n",
      "Val   178 | Loss:1.90e+00 | Acc: 0.33| F1: 0.34|: 100%|██████████| 12/12 [00:00<00:00, 191.79it/s]\n"
     ]
    },
    {
     "name": "stdout",
     "output_type": "stream",
     "text": [
      "----------------------------[Epoch179 finished!]----------------------------\n"
     ]
    },
    {
     "name": "stderr",
     "output_type": "stream",
     "text": [
      "Train 179 | Loss:1.55e+00 | Acc: 0.49| F1: 0.48|: 100%|██████████| 28/28 [00:00<00:00, 96.05it/s] \n",
      "Val   179 | Loss:1.90e+00 | Acc: 0.33| F1: 0.34|: 100%|██████████| 12/12 [00:00<00:00, 64.13it/s]\n"
     ]
    },
    {
     "name": "stdout",
     "output_type": "stream",
     "text": [
      "----------------------------[Epoch180 finished!]----------------------------\n"
     ]
    },
    {
     "name": "stderr",
     "output_type": "stream",
     "text": [
      "Train 180 | Loss:1.55e+00 | Acc: 0.49| F1: 0.48|: 100%|██████████| 28/28 [00:00<00:00, 32.55it/s]\n",
      "Val   180 | Loss:1.90e+00 | Acc: 0.33| F1: 0.34|: 100%|██████████| 12/12 [00:00<00:00, 64.65it/s]\n"
     ]
    },
    {
     "name": "stdout",
     "output_type": "stream",
     "text": [
      "----------------------------[Epoch181 finished!]----------------------------\n"
     ]
    },
    {
     "name": "stderr",
     "output_type": "stream",
     "text": [
      "Train 181 | Loss:1.55e+00 | Acc: 0.49| F1: 0.48|: 100%|██████████| 28/28 [00:00<00:00, 46.28it/s]\n",
      "Val   181 | Loss:1.90e+00 | Acc: 0.33| F1: 0.34|: 100%|██████████| 12/12 [00:00<00:00, 168.75it/s]\n"
     ]
    },
    {
     "name": "stdout",
     "output_type": "stream",
     "text": [
      "----------------------------[Epoch182 finished!]----------------------------\n"
     ]
    },
    {
     "name": "stderr",
     "output_type": "stream",
     "text": [
      "Train 182 | Loss:1.55e+00 | Acc: 0.49| F1: 0.48|: 100%|██████████| 28/28 [00:00<00:00, 38.37it/s]\n",
      "Val   182 | Loss:1.90e+00 | Acc: 0.33| F1: 0.34|: 100%|██████████| 12/12 [00:00<00:00, 97.52it/s]\n"
     ]
    },
    {
     "name": "stdout",
     "output_type": "stream",
     "text": [
      "----------------------------[Epoch183 finished!]----------------------------\n"
     ]
    },
    {
     "name": "stderr",
     "output_type": "stream",
     "text": [
      "Train 183 | Loss:1.55e+00 | Acc: 0.49| F1: 0.48|: 100%|██████████| 28/28 [00:00<00:00, 55.89it/s]\n",
      "Val   183 | Loss:1.90e+00 | Acc: 0.33| F1: 0.34|: 100%|██████████| 12/12 [00:00<00:00, 66.71it/s]\n"
     ]
    },
    {
     "name": "stdout",
     "output_type": "stream",
     "text": [
      "----------------------------[Epoch184 finished!]----------------------------\n"
     ]
    },
    {
     "name": "stderr",
     "output_type": "stream",
     "text": [
      "Train 184 | Loss:1.55e+00 | Acc: 0.49| F1: 0.48|: 100%|██████████| 28/28 [00:00<00:00, 59.04it/s]\n",
      "Val   184 | Loss:1.90e+00 | Acc: 0.33| F1: 0.34|: 100%|██████████| 12/12 [00:00<00:00, 176.93it/s]\n"
     ]
    },
    {
     "name": "stdout",
     "output_type": "stream",
     "text": [
      "----------------------------[Epoch185 finished!]----------------------------\n"
     ]
    },
    {
     "name": "stderr",
     "output_type": "stream",
     "text": [
      "Train 185 | Loss:1.55e+00 | Acc: 0.49| F1: 0.48|: 100%|██████████| 28/28 [00:00<00:00, 72.75it/s]\n",
      "Val   185 | Loss:1.90e+00 | Acc: 0.33| F1: 0.34|: 100%|██████████| 12/12 [00:00<00:00, 96.41it/s] \n"
     ]
    },
    {
     "name": "stdout",
     "output_type": "stream",
     "text": [
      "----------------------------[Epoch186 finished!]----------------------------\n"
     ]
    },
    {
     "name": "stderr",
     "output_type": "stream",
     "text": [
      "Train 186 | Loss:1.55e+00 | Acc: 0.49| F1: 0.48|: 100%|██████████| 28/28 [00:00<00:00, 46.66it/s]\n",
      "Val   186 | Loss:1.90e+00 | Acc: 0.33| F1: 0.34|: 100%|██████████| 12/12 [00:00<00:00, 163.74it/s]\n"
     ]
    },
    {
     "name": "stdout",
     "output_type": "stream",
     "text": [
      "----------------------------[Epoch187 finished!]----------------------------\n"
     ]
    },
    {
     "name": "stderr",
     "output_type": "stream",
     "text": [
      "Train 187 | Loss:1.55e+00 | Acc: 0.49| F1: 0.48|: 100%|██████████| 28/28 [00:00<00:00, 78.81it/s]\n",
      "Val   187 | Loss:1.90e+00 | Acc: 0.33| F1: 0.34|: 100%|██████████| 12/12 [00:00<00:00, 125.31it/s]\n"
     ]
    },
    {
     "name": "stdout",
     "output_type": "stream",
     "text": [
      "----------------------------[Epoch188 finished!]----------------------------\n"
     ]
    },
    {
     "name": "stderr",
     "output_type": "stream",
     "text": [
      "Train 188 | Loss:1.55e+00 | Acc: 0.49| F1: 0.48|: 100%|██████████| 28/28 [00:00<00:00, 40.94it/s]\n",
      "Val   188 | Loss:1.90e+00 | Acc: 0.33| F1: 0.34|: 100%|██████████| 12/12 [00:00<00:00, 71.35it/s]\n"
     ]
    },
    {
     "name": "stdout",
     "output_type": "stream",
     "text": [
      "----------------------------[Epoch189 finished!]----------------------------\n"
     ]
    },
    {
     "name": "stderr",
     "output_type": "stream",
     "text": [
      "Train 189 | Loss:1.55e+00 | Acc: 0.49| F1: 0.48|: 100%|██████████| 28/28 [00:00<00:00, 38.11it/s]\n",
      "Val   189 | Loss:1.90e+00 | Acc: 0.33| F1: 0.34|: 100%|██████████| 12/12 [00:00<00:00, 71.59it/s]\n"
     ]
    },
    {
     "name": "stdout",
     "output_type": "stream",
     "text": [
      "----------------------------[Epoch190 finished!]----------------------------\n"
     ]
    },
    {
     "name": "stderr",
     "output_type": "stream",
     "text": [
      "Train 190 | Loss:1.55e+00 | Acc: 0.49| F1: 0.48|: 100%|██████████| 28/28 [00:00<00:00, 39.34it/s]\n",
      "Val   190 | Loss:1.90e+00 | Acc: 0.33| F1: 0.34|: 100%|██████████| 12/12 [00:00<00:00, 70.49it/s]\n"
     ]
    },
    {
     "name": "stdout",
     "output_type": "stream",
     "text": [
      "----------------------------[Epoch191 finished!]----------------------------\n"
     ]
    },
    {
     "name": "stderr",
     "output_type": "stream",
     "text": [
      "Train 191 | Loss:1.55e+00 | Acc: 0.49| F1: 0.48|: 100%|██████████| 28/28 [00:00<00:00, 43.41it/s]\n",
      "Val   191 | Loss:1.90e+00 | Acc: 0.33| F1: 0.34|: 100%|██████████| 12/12 [00:00<00:00, 194.84it/s]\n"
     ]
    },
    {
     "name": "stdout",
     "output_type": "stream",
     "text": [
      "----------------------------[Epoch192 finished!]----------------------------\n"
     ]
    },
    {
     "name": "stderr",
     "output_type": "stream",
     "text": [
      "Train 192 | Loss:1.55e+00 | Acc: 0.49| F1: 0.48|: 100%|██████████| 28/28 [00:00<00:00, 90.85it/s] \n",
      "Val   192 | Loss:1.90e+00 | Acc: 0.33| F1: 0.34|: 100%|██████████| 12/12 [00:00<00:00, 77.08it/s]\n"
     ]
    },
    {
     "name": "stdout",
     "output_type": "stream",
     "text": [
      "----------------------------[Epoch193 finished!]----------------------------\n"
     ]
    },
    {
     "name": "stderr",
     "output_type": "stream",
     "text": [
      "Train 193 | Loss:1.55e+00 | Acc: 0.49| F1: 0.48|: 100%|██████████| 28/28 [00:00<00:00, 40.50it/s]\n",
      "Val   193 | Loss:1.90e+00 | Acc: 0.33| F1: 0.34|: 100%|██████████| 12/12 [00:00<00:00, 61.51it/s]\n"
     ]
    },
    {
     "name": "stdout",
     "output_type": "stream",
     "text": [
      "----------------------------[Epoch194 finished!]----------------------------\n"
     ]
    },
    {
     "name": "stderr",
     "output_type": "stream",
     "text": [
      "Train 194 | Loss:1.55e+00 | Acc: 0.49| F1: 0.48|: 100%|██████████| 28/28 [00:00<00:00, 35.54it/s]\n",
      "Val   194 | Loss:1.90e+00 | Acc: 0.33| F1: 0.34|: 100%|██████████| 12/12 [00:00<00:00, 59.75it/s]\n"
     ]
    },
    {
     "name": "stdout",
     "output_type": "stream",
     "text": [
      "----------------------------[Epoch195 finished!]----------------------------\n"
     ]
    },
    {
     "name": "stderr",
     "output_type": "stream",
     "text": [
      "Train 195 | Loss:1.55e+00 | Acc: 0.49| F1: 0.48|: 100%|██████████| 28/28 [00:00<00:00, 34.64it/s]\n",
      "Val   195 | Loss:1.90e+00 | Acc: 0.33| F1: 0.34|: 100%|██████████| 12/12 [00:00<00:00, 65.30it/s]\n"
     ]
    },
    {
     "name": "stdout",
     "output_type": "stream",
     "text": [
      "----------------------------[Epoch196 finished!]----------------------------\n"
     ]
    },
    {
     "name": "stderr",
     "output_type": "stream",
     "text": [
      "Train 196 | Loss:1.55e+00 | Acc: 0.49| F1: 0.48|: 100%|██████████| 28/28 [00:00<00:00, 92.72it/s]\n",
      "Val   196 | Loss:1.90e+00 | Acc: 0.33| F1: 0.34|: 100%|██████████| 12/12 [00:00<00:00, 176.52it/s]\n"
     ]
    },
    {
     "name": "stdout",
     "output_type": "stream",
     "text": [
      "----------------------------[Epoch197 finished!]----------------------------\n"
     ]
    },
    {
     "name": "stderr",
     "output_type": "stream",
     "text": [
      "Train 197 | Loss:1.55e+00 | Acc: 0.49| F1: 0.48|: 100%|██████████| 28/28 [00:00<00:00, 46.60it/s]\n",
      "Val   197 | Loss:1.90e+00 | Acc: 0.33| F1: 0.34|: 100%|██████████| 12/12 [00:00<00:00, 95.67it/s]\n"
     ]
    },
    {
     "name": "stdout",
     "output_type": "stream",
     "text": [
      "----------------------------[Epoch198 finished!]----------------------------\n"
     ]
    },
    {
     "name": "stderr",
     "output_type": "stream",
     "text": [
      "Train 198 | Loss:1.55e+00 | Acc: 0.49| F1: 0.48|: 100%|██████████| 28/28 [00:00<00:00, 53.34it/s]\n",
      "Val   198 | Loss:1.90e+00 | Acc: 0.33| F1: 0.34|: 100%|██████████| 12/12 [00:00<00:00, 95.47it/s]\n"
     ]
    },
    {
     "name": "stdout",
     "output_type": "stream",
     "text": [
      "----------------------------[Epoch199 finished!]----------------------------\n"
     ]
    },
    {
     "name": "stderr",
     "output_type": "stream",
     "text": [
      "Train 199 | Loss:1.55e+00 | Acc: 0.49| F1: 0.48|: 100%|██████████| 28/28 [00:00<00:00, 57.11it/s]\n",
      "Val   199 | Loss:1.90e+00 | Acc: 0.33| F1: 0.34|: 100%|██████████| 12/12 [00:00<00:00, 98.52it/s]\n"
     ]
    },
    {
     "name": "stdout",
     "output_type": "stream",
     "text": [
      "----------------------------[Epoch200 finished!]----------------------------\n"
     ]
    },
    {
     "name": "stderr",
     "output_type": "stream",
     "text": [
      "Train 200 | Loss:1.55e+00 | Acc: 0.49| F1: 0.48|: 100%|██████████| 28/28 [00:00<00:00, 45.74it/s]\n",
      "Val   200 | Loss:1.90e+00 | Acc: 0.33| F1: 0.34|: 100%|██████████| 12/12 [00:00<00:00, 89.40it/s]\n"
     ]
    },
    {
     "name": "stdout",
     "output_type": "stream",
     "text": [
      "----------------------------[Epoch201 finished!]----------------------------\n"
     ]
    },
    {
     "name": "stderr",
     "output_type": "stream",
     "text": [
      "Train 201 | Loss:1.55e+00 | Acc: 0.49| F1: 0.48|: 100%|██████████| 28/28 [00:00<00:00, 39.65it/s]\n",
      "Val   201 | Loss:1.90e+00 | Acc: 0.33| F1: 0.34|: 100%|██████████| 12/12 [00:00<00:00, 83.85it/s]\n"
     ]
    },
    {
     "name": "stdout",
     "output_type": "stream",
     "text": [
      "----------------------------[Epoch202 finished!]----------------------------\n"
     ]
    },
    {
     "name": "stderr",
     "output_type": "stream",
     "text": [
      "Train 202 | Loss:1.55e+00 | Acc: 0.49| F1: 0.48|: 100%|██████████| 28/28 [00:00<00:00, 36.55it/s]\n",
      "Val   202 | Loss:1.90e+00 | Acc: 0.33| F1: 0.34|: 100%|██████████| 12/12 [00:00<00:00, 79.50it/s]\n"
     ]
    },
    {
     "name": "stdout",
     "output_type": "stream",
     "text": [
      "----------------------------[Epoch203 finished!]----------------------------\n"
     ]
    },
    {
     "name": "stderr",
     "output_type": "stream",
     "text": [
      "Train 203 | Loss:1.55e+00 | Acc: 0.49| F1: 0.48|: 100%|██████████| 28/28 [00:00<00:00, 41.68it/s]\n",
      "Val   203 | Loss:1.90e+00 | Acc: 0.33| F1: 0.34|: 100%|██████████| 12/12 [00:00<00:00, 124.74it/s]\n"
     ]
    },
    {
     "name": "stdout",
     "output_type": "stream",
     "text": [
      "----------------------------[Epoch204 finished!]----------------------------\n"
     ]
    },
    {
     "name": "stderr",
     "output_type": "stream",
     "text": [
      "Train 204 | Loss:1.55e+00 | Acc: 0.49| F1: 0.48|: 100%|██████████| 28/28 [00:00<00:00, 89.65it/s]\n",
      "Val   204 | Loss:1.90e+00 | Acc: 0.33| F1: 0.34|: 100%|██████████| 12/12 [00:00<00:00, 168.05it/s]\n"
     ]
    },
    {
     "name": "stdout",
     "output_type": "stream",
     "text": [
      "----------------------------[Epoch205 finished!]----------------------------\n"
     ]
    },
    {
     "name": "stderr",
     "output_type": "stream",
     "text": [
      "Train 205 | Loss:1.55e+00 | Acc: 0.49| F1: 0.48|: 100%|██████████| 28/28 [00:00<00:00, 75.00it/s]\n",
      "Val   205 | Loss:1.90e+00 | Acc: 0.33| F1: 0.34|: 100%|██████████| 12/12 [00:00<00:00, 97.43it/s]\n"
     ]
    },
    {
     "name": "stdout",
     "output_type": "stream",
     "text": [
      "----------------------------[Epoch206 finished!]----------------------------\n"
     ]
    },
    {
     "name": "stderr",
     "output_type": "stream",
     "text": [
      "Train 206 | Loss:1.55e+00 | Acc: 0.49| F1: 0.48|: 100%|██████████| 28/28 [00:00<00:00, 68.43it/s]\n",
      "Val   206 | Loss:1.90e+00 | Acc: 0.33| F1: 0.34|: 100%|██████████| 12/12 [00:00<00:00, 159.21it/s]\n"
     ]
    },
    {
     "name": "stdout",
     "output_type": "stream",
     "text": [
      "----------------------------[Epoch207 finished!]----------------------------\n"
     ]
    },
    {
     "name": "stderr",
     "output_type": "stream",
     "text": [
      "Train 207 | Loss:1.55e+00 | Acc: 0.49| F1: 0.48|: 100%|██████████| 28/28 [00:00<00:00, 76.69it/s]\n",
      "Val   207 | Loss:1.90e+00 | Acc: 0.33| F1: 0.34|: 100%|██████████| 12/12 [00:00<00:00, 127.52it/s]\n"
     ]
    },
    {
     "name": "stdout",
     "output_type": "stream",
     "text": [
      "----------------------------[Epoch208 finished!]----------------------------\n"
     ]
    },
    {
     "name": "stderr",
     "output_type": "stream",
     "text": [
      "Train 208 | Loss:1.55e+00 | Acc: 0.49| F1: 0.48|: 100%|██████████| 28/28 [00:00<00:00, 76.74it/s]\n",
      "Val   208 | Loss:1.90e+00 | Acc: 0.33| F1: 0.34|: 100%|██████████| 12/12 [00:00<00:00, 151.63it/s]\n"
     ]
    },
    {
     "name": "stdout",
     "output_type": "stream",
     "text": [
      "----------------------------[Epoch209 finished!]----------------------------\n"
     ]
    },
    {
     "name": "stderr",
     "output_type": "stream",
     "text": [
      "Train 209 | Loss:1.55e+00 | Acc: 0.49| F1: 0.48|: 100%|██████████| 28/28 [00:00<00:00, 40.94it/s]\n",
      "Val   209 | Loss:1.90e+00 | Acc: 0.33| F1: 0.34|: 100%|██████████| 12/12 [00:00<00:00, 71.88it/s]\n"
     ]
    },
    {
     "name": "stdout",
     "output_type": "stream",
     "text": [
      "----------------------------[Epoch210 finished!]----------------------------\n"
     ]
    },
    {
     "name": "stderr",
     "output_type": "stream",
     "text": [
      "Train 210 | Loss:1.55e+00 | Acc: 0.49| F1: 0.48|: 100%|██████████| 28/28 [00:00<00:00, 41.78it/s]\n",
      "Val   210 | Loss:1.90e+00 | Acc: 0.33| F1: 0.34|: 100%|██████████| 12/12 [00:00<00:00, 179.58it/s]\n"
     ]
    },
    {
     "name": "stdout",
     "output_type": "stream",
     "text": [
      "----------------------------[Epoch211 finished!]----------------------------\n"
     ]
    },
    {
     "name": "stderr",
     "output_type": "stream",
     "text": [
      "Train 211 | Loss:1.55e+00 | Acc: 0.49| F1: 0.48|: 100%|██████████| 28/28 [00:00<00:00, 44.98it/s]\n",
      "Val   211 | Loss:1.90e+00 | Acc: 0.33| F1: 0.34|: 100%|██████████| 12/12 [00:00<00:00, 70.20it/s]\n"
     ]
    },
    {
     "name": "stdout",
     "output_type": "stream",
     "text": [
      "----------------------------[Epoch212 finished!]----------------------------\n"
     ]
    },
    {
     "name": "stderr",
     "output_type": "stream",
     "text": [
      "Train 212 | Loss:1.55e+00 | Acc: 0.49| F1: 0.48|: 100%|██████████| 28/28 [00:00<00:00, 37.57it/s]\n",
      "Val   212 | Loss:1.90e+00 | Acc: 0.33| F1: 0.34|: 100%|██████████| 12/12 [00:00<00:00, 53.35it/s]\n"
     ]
    },
    {
     "name": "stdout",
     "output_type": "stream",
     "text": [
      "----------------------------[Epoch213 finished!]----------------------------\n"
     ]
    },
    {
     "name": "stderr",
     "output_type": "stream",
     "text": [
      "Train 213 | Loss:1.55e+00 | Acc: 0.49| F1: 0.48|: 100%|██████████| 28/28 [00:00<00:00, 72.28it/s]\n",
      "Val   213 | Loss:1.90e+00 | Acc: 0.33| F1: 0.34|: 100%|██████████| 12/12 [00:00<00:00, 155.25it/s]\n"
     ]
    },
    {
     "name": "stdout",
     "output_type": "stream",
     "text": [
      "----------------------------[Epoch214 finished!]----------------------------\n"
     ]
    },
    {
     "name": "stderr",
     "output_type": "stream",
     "text": [
      "Train 214 | Loss:1.55e+00 | Acc: 0.49| F1: 0.48|: 100%|██████████| 28/28 [00:00<00:00, 37.08it/s]\n",
      "Val   214 | Loss:1.90e+00 | Acc: 0.33| F1: 0.34|: 100%|██████████| 12/12 [00:00<00:00, 50.75it/s]\n"
     ]
    },
    {
     "name": "stdout",
     "output_type": "stream",
     "text": [
      "----------------------------[Epoch215 finished!]----------------------------\n"
     ]
    },
    {
     "name": "stderr",
     "output_type": "stream",
     "text": [
      "Train 215 | Loss:1.55e+00 | Acc: 0.49| F1: 0.48|: 100%|██████████| 28/28 [00:00<00:00, 58.86it/s]\n",
      "Val   215 | Loss:1.90e+00 | Acc: 0.33| F1: 0.34|: 100%|██████████| 12/12 [00:00<00:00, 162.05it/s]\n"
     ]
    },
    {
     "name": "stdout",
     "output_type": "stream",
     "text": [
      "----------------------------[Epoch216 finished!]----------------------------\n"
     ]
    },
    {
     "name": "stderr",
     "output_type": "stream",
     "text": [
      "Train 216 | Loss:1.55e+00 | Acc: 0.49| F1: 0.48|: 100%|██████████| 28/28 [00:00<00:00, 41.70it/s]\n",
      "Val   216 | Loss:1.90e+00 | Acc: 0.33| F1: 0.34|: 100%|██████████| 12/12 [00:00<00:00, 120.46it/s]\n"
     ]
    },
    {
     "name": "stdout",
     "output_type": "stream",
     "text": [
      "----------------------------[Epoch217 finished!]----------------------------\n"
     ]
    },
    {
     "name": "stderr",
     "output_type": "stream",
     "text": [
      "Train 217 | Loss:1.55e+00 | Acc: 0.49| F1: 0.48|: 100%|██████████| 28/28 [00:00<00:00, 56.07it/s]\n",
      "Val   217 | Loss:1.90e+00 | Acc: 0.33| F1: 0.34|: 100%|██████████| 12/12 [00:00<00:00, 54.60it/s]\n"
     ]
    },
    {
     "name": "stdout",
     "output_type": "stream",
     "text": [
      "----------------------------[Epoch218 finished!]----------------------------\n"
     ]
    },
    {
     "name": "stderr",
     "output_type": "stream",
     "text": [
      "Train 218 | Loss:1.55e+00 | Acc: 0.49| F1: 0.48|: 100%|██████████| 28/28 [00:00<00:00, 36.50it/s]\n",
      "Val   218 | Loss:1.90e+00 | Acc: 0.33| F1: 0.34|: 100%|██████████| 12/12 [00:00<00:00, 73.89it/s]\n"
     ]
    },
    {
     "name": "stdout",
     "output_type": "stream",
     "text": [
      "----------------------------[Epoch219 finished!]----------------------------\n"
     ]
    },
    {
     "name": "stderr",
     "output_type": "stream",
     "text": [
      "Train 219 | Loss:1.55e+00 | Acc: 0.49| F1: 0.48|: 100%|██████████| 28/28 [00:00<00:00, 36.03it/s]\n",
      "Val   219 | Loss:1.90e+00 | Acc: 0.33| F1: 0.34|: 100%|██████████| 12/12 [00:00<00:00, 77.11it/s]\n"
     ]
    },
    {
     "name": "stdout",
     "output_type": "stream",
     "text": [
      "----------------------------[Epoch220 finished!]----------------------------\n"
     ]
    },
    {
     "name": "stderr",
     "output_type": "stream",
     "text": [
      "Train 220 | Loss:1.55e+00 | Acc: 0.49| F1: 0.48|: 100%|██████████| 28/28 [00:00<00:00, 74.58it/s]\n",
      "Val   220 | Loss:1.90e+00 | Acc: 0.33| F1: 0.34|: 100%|██████████| 12/12 [00:00<00:00, 66.27it/s]\n"
     ]
    },
    {
     "name": "stdout",
     "output_type": "stream",
     "text": [
      "----------------------------[Epoch221 finished!]----------------------------\n"
     ]
    },
    {
     "name": "stderr",
     "output_type": "stream",
     "text": [
      "Train 221 | Loss:1.55e+00 | Acc: 0.49| F1: 0.48|: 100%|██████████| 28/28 [00:00<00:00, 37.22it/s]\n",
      "Val   221 | Loss:1.90e+00 | Acc: 0.33| F1: 0.34|: 100%|██████████| 12/12 [00:00<00:00, 66.45it/s]\n"
     ]
    },
    {
     "name": "stdout",
     "output_type": "stream",
     "text": [
      "----------------------------[Epoch222 finished!]----------------------------\n"
     ]
    },
    {
     "name": "stderr",
     "output_type": "stream",
     "text": [
      "Train 222 | Loss:1.55e+00 | Acc: 0.49| F1: 0.48|: 100%|██████████| 28/28 [00:00<00:00, 63.88it/s]\n",
      "Val   222 | Loss:1.90e+00 | Acc: 0.33| F1: 0.34|: 100%|██████████| 12/12 [00:00<00:00, 186.77it/s]\n"
     ]
    },
    {
     "name": "stdout",
     "output_type": "stream",
     "text": [
      "----------------------------[Epoch223 finished!]----------------------------\n"
     ]
    },
    {
     "name": "stderr",
     "output_type": "stream",
     "text": [
      "Train 223 | Loss:1.55e+00 | Acc: 0.49| F1: 0.48|: 100%|██████████| 28/28 [00:00<00:00, 97.20it/s] \n",
      "Val   223 | Loss:1.90e+00 | Acc: 0.33| F1: 0.34|: 100%|██████████| 12/12 [00:00<00:00, 87.57it/s]\n"
     ]
    },
    {
     "name": "stdout",
     "output_type": "stream",
     "text": [
      "----------------------------[Epoch224 finished!]----------------------------\n"
     ]
    },
    {
     "name": "stderr",
     "output_type": "stream",
     "text": [
      "Train 224 | Loss:1.55e+00 | Acc: 0.49| F1: 0.48|: 100%|██████████| 28/28 [00:00<00:00, 39.38it/s]\n",
      "Val   224 | Loss:1.90e+00 | Acc: 0.33| F1: 0.34|: 100%|██████████| 12/12 [00:00<00:00, 86.83it/s]\n"
     ]
    },
    {
     "name": "stdout",
     "output_type": "stream",
     "text": [
      "----------------------------[Epoch225 finished!]----------------------------\n"
     ]
    },
    {
     "name": "stderr",
     "output_type": "stream",
     "text": [
      "Train 225 | Loss:1.55e+00 | Acc: 0.49| F1: 0.48|: 100%|██████████| 28/28 [00:00<00:00, 91.20it/s]\n",
      "Val   225 | Loss:1.90e+00 | Acc: 0.33| F1: 0.34|: 100%|██████████| 12/12 [00:00<00:00, 118.42it/s]\n"
     ]
    },
    {
     "name": "stdout",
     "output_type": "stream",
     "text": [
      "----------------------------[Epoch226 finished!]----------------------------\n"
     ]
    },
    {
     "name": "stderr",
     "output_type": "stream",
     "text": [
      "Train 226 | Loss:1.55e+00 | Acc: 0.49| F1: 0.48|: 100%|██████████| 28/28 [00:00<00:00, 42.17it/s]\n",
      "Val   226 | Loss:1.90e+00 | Acc: 0.33| F1: 0.34|: 100%|██████████| 12/12 [00:00<00:00, 122.53it/s]\n"
     ]
    },
    {
     "name": "stdout",
     "output_type": "stream",
     "text": [
      "----------------------------[Epoch227 finished!]----------------------------\n"
     ]
    },
    {
     "name": "stderr",
     "output_type": "stream",
     "text": [
      "Train 227 | Loss:1.55e+00 | Acc: 0.49| F1: 0.48|: 100%|██████████| 28/28 [00:00<00:00, 33.39it/s]\n",
      "Val   227 | Loss:1.90e+00 | Acc: 0.33| F1: 0.34|: 100%|██████████| 12/12 [00:00<00:00, 92.21it/s]\n"
     ]
    },
    {
     "name": "stdout",
     "output_type": "stream",
     "text": [
      "----------------------------[Epoch228 finished!]----------------------------\n"
     ]
    },
    {
     "name": "stderr",
     "output_type": "stream",
     "text": [
      "Train 228 | Loss:1.55e+00 | Acc: 0.49| F1: 0.48|: 100%|██████████| 28/28 [00:00<00:00, 53.95it/s]\n",
      "Val   228 | Loss:1.90e+00 | Acc: 0.33| F1: 0.34|: 100%|██████████| 12/12 [00:00<00:00, 101.11it/s]\n"
     ]
    },
    {
     "name": "stdout",
     "output_type": "stream",
     "text": [
      "----------------------------[Epoch229 finished!]----------------------------\n"
     ]
    },
    {
     "name": "stderr",
     "output_type": "stream",
     "text": [
      "Train 229 | Loss:1.55e+00 | Acc: 0.49| F1: 0.48|: 100%|██████████| 28/28 [00:00<00:00, 58.55it/s]\n",
      "Val   229 | Loss:1.90e+00 | Acc: 0.33| F1: 0.34|: 100%|██████████| 12/12 [00:00<00:00, 77.50it/s]\n"
     ]
    },
    {
     "name": "stdout",
     "output_type": "stream",
     "text": [
      "----------------------------[Epoch230 finished!]----------------------------\n"
     ]
    },
    {
     "name": "stderr",
     "output_type": "stream",
     "text": [
      "Train 230 | Loss:1.55e+00 | Acc: 0.49| F1: 0.48|: 100%|██████████| 28/28 [00:00<00:00, 53.49it/s]\n",
      "Val   230 | Loss:1.90e+00 | Acc: 0.33| F1: 0.34|: 100%|██████████| 12/12 [00:00<00:00, 63.77it/s]\n"
     ]
    },
    {
     "name": "stdout",
     "output_type": "stream",
     "text": [
      "----------------------------[Epoch231 finished!]----------------------------\n"
     ]
    },
    {
     "name": "stderr",
     "output_type": "stream",
     "text": [
      "Train 231 | Loss:1.55e+00 | Acc: 0.49| F1: 0.48|: 100%|██████████| 28/28 [00:00<00:00, 38.51it/s]\n",
      "Val   231 | Loss:1.90e+00 | Acc: 0.33| F1: 0.34|: 100%|██████████| 12/12 [00:00<00:00, 72.49it/s]\n"
     ]
    },
    {
     "name": "stdout",
     "output_type": "stream",
     "text": [
      "----------------------------[Epoch232 finished!]----------------------------\n"
     ]
    },
    {
     "name": "stderr",
     "output_type": "stream",
     "text": [
      "Train 232 | Loss:1.55e+00 | Acc: 0.49| F1: 0.48|: 100%|██████████| 28/28 [00:00<00:00, 51.13it/s]\n",
      "Val   232 | Loss:1.90e+00 | Acc: 0.33| F1: 0.34|: 100%|██████████| 12/12 [00:00<00:00, 105.45it/s]\n"
     ]
    },
    {
     "name": "stdout",
     "output_type": "stream",
     "text": [
      "----------------------------[Epoch233 finished!]----------------------------\n"
     ]
    },
    {
     "name": "stderr",
     "output_type": "stream",
     "text": [
      "Train 233 | Loss:1.55e+00 | Acc: 0.49| F1: 0.48|: 100%|██████████| 28/28 [00:00<00:00, 49.34it/s]\n",
      "Val   233 | Loss:1.90e+00 | Acc: 0.33| F1: 0.34|: 100%|██████████| 12/12 [00:00<00:00, 131.37it/s]\n"
     ]
    },
    {
     "name": "stdout",
     "output_type": "stream",
     "text": [
      "----------------------------[Epoch234 finished!]----------------------------\n"
     ]
    },
    {
     "name": "stderr",
     "output_type": "stream",
     "text": [
      "Train 234 | Loss:1.55e+00 | Acc: 0.49| F1: 0.48|: 100%|██████████| 28/28 [00:00<00:00, 71.33it/s]\n",
      "Val   234 | Loss:1.90e+00 | Acc: 0.33| F1: 0.34|: 100%|██████████| 12/12 [00:00<00:00, 140.81it/s]\n"
     ]
    },
    {
     "name": "stdout",
     "output_type": "stream",
     "text": [
      "----------------------------[Epoch235 finished!]----------------------------\n"
     ]
    },
    {
     "name": "stderr",
     "output_type": "stream",
     "text": [
      "Train 235 | Loss:1.55e+00 | Acc: 0.49| F1: 0.48|: 100%|██████████| 28/28 [00:00<00:00, 85.92it/s]\n",
      "Val   235 | Loss:1.90e+00 | Acc: 0.33| F1: 0.34|: 100%|██████████| 12/12 [00:00<00:00, 143.16it/s]\n"
     ]
    },
    {
     "name": "stdout",
     "output_type": "stream",
     "text": [
      "----------------------------[Epoch236 finished!]----------------------------\n"
     ]
    },
    {
     "name": "stderr",
     "output_type": "stream",
     "text": [
      "Train 236 | Loss:1.55e+00 | Acc: 0.49| F1: 0.48|: 100%|██████████| 28/28 [00:00<00:00, 75.20it/s]\n",
      "Val   236 | Loss:1.90e+00 | Acc: 0.33| F1: 0.34|: 100%|██████████| 12/12 [00:00<00:00, 132.72it/s]\n"
     ]
    },
    {
     "name": "stdout",
     "output_type": "stream",
     "text": [
      "----------------------------[Epoch237 finished!]----------------------------\n"
     ]
    },
    {
     "name": "stderr",
     "output_type": "stream",
     "text": [
      "Train 237 | Loss:1.55e+00 | Acc: 0.49| F1: 0.48|: 100%|██████████| 28/28 [00:00<00:00, 72.71it/s]\n",
      "Val   237 | Loss:1.90e+00 | Acc: 0.33| F1: 0.34|: 100%|██████████| 12/12 [00:00<00:00, 134.74it/s]\n"
     ]
    },
    {
     "name": "stdout",
     "output_type": "stream",
     "text": [
      "----------------------------[Epoch238 finished!]----------------------------\n"
     ]
    },
    {
     "name": "stderr",
     "output_type": "stream",
     "text": [
      "Train 238 | Loss:1.55e+00 | Acc: 0.49| F1: 0.48|: 100%|██████████| 28/28 [00:00<00:00, 59.72it/s]\n",
      "Val   238 | Loss:1.90e+00 | Acc: 0.33| F1: 0.34|: 100%|██████████| 12/12 [00:00<00:00, 116.98it/s]\n"
     ]
    },
    {
     "name": "stdout",
     "output_type": "stream",
     "text": [
      "----------------------------[Epoch239 finished!]----------------------------\n"
     ]
    },
    {
     "name": "stderr",
     "output_type": "stream",
     "text": [
      "Train 239 | Loss:1.55e+00 | Acc: 0.49| F1: 0.48|: 100%|██████████| 28/28 [00:00<00:00, 76.01it/s]\n",
      "Val   239 | Loss:1.90e+00 | Acc: 0.33| F1: 0.34|: 100%|██████████| 12/12 [00:00<00:00, 139.49it/s]\n"
     ]
    },
    {
     "name": "stdout",
     "output_type": "stream",
     "text": [
      "----------------------------[Epoch240 finished!]----------------------------\n"
     ]
    },
    {
     "name": "stderr",
     "output_type": "stream",
     "text": [
      "Train 240 | Loss:1.55e+00 | Acc: 0.49| F1: 0.48|: 100%|██████████| 28/28 [00:00<00:00, 71.30it/s]\n",
      "Val   240 | Loss:1.90e+00 | Acc: 0.33| F1: 0.34|: 100%|██████████| 12/12 [00:00<00:00, 136.40it/s]\n"
     ]
    },
    {
     "name": "stdout",
     "output_type": "stream",
     "text": [
      "----------------------------[Epoch241 finished!]----------------------------\n"
     ]
    },
    {
     "name": "stderr",
     "output_type": "stream",
     "text": [
      "Train 241 | Loss:1.55e+00 | Acc: 0.49| F1: 0.48|: 100%|██████████| 28/28 [00:00<00:00, 74.25it/s]\n",
      "Val   241 | Loss:1.90e+00 | Acc: 0.33| F1: 0.34|: 100%|██████████| 12/12 [00:00<00:00, 135.20it/s]\n"
     ]
    },
    {
     "name": "stdout",
     "output_type": "stream",
     "text": [
      "----------------------------[Epoch242 finished!]----------------------------\n"
     ]
    },
    {
     "name": "stderr",
     "output_type": "stream",
     "text": [
      "Train 242 | Loss:1.55e+00 | Acc: 0.49| F1: 0.48|: 100%|██████████| 28/28 [00:00<00:00, 74.61it/s]\n",
      "Val   242 | Loss:1.90e+00 | Acc: 0.33| F1: 0.34|: 100%|██████████| 12/12 [00:00<00:00, 133.61it/s]\n"
     ]
    },
    {
     "name": "stdout",
     "output_type": "stream",
     "text": [
      "----------------------------[Epoch243 finished!]----------------------------\n"
     ]
    },
    {
     "name": "stderr",
     "output_type": "stream",
     "text": [
      "Train 243 | Loss:1.55e+00 | Acc: 0.49| F1: 0.48|: 100%|██████████| 28/28 [00:00<00:00, 74.88it/s]\n",
      "Val   243 | Loss:1.90e+00 | Acc: 0.33| F1: 0.34|: 100%|██████████| 12/12 [00:00<00:00, 112.18it/s]\n"
     ]
    },
    {
     "name": "stdout",
     "output_type": "stream",
     "text": [
      "----------------------------[Epoch244 finished!]----------------------------\n"
     ]
    },
    {
     "name": "stderr",
     "output_type": "stream",
     "text": [
      "Train 244 | Loss:1.55e+00 | Acc: 0.49| F1: 0.48|: 100%|██████████| 28/28 [00:00<00:00, 70.05it/s]\n",
      "Val   244 | Loss:1.90e+00 | Acc: 0.33| F1: 0.34|: 100%|██████████| 12/12 [00:00<00:00, 122.22it/s]\n"
     ]
    },
    {
     "name": "stdout",
     "output_type": "stream",
     "text": [
      "----------------------------[Epoch245 finished!]----------------------------\n"
     ]
    },
    {
     "name": "stderr",
     "output_type": "stream",
     "text": [
      "Train 245 | Loss:1.55e+00 | Acc: 0.49| F1: 0.48|: 100%|██████████| 28/28 [00:00<00:00, 72.49it/s]\n",
      "Val   245 | Loss:1.90e+00 | Acc: 0.33| F1: 0.34|: 100%|██████████| 12/12 [00:00<00:00, 144.83it/s]\n"
     ]
    },
    {
     "name": "stdout",
     "output_type": "stream",
     "text": [
      "----------------------------[Epoch246 finished!]----------------------------\n"
     ]
    },
    {
     "name": "stderr",
     "output_type": "stream",
     "text": [
      "Train 246 | Loss:1.55e+00 | Acc: 0.49| F1: 0.48|: 100%|██████████| 28/28 [00:00<00:00, 76.98it/s]\n",
      "Val   246 | Loss:1.90e+00 | Acc: 0.33| F1: 0.34|: 100%|██████████| 12/12 [00:00<00:00, 133.01it/s]\n"
     ]
    },
    {
     "name": "stdout",
     "output_type": "stream",
     "text": [
      "----------------------------[Epoch247 finished!]----------------------------\n"
     ]
    },
    {
     "name": "stderr",
     "output_type": "stream",
     "text": [
      "Train 247 | Loss:1.55e+00 | Acc: 0.49| F1: 0.48|: 100%|██████████| 28/28 [00:00<00:00, 70.83it/s]\n",
      "Val   247 | Loss:1.90e+00 | Acc: 0.33| F1: 0.34|: 100%|██████████| 12/12 [00:00<00:00, 109.73it/s]\n"
     ]
    },
    {
     "name": "stdout",
     "output_type": "stream",
     "text": [
      "----------------------------[Epoch248 finished!]----------------------------\n"
     ]
    },
    {
     "name": "stderr",
     "output_type": "stream",
     "text": [
      "Train 248 | Loss:1.55e+00 | Acc: 0.49| F1: 0.48|: 100%|██████████| 28/28 [00:00<00:00, 53.12it/s]\n",
      "Val   248 | Loss:1.90e+00 | Acc: 0.33| F1: 0.34|: 100%|██████████| 12/12 [00:00<00:00, 137.73it/s]\n"
     ]
    },
    {
     "name": "stdout",
     "output_type": "stream",
     "text": [
      "----------------------------[Epoch249 finished!]----------------------------\n"
     ]
    },
    {
     "name": "stderr",
     "output_type": "stream",
     "text": [
      "Train 249 | Loss:1.55e+00 | Acc: 0.49| F1: 0.48|: 100%|██████████| 28/28 [00:00<00:00, 48.18it/s]\n",
      "Val   249 | Loss:1.90e+00 | Acc: 0.33| F1: 0.34|: 100%|██████████| 12/12 [00:00<00:00, 74.22it/s]\n"
     ]
    },
    {
     "name": "stdout",
     "output_type": "stream",
     "text": [
      "----------------------------[Epoch250 finished!]----------------------------\n"
     ]
    },
    {
     "name": "stderr",
     "output_type": "stream",
     "text": [
      "Train 250 | Loss:1.55e+00 | Acc: 0.49| F1: 0.48|: 100%|██████████| 28/28 [00:00<00:00, 46.53it/s]\n",
      "Val   250 | Loss:1.90e+00 | Acc: 0.33| F1: 0.34|: 100%|██████████| 12/12 [00:00<00:00, 106.75it/s]\n"
     ]
    },
    {
     "name": "stdout",
     "output_type": "stream",
     "text": [
      "----------------------------[Epoch251 finished!]----------------------------\n"
     ]
    },
    {
     "name": "stderr",
     "output_type": "stream",
     "text": [
      "Train 251 | Loss:1.55e+00 | Acc: 0.49| F1: 0.48|: 100%|██████████| 28/28 [00:00<00:00, 67.97it/s]\n",
      "Val   251 | Loss:1.90e+00 | Acc: 0.33| F1: 0.34|: 100%|██████████| 12/12 [00:00<00:00, 84.78it/s]\n"
     ]
    },
    {
     "name": "stdout",
     "output_type": "stream",
     "text": [
      "----------------------------[Epoch252 finished!]----------------------------\n"
     ]
    },
    {
     "name": "stderr",
     "output_type": "stream",
     "text": [
      "Train 252 | Loss:1.55e+00 | Acc: 0.49| F1: 0.48|: 100%|██████████| 28/28 [00:00<00:00, 67.89it/s]\n",
      "Val   252 | Loss:1.90e+00 | Acc: 0.33| F1: 0.34|: 100%|██████████| 12/12 [00:00<00:00, 119.27it/s]\n"
     ]
    },
    {
     "name": "stdout",
     "output_type": "stream",
     "text": [
      "----------------------------[Epoch253 finished!]----------------------------\n"
     ]
    },
    {
     "name": "stderr",
     "output_type": "stream",
     "text": [
      "Train 253 | Loss:1.55e+00 | Acc: 0.49| F1: 0.48|: 100%|██████████| 28/28 [00:00<00:00, 70.36it/s]\n",
      "Val   253 | Loss:1.90e+00 | Acc: 0.33| F1: 0.34|: 100%|██████████| 12/12 [00:00<00:00, 130.42it/s]\n"
     ]
    },
    {
     "name": "stdout",
     "output_type": "stream",
     "text": [
      "----------------------------[Epoch254 finished!]----------------------------\n"
     ]
    },
    {
     "name": "stderr",
     "output_type": "stream",
     "text": [
      "Train 254 | Loss:1.55e+00 | Acc: 0.49| F1: 0.48|: 100%|██████████| 28/28 [00:00<00:00, 71.26it/s]\n",
      "Val   254 | Loss:1.90e+00 | Acc: 0.33| F1: 0.34|: 100%|██████████| 12/12 [00:00<00:00, 126.63it/s]\n"
     ]
    },
    {
     "name": "stdout",
     "output_type": "stream",
     "text": [
      "----------------------------[Epoch255 finished!]----------------------------\n"
     ]
    },
    {
     "name": "stderr",
     "output_type": "stream",
     "text": [
      "Train 255 | Loss:1.55e+00 | Acc: 0.49| F1: 0.48|: 100%|██████████| 28/28 [00:00<00:00, 77.63it/s]\n",
      "Val   255 | Loss:1.90e+00 | Acc: 0.33| F1: 0.34|: 100%|██████████| 12/12 [00:00<00:00, 144.69it/s]\n"
     ]
    },
    {
     "name": "stdout",
     "output_type": "stream",
     "text": [
      "----------------------------[Epoch256 finished!]----------------------------\n"
     ]
    },
    {
     "name": "stderr",
     "output_type": "stream",
     "text": [
      "Train 256 | Loss:1.55e+00 | Acc: 0.49| F1: 0.48|: 100%|██████████| 28/28 [00:00<00:00, 60.51it/s]\n",
      "Val   256 | Loss:1.90e+00 | Acc: 0.33| F1: 0.34|: 100%|██████████| 12/12 [00:00<00:00, 156.39it/s]\n"
     ]
    },
    {
     "name": "stdout",
     "output_type": "stream",
     "text": [
      "----------------------------[Epoch257 finished!]----------------------------\n"
     ]
    },
    {
     "name": "stderr",
     "output_type": "stream",
     "text": [
      "Train 257 | Loss:1.55e+00 | Acc: 0.49| F1: 0.48|: 100%|██████████| 28/28 [00:00<00:00, 76.39it/s]\n",
      "Val   257 | Loss:1.90e+00 | Acc: 0.33| F1: 0.34|: 100%|██████████| 12/12 [00:00<00:00, 121.90it/s]\n"
     ]
    },
    {
     "name": "stdout",
     "output_type": "stream",
     "text": [
      "----------------------------[Epoch258 finished!]----------------------------\n"
     ]
    },
    {
     "name": "stderr",
     "output_type": "stream",
     "text": [
      "Train 258 | Loss:1.55e+00 | Acc: 0.49| F1: 0.48|: 100%|██████████| 28/28 [00:00<00:00, 71.27it/s]\n",
      "Val   258 | Loss:1.90e+00 | Acc: 0.33| F1: 0.34|: 100%|██████████| 12/12 [00:00<00:00, 122.07it/s]\n"
     ]
    },
    {
     "name": "stdout",
     "output_type": "stream",
     "text": [
      "----------------------------[Epoch259 finished!]----------------------------\n"
     ]
    },
    {
     "name": "stderr",
     "output_type": "stream",
     "text": [
      "Train 259 | Loss:1.55e+00 | Acc: 0.49| F1: 0.48|: 100%|██████████| 28/28 [00:00<00:00, 53.86it/s]\n",
      "Val   259 | Loss:1.90e+00 | Acc: 0.33| F1: 0.34|: 100%|██████████| 12/12 [00:00<00:00, 63.51it/s]\n"
     ]
    },
    {
     "name": "stdout",
     "output_type": "stream",
     "text": [
      "----------------------------[Epoch260 finished!]----------------------------\n"
     ]
    },
    {
     "name": "stderr",
     "output_type": "stream",
     "text": [
      "Train 260 | Loss:1.55e+00 | Acc: 0.49| F1: 0.48|: 100%|██████████| 28/28 [00:00<00:00, 34.59it/s]\n",
      "Val   260 | Loss:1.90e+00 | Acc: 0.33| F1: 0.34|: 100%|██████████| 12/12 [00:00<00:00, 70.11it/s]\n"
     ]
    },
    {
     "name": "stdout",
     "output_type": "stream",
     "text": [
      "----------------------------[Epoch261 finished!]----------------------------\n"
     ]
    },
    {
     "name": "stderr",
     "output_type": "stream",
     "text": [
      "Train 261 | Loss:1.55e+00 | Acc: 0.49| F1: 0.48|: 100%|██████████| 28/28 [00:00<00:00, 38.17it/s]\n",
      "Val   261 | Loss:1.90e+00 | Acc: 0.33| F1: 0.34|: 100%|██████████| 12/12 [00:00<00:00, 53.65it/s]\n"
     ]
    },
    {
     "name": "stdout",
     "output_type": "stream",
     "text": [
      "----------------------------[Epoch262 finished!]----------------------------\n"
     ]
    },
    {
     "name": "stderr",
     "output_type": "stream",
     "text": [
      "Train 262 | Loss:1.55e+00 | Acc: 0.49| F1: 0.48|: 100%|██████████| 28/28 [00:00<00:00, 72.52it/s]\n",
      "Val   262 | Loss:1.90e+00 | Acc: 0.33| F1: 0.34|: 100%|██████████| 12/12 [00:00<00:00, 155.02it/s]\n"
     ]
    },
    {
     "name": "stdout",
     "output_type": "stream",
     "text": [
      "----------------------------[Epoch263 finished!]----------------------------\n"
     ]
    },
    {
     "name": "stderr",
     "output_type": "stream",
     "text": [
      "Train 263 | Loss:1.55e+00 | Acc: 0.49| F1: 0.48|: 100%|██████████| 28/28 [00:00<00:00, 87.96it/s]\n",
      "Val   263 | Loss:1.90e+00 | Acc: 0.33| F1: 0.34|: 100%|██████████| 12/12 [00:00<00:00, 173.35it/s]\n"
     ]
    },
    {
     "name": "stdout",
     "output_type": "stream",
     "text": [
      "----------------------------[Epoch264 finished!]----------------------------\n"
     ]
    },
    {
     "name": "stderr",
     "output_type": "stream",
     "text": [
      "Train 264 | Loss:1.55e+00 | Acc: 0.49| F1: 0.48|: 100%|██████████| 28/28 [00:00<00:00, 78.73it/s]\n",
      "Val   264 | Loss:1.90e+00 | Acc: 0.33| F1: 0.34|: 100%|██████████| 12/12 [00:00<00:00, 165.72it/s]\n"
     ]
    },
    {
     "name": "stdout",
     "output_type": "stream",
     "text": [
      "----------------------------[Epoch265 finished!]----------------------------\n"
     ]
    },
    {
     "name": "stderr",
     "output_type": "stream",
     "text": [
      "Train 265 | Loss:1.55e+00 | Acc: 0.49| F1: 0.48|: 100%|██████████| 28/28 [00:00<00:00, 41.27it/s]\n",
      "Val   265 | Loss:1.90e+00 | Acc: 0.33| F1: 0.34|: 100%|██████████| 12/12 [00:00<00:00, 72.63it/s]\n"
     ]
    },
    {
     "name": "stdout",
     "output_type": "stream",
     "text": [
      "----------------------------[Epoch266 finished!]----------------------------\n"
     ]
    },
    {
     "name": "stderr",
     "output_type": "stream",
     "text": [
      "Train 266 | Loss:1.55e+00 | Acc: 0.49| F1: 0.48|: 100%|██████████| 28/28 [00:00<00:00, 40.65it/s]\n",
      "Val   266 | Loss:1.90e+00 | Acc: 0.33| F1: 0.34|: 100%|██████████| 12/12 [00:00<00:00, 74.66it/s]\n"
     ]
    },
    {
     "name": "stdout",
     "output_type": "stream",
     "text": [
      "----------------------------[Epoch267 finished!]----------------------------\n"
     ]
    },
    {
     "name": "stderr",
     "output_type": "stream",
     "text": [
      "Train 267 | Loss:1.55e+00 | Acc: 0.49| F1: 0.48|: 100%|██████████| 28/28 [00:00<00:00, 39.54it/s]\n",
      "Val   267 | Loss:1.90e+00 | Acc: 0.33| F1: 0.34|: 100%|██████████| 12/12 [00:00<00:00, 70.22it/s]\n"
     ]
    },
    {
     "name": "stdout",
     "output_type": "stream",
     "text": [
      "----------------------------[Epoch268 finished!]----------------------------\n"
     ]
    },
    {
     "name": "stderr",
     "output_type": "stream",
     "text": [
      "Train 268 | Loss:1.55e+00 | Acc: 0.49| F1: 0.48|: 100%|██████████| 28/28 [00:00<00:00, 39.05it/s]\n",
      "Val   268 | Loss:1.90e+00 | Acc: 0.33| F1: 0.34|: 100%|██████████| 12/12 [00:00<00:00, 72.94it/s]\n"
     ]
    },
    {
     "name": "stdout",
     "output_type": "stream",
     "text": [
      "----------------------------[Epoch269 finished!]----------------------------\n"
     ]
    },
    {
     "name": "stderr",
     "output_type": "stream",
     "text": [
      "Train 269 | Loss:1.55e+00 | Acc: 0.49| F1: 0.48|: 100%|██████████| 28/28 [00:00<00:00, 36.35it/s]\n",
      "Val   269 | Loss:1.90e+00 | Acc: 0.33| F1: 0.34|: 100%|██████████| 12/12 [00:00<00:00, 64.89it/s]\n"
     ]
    },
    {
     "name": "stdout",
     "output_type": "stream",
     "text": [
      "----------------------------[Epoch270 finished!]----------------------------\n"
     ]
    },
    {
     "name": "stderr",
     "output_type": "stream",
     "text": [
      "Train 270 | Loss:1.55e+00 | Acc: 0.49| F1: 0.48|: 100%|██████████| 28/28 [00:00<00:00, 63.11it/s]\n",
      "Val   270 | Loss:1.90e+00 | Acc: 0.33| F1: 0.34|: 100%|██████████| 12/12 [00:00<00:00, 89.97it/s]\n"
     ]
    },
    {
     "name": "stdout",
     "output_type": "stream",
     "text": [
      "----------------------------[Epoch271 finished!]----------------------------\n"
     ]
    },
    {
     "name": "stderr",
     "output_type": "stream",
     "text": [
      "Train 271 | Loss:1.55e+00 | Acc: 0.49| F1: 0.48|: 100%|██████████| 28/28 [00:00<00:00, 36.55it/s]\n",
      "Val   271 | Loss:1.90e+00 | Acc: 0.33| F1: 0.34|: 100%|██████████| 12/12 [00:00<00:00, 70.96it/s]\n"
     ]
    },
    {
     "name": "stdout",
     "output_type": "stream",
     "text": [
      "----------------------------[Epoch272 finished!]----------------------------\n"
     ]
    },
    {
     "name": "stderr",
     "output_type": "stream",
     "text": [
      "Train 272 | Loss:1.55e+00 | Acc: 0.49| F1: 0.48|: 100%|██████████| 28/28 [00:00<00:00, 38.99it/s]\n",
      "Val   272 | Loss:1.90e+00 | Acc: 0.33| F1: 0.34|: 100%|██████████| 12/12 [00:00<00:00, 67.57it/s]\n"
     ]
    },
    {
     "name": "stdout",
     "output_type": "stream",
     "text": [
      "----------------------------[Epoch273 finished!]----------------------------\n"
     ]
    },
    {
     "name": "stderr",
     "output_type": "stream",
     "text": [
      "Train 273 | Loss:1.55e+00 | Acc: 0.49| F1: 0.48|: 100%|██████████| 28/28 [00:00<00:00, 35.88it/s]\n",
      "Val   273 | Loss:1.90e+00 | Acc: 0.33| F1: 0.34|: 100%|██████████| 12/12 [00:00<00:00, 59.33it/s]\n"
     ]
    },
    {
     "name": "stdout",
     "output_type": "stream",
     "text": [
      "----------------------------[Epoch274 finished!]----------------------------\n"
     ]
    },
    {
     "name": "stderr",
     "output_type": "stream",
     "text": [
      "Train 274 | Loss:1.55e+00 | Acc: 0.49| F1: 0.48|: 100%|██████████| 28/28 [00:00<00:00, 33.51it/s]\n",
      "Val   274 | Loss:1.90e+00 | Acc: 0.33| F1: 0.34|: 100%|██████████| 12/12 [00:00<00:00, 115.23it/s]\n"
     ]
    },
    {
     "name": "stdout",
     "output_type": "stream",
     "text": [
      "----------------------------[Epoch275 finished!]----------------------------\n"
     ]
    },
    {
     "name": "stderr",
     "output_type": "stream",
     "text": [
      "Train 275 | Loss:1.55e+00 | Acc: 0.49| F1: 0.48|: 100%|██████████| 28/28 [00:00<00:00, 59.04it/s]\n",
      "Val   275 | Loss:1.90e+00 | Acc: 0.33| F1: 0.34|: 100%|██████████| 12/12 [00:00<00:00, 58.06it/s]\n"
     ]
    },
    {
     "name": "stdout",
     "output_type": "stream",
     "text": [
      "----------------------------[Epoch276 finished!]----------------------------\n"
     ]
    },
    {
     "name": "stderr",
     "output_type": "stream",
     "text": [
      "Train 276 | Loss:1.55e+00 | Acc: 0.49| F1: 0.48|: 100%|██████████| 28/28 [00:00<00:00, 30.10it/s]\n",
      "Val   276 | Loss:1.90e+00 | Acc: 0.33| F1: 0.34|: 100%|██████████| 12/12 [00:00<00:00, 46.36it/s]\n"
     ]
    },
    {
     "name": "stdout",
     "output_type": "stream",
     "text": [
      "----------------------------[Epoch277 finished!]----------------------------\n"
     ]
    },
    {
     "name": "stderr",
     "output_type": "stream",
     "text": [
      "Train 277 | Loss:1.55e+00 | Acc: 0.49| F1: 0.48|: 100%|██████████| 28/28 [00:00<00:00, 46.03it/s]\n",
      "Val   277 | Loss:1.90e+00 | Acc: 0.33| F1: 0.34|: 100%|██████████| 12/12 [00:00<00:00, 93.94it/s]\n"
     ]
    },
    {
     "name": "stdout",
     "output_type": "stream",
     "text": [
      "----------------------------[Epoch278 finished!]----------------------------\n"
     ]
    },
    {
     "name": "stderr",
     "output_type": "stream",
     "text": [
      "Train 278 | Loss:1.55e+00 | Acc: 0.49| F1: 0.48|: 100%|██████████| 28/28 [00:00<00:00, 42.69it/s]\n",
      "Val   278 | Loss:1.90e+00 | Acc: 0.33| F1: 0.34|: 100%|██████████| 12/12 [00:00<00:00, 96.78it/s]\n"
     ]
    },
    {
     "name": "stdout",
     "output_type": "stream",
     "text": [
      "----------------------------[Epoch279 finished!]----------------------------\n"
     ]
    },
    {
     "name": "stderr",
     "output_type": "stream",
     "text": [
      "Train 279 | Loss:1.55e+00 | Acc: 0.49| F1: 0.48|: 100%|██████████| 28/28 [00:00<00:00, 41.76it/s]\n",
      "Val   279 | Loss:1.90e+00 | Acc: 0.33| F1: 0.34|: 100%|██████████| 12/12 [00:00<00:00, 72.90it/s]\n"
     ]
    },
    {
     "name": "stdout",
     "output_type": "stream",
     "text": [
      "----------------------------[Epoch280 finished!]----------------------------\n"
     ]
    },
    {
     "name": "stderr",
     "output_type": "stream",
     "text": [
      "Train 280 | Loss:1.55e+00 | Acc: 0.49| F1: 0.48|: 100%|██████████| 28/28 [00:00<00:00, 38.87it/s]\n",
      "Val   280 | Loss:1.90e+00 | Acc: 0.33| F1: 0.34|: 100%|██████████| 12/12 [00:00<00:00, 91.08it/s]\n"
     ]
    },
    {
     "name": "stdout",
     "output_type": "stream",
     "text": [
      "----------------------------[Epoch281 finished!]----------------------------\n"
     ]
    },
    {
     "name": "stderr",
     "output_type": "stream",
     "text": [
      "Train 281 | Loss:1.55e+00 | Acc: 0.49| F1: 0.48|: 100%|██████████| 28/28 [00:00<00:00, 42.77it/s]\n",
      "Val   281 | Loss:1.90e+00 | Acc: 0.33| F1: 0.34|: 100%|██████████| 12/12 [00:00<00:00, 72.33it/s]\n"
     ]
    },
    {
     "name": "stdout",
     "output_type": "stream",
     "text": [
      "----------------------------[Epoch282 finished!]----------------------------\n"
     ]
    },
    {
     "name": "stderr",
     "output_type": "stream",
     "text": [
      "Train 282 | Loss:1.55e+00 | Acc: 0.49| F1: 0.48|: 100%|██████████| 28/28 [00:00<00:00, 54.97it/s]\n",
      "Val   282 | Loss:1.90e+00 | Acc: 0.33| F1: 0.34|: 100%|██████████| 12/12 [00:00<00:00, 113.12it/s]\n"
     ]
    },
    {
     "name": "stdout",
     "output_type": "stream",
     "text": [
      "----------------------------[Epoch283 finished!]----------------------------\n"
     ]
    },
    {
     "name": "stderr",
     "output_type": "stream",
     "text": [
      "Train 283 | Loss:1.55e+00 | Acc: 0.49| F1: 0.48|: 100%|██████████| 28/28 [00:00<00:00, 63.82it/s]\n",
      "Val   283 | Loss:1.90e+00 | Acc: 0.33| F1: 0.34|: 100%|██████████| 12/12 [00:00<00:00, 107.97it/s]\n"
     ]
    },
    {
     "name": "stdout",
     "output_type": "stream",
     "text": [
      "----------------------------[Epoch284 finished!]----------------------------\n"
     ]
    },
    {
     "name": "stderr",
     "output_type": "stream",
     "text": [
      "Train 284 | Loss:1.55e+00 | Acc: 0.49| F1: 0.48|: 100%|██████████| 28/28 [00:00<00:00, 54.16it/s]\n",
      "Val   284 | Loss:1.90e+00 | Acc: 0.33| F1: 0.34|: 100%|██████████| 12/12 [00:00<00:00, 63.12it/s]\n"
     ]
    },
    {
     "name": "stdout",
     "output_type": "stream",
     "text": [
      "----------------------------[Epoch285 finished!]----------------------------\n"
     ]
    },
    {
     "name": "stderr",
     "output_type": "stream",
     "text": [
      "Train 285 | Loss:1.55e+00 | Acc: 0.49| F1: 0.48|: 100%|██████████| 28/28 [00:00<00:00, 43.92it/s]\n",
      "Val   285 | Loss:1.90e+00 | Acc: 0.33| F1: 0.34|: 100%|██████████| 12/12 [00:00<00:00, 59.82it/s]\n"
     ]
    },
    {
     "name": "stdout",
     "output_type": "stream",
     "text": [
      "----------------------------[Epoch286 finished!]----------------------------\n"
     ]
    },
    {
     "name": "stderr",
     "output_type": "stream",
     "text": [
      "Train 286 | Loss:1.55e+00 | Acc: 0.49| F1: 0.48|: 100%|██████████| 28/28 [00:00<00:00, 29.07it/s]\n",
      "Val   286 | Loss:1.90e+00 | Acc: 0.33| F1: 0.34|: 100%|██████████| 12/12 [00:00<00:00, 61.48it/s]\n"
     ]
    },
    {
     "name": "stdout",
     "output_type": "stream",
     "text": [
      "----------------------------[Epoch287 finished!]----------------------------\n"
     ]
    },
    {
     "name": "stderr",
     "output_type": "stream",
     "text": [
      "Train 287 | Loss:1.55e+00 | Acc: 0.49| F1: 0.48|: 100%|██████████| 28/28 [00:00<00:00, 37.98it/s]\n",
      "Val   287 | Loss:1.90e+00 | Acc: 0.33| F1: 0.34|: 100%|██████████| 12/12 [00:00<00:00, 64.65it/s]\n"
     ]
    },
    {
     "name": "stdout",
     "output_type": "stream",
     "text": [
      "----------------------------[Epoch288 finished!]----------------------------\n"
     ]
    },
    {
     "name": "stderr",
     "output_type": "stream",
     "text": [
      "Train 288 | Loss:1.55e+00 | Acc: 0.49| F1: 0.48|: 100%|██████████| 28/28 [00:00<00:00, 39.55it/s]\n",
      "Val   288 | Loss:1.90e+00 | Acc: 0.33| F1: 0.34|: 100%|██████████| 12/12 [00:00<00:00, 69.52it/s]\n"
     ]
    },
    {
     "name": "stdout",
     "output_type": "stream",
     "text": [
      "----------------------------[Epoch289 finished!]----------------------------\n"
     ]
    },
    {
     "name": "stderr",
     "output_type": "stream",
     "text": [
      "Train 289 | Loss:1.55e+00 | Acc: 0.49| F1: 0.48|: 100%|██████████| 28/28 [00:00<00:00, 43.87it/s]\n",
      "Val   289 | Loss:1.90e+00 | Acc: 0.33| F1: 0.34|: 100%|██████████| 12/12 [00:00<00:00, 64.54it/s]\n"
     ]
    },
    {
     "name": "stdout",
     "output_type": "stream",
     "text": [
      "----------------------------[Epoch290 finished!]----------------------------\n"
     ]
    },
    {
     "name": "stderr",
     "output_type": "stream",
     "text": [
      "Train 290 | Loss:1.55e+00 | Acc: 0.49| F1: 0.48|: 100%|██████████| 28/28 [00:00<00:00, 50.00it/s]\n",
      "Val   290 | Loss:1.90e+00 | Acc: 0.33| F1: 0.34|: 100%|██████████| 12/12 [00:00<00:00, 101.97it/s]\n"
     ]
    },
    {
     "name": "stdout",
     "output_type": "stream",
     "text": [
      "----------------------------[Epoch291 finished!]----------------------------\n"
     ]
    },
    {
     "name": "stderr",
     "output_type": "stream",
     "text": [
      "Train 291 | Loss:1.55e+00 | Acc: 0.49| F1: 0.48|: 100%|██████████| 28/28 [00:00<00:00, 34.66it/s]\n",
      "Val   291 | Loss:1.90e+00 | Acc: 0.33| F1: 0.34|: 100%|██████████| 12/12 [00:00<00:00, 65.22it/s]\n"
     ]
    },
    {
     "name": "stdout",
     "output_type": "stream",
     "text": [
      "----------------------------[Epoch292 finished!]----------------------------\n"
     ]
    },
    {
     "name": "stderr",
     "output_type": "stream",
     "text": [
      "Train 292 | Loss:1.55e+00 | Acc: 0.49| F1: 0.48|: 100%|██████████| 28/28 [00:00<00:00, 35.64it/s]\n",
      "Val   292 | Loss:1.90e+00 | Acc: 0.33| F1: 0.34|: 100%|██████████| 12/12 [00:00<00:00, 61.01it/s]\n"
     ]
    },
    {
     "name": "stdout",
     "output_type": "stream",
     "text": [
      "----------------------------[Epoch293 finished!]----------------------------\n"
     ]
    },
    {
     "name": "stderr",
     "output_type": "stream",
     "text": [
      "Train 293 | Loss:1.55e+00 | Acc: 0.49| F1: 0.48|: 100%|██████████| 28/28 [00:00<00:00, 37.35it/s]\n",
      "Val   293 | Loss:1.90e+00 | Acc: 0.33| F1: 0.34|: 100%|██████████| 12/12 [00:00<00:00, 71.73it/s]\n"
     ]
    },
    {
     "name": "stdout",
     "output_type": "stream",
     "text": [
      "----------------------------[Epoch294 finished!]----------------------------\n"
     ]
    },
    {
     "name": "stderr",
     "output_type": "stream",
     "text": [
      "Train 294 | Loss:1.55e+00 | Acc: 0.49| F1: 0.48|: 100%|██████████| 28/28 [00:00<00:00, 40.00it/s]\n",
      "Val   294 | Loss:1.90e+00 | Acc: 0.33| F1: 0.34|: 100%|██████████| 12/12 [00:00<00:00, 71.14it/s]\n"
     ]
    },
    {
     "name": "stdout",
     "output_type": "stream",
     "text": [
      "----------------------------[Epoch295 finished!]----------------------------\n"
     ]
    },
    {
     "name": "stderr",
     "output_type": "stream",
     "text": [
      "Train 295 | Loss:1.55e+00 | Acc: 0.49| F1: 0.48|: 100%|██████████| 28/28 [00:00<00:00, 40.55it/s]\n",
      "Val   295 | Loss:1.90e+00 | Acc: 0.33| F1: 0.34|: 100%|██████████| 12/12 [00:00<00:00, 70.48it/s]\n"
     ]
    },
    {
     "name": "stdout",
     "output_type": "stream",
     "text": [
      "----------------------------[Epoch296 finished!]----------------------------\n"
     ]
    },
    {
     "name": "stderr",
     "output_type": "stream",
     "text": [
      "Train 296 | Loss:1.55e+00 | Acc: 0.49| F1: 0.48|: 100%|██████████| 28/28 [00:00<00:00, 40.13it/s]\n",
      "Val   296 | Loss:1.90e+00 | Acc: 0.33| F1: 0.34|: 100%|██████████| 12/12 [00:00<00:00, 63.53it/s]\n"
     ]
    },
    {
     "name": "stdout",
     "output_type": "stream",
     "text": [
      "----------------------------[Epoch297 finished!]----------------------------\n"
     ]
    },
    {
     "name": "stderr",
     "output_type": "stream",
     "text": [
      "Train 297 | Loss:1.55e+00 | Acc: 0.49| F1: 0.48|: 100%|██████████| 28/28 [00:00<00:00, 36.95it/s]\n",
      "Val   297 | Loss:1.90e+00 | Acc: 0.33| F1: 0.34|: 100%|██████████| 12/12 [00:00<00:00, 65.48it/s]\n"
     ]
    },
    {
     "name": "stdout",
     "output_type": "stream",
     "text": [
      "----------------------------[Epoch298 finished!]----------------------------\n"
     ]
    },
    {
     "name": "stderr",
     "output_type": "stream",
     "text": [
      "Train 298 | Loss:1.55e+00 | Acc: 0.49| F1: 0.48|: 100%|██████████| 28/28 [00:00<00:00, 39.87it/s]\n",
      "Val   298 | Loss:1.90e+00 | Acc: 0.33| F1: 0.34|: 100%|██████████| 12/12 [00:00<00:00, 75.45it/s]\n"
     ]
    },
    {
     "name": "stdout",
     "output_type": "stream",
     "text": [
      "----------------------------[Epoch299 finished!]----------------------------\n"
     ]
    },
    {
     "name": "stderr",
     "output_type": "stream",
     "text": [
      "Train 299 | Loss:1.55e+00 | Acc: 0.49| F1: 0.48|: 100%|██████████| 28/28 [00:00<00:00, 39.78it/s]\n",
      "Val   299 | Loss:1.90e+00 | Acc: 0.33| F1: 0.34|: 100%|██████████| 12/12 [00:00<00:00, 62.97it/s]"
     ]
    },
    {
     "name": "stdout",
     "output_type": "stream",
     "text": [
      "----------------------------[Epoch300 finished!]----------------------------\n"
     ]
    },
    {
     "name": "stderr",
     "output_type": "stream",
     "text": [
      "\n"
     ]
    }
   ],
   "source": [
    "#########################################\n",
    "##      Train and Validation loop      ##\n",
    "#########################################\n",
    "train_losses, val_losses = [], []\n",
    "train_accs, val_accs = [], []\n",
    "train_f1, val_f1 = [], []\n",
    "best_model = None\n",
    "best_f1 = 0\n",
    "\n",
    "for epoch in range(n_epochs):\n",
    "    \n",
    "    # Train Phase\n",
    "    total_loss = 0\n",
    "    N = 0\n",
    "    confusion = np.zeros((10, 10))\n",
    "    with tqdm.tqdm(enumerate(train_sampler), total=len(train_sampler)) as pbar:\n",
    "        for i, (x, y) in pbar:\n",
    "            #################################\n",
    "            ##          Your Code          ##\n",
    "            #################################\n",
    "            mf = model._forward(x)\n",
    "            total_loss+=x.shape[0]*criterion._forward(mf, y )\n",
    "            criterion.backward(1)\n",
    "            model.backward(criterion.grads[\"x\"])\n",
    "            ####model updated and we find the acc and f1\n",
    "            update_confusion_matrix(confusion , np.argmax(mf,axis=1) , y)\n",
    "            acc = sum(confusion.diagonal())/np.sum(confusion)\n",
    "            f1 = f1_score(confusion)\n",
    "            N+=x.shape[0]\n",
    "            optimizer.step()\n",
    "            pbar.set_description(f'Train {epoch} | Loss:{total_loss/N:.2e} | Acc: {acc:.2f}| F1: {f1:.2f}|')\n",
    "    \n",
    "    # save epoch metrics for train phase\n",
    "    train_losses.append(total_loss/N)\n",
    "    train_accs.append(acc)\n",
    "    train_f1.append(f1)\n",
    "    \n",
    "\n",
    "    # Validation Phase\n",
    "    total_loss = 0\n",
    "    N = 0\n",
    "    confusion = np.zeros((10, 10))\n",
    "    with tqdm.tqdm(enumerate(val_sampler), total=len(val_sampler)) as pbar:\n",
    "        for i, (x, y) in pbar:\n",
    "            #################################\n",
    "            ##          Your Code          ##\n",
    "            #################################\n",
    "            model_forward = model._forward(x)\n",
    "            total_loss+=x.shape[0]*criterion._forward(model_forward, y)\n",
    "            update_confusion_matrix(confusion , np.argmax(model_forward,axis=1) , y)\n",
    "            f1 = f1_score(confusion)\n",
    "            acc = sum(confusion.diagonal()) / np.sum(confusion)\n",
    "            N+=x.shape[0]\n",
    "            pbar.set_description(f'Val   {epoch} | Loss:{total_loss/N:.2e} | Acc: {acc:.2f}| F1: {f1:.2f}|')\n",
    "    \n",
    "    # save epoch metrics for validation phase\n",
    "    val_losses.append(total_loss/N)\n",
    "    val_accs.append(acc)\n",
    "    val_f1.append(f1)\n",
    "    \n",
    "    \n",
    "    if best_f1 < f1 :\n",
    "        best_model =copy.deepcopy(model)\n",
    "        best_f1=f1\n",
    "\n",
    "    \n",
    "    print(f'----------------------------[Epoch{epoch+1} finished!]----------------------------')"
   ]
  },
  {
   "cell_type": "markdown",
   "metadata": {},
   "source": [
    "### Test Model"
   ]
  },
  {
   "cell_type": "code",
   "execution_count": 316,
   "metadata": {},
   "outputs": [
    {
     "data": {
      "image/png": "[encoded data removed]",
      "text/plain": [
       "<Figure size 432x288 with 1 Axes>"
      ]
     },
     "metadata": {},
     "output_type": "display_data"
    },
    {
     "data": {
      "image/png": "[encoded data removed]",
      "text/plain": [
       "<Figure size 432x288 with 1 Axes>"
      ]
     },
     "metadata": {},
     "output_type": "display_data"
    },
    {
     "data": {
      "image/png": "[encoded data removed]",
      "text/plain": [
       "<Figure size 432x288 with 1 Axes>"
      ]
     },
     "metadata": {},
     "output_type": "display_data"
    },
    {
     "data": {
      "image/png": "[encoded data removed]",
      "text/plain": [
       "<Figure size 432x288 with 1 Axes>"
      ]
     },
     "metadata": {},
     "output_type": "display_data"
    },
    {
     "data": {
      "image/png": "[encoded data removed]",
      "text/plain": [
       "<Figure size 432x288 with 1 Axes>"
      ]
     },
     "metadata": {},
     "output_type": "display_data"
    },
    {
     "data": {
      "image/png": "[encoded data removed]",
      "text/plain": [
       "<Figure size 432x288 with 1 Axes>"
      ]
     },
     "metadata": {},
     "output_type": "display_data"
    }
   ],
   "source": [
    "######################################################################\n",
    "##      Plot train and validation loss, accuracy and f1 graphs      ##\n",
    "######################################################################\n",
    "import seaborn as sns\n",
    "\n",
    "ax = sns.lineplot(x=list(range(n_epochs)), y=list( val_f1))\n",
    "plt.xlabel(\"epochs number\")\n",
    "plt.ylabel(\"f1 validation\")\n",
    "plt.show()\n",
    "\n",
    "\n",
    "ax = sns.lineplot(x=list(range(n_epochs)), y=list( train_f1))\n",
    "plt.xlabel(\"epochs number\")\n",
    "plt.ylabel(\"f1 train\")\n",
    "plt.show()\n",
    "ax = sns.lineplot(x=list(range(n_epochs)), y=list(val_losses))\n",
    "plt.xlabel(\"epochs number\")\n",
    "plt.ylabel(\"Validation loss\")\n",
    "plt.show()\n",
    "\n",
    "ax = sns.lineplot(x=list(range(n_epochs)), y=list(train_losses))\n",
    "plt.xlabel(\"epochs number\")\n",
    "plt.ylabel(\"train loss\")\n",
    "plt.show()\n",
    "ax = sns.lineplot(x=list(range(n_epochs)), y=list(val_accs))\n",
    "plt.xlabel(\"epochs number\")\n",
    "plt.ylabel(\"Validation accuracy\")\n",
    "plt.show()\n",
    "\n",
    "ax = sns.lineplot(x=list(range(n_epochs)), y=list(train_accs))\n",
    "plt.xlabel(\"epochs number\")\n",
    "plt.ylabel(\"train accuracy\")\n",
    "plt.show()\n",
    "\n"
   ]
  },
  {
   "cell_type": "code",
   "execution_count": 317,
   "metadata": {},
   "outputs": [
    {
     "name": "stderr",
     "output_type": "stream",
     "text": [
      "Test  | Loss:1.87e+00 | Acc: 0.36| F1: 0.36|: 100%|██████████| 10/10 [00:00<00:00, 67.96it/s]\n"
     ]
    }
   ],
   "source": [
    "############################################################\n",
    "##                  Test your best model                  ##\n",
    "##          Report loss, accuracy and f1 metrics          ##\n",
    "##      Also plot the confusion matrix for test data      ##\n",
    "############################################################\n",
    "\n",
    "total_loss = 0\n",
    "N = 0\n",
    "confusion = np.zeros((10, 10))\n",
    "with tqdm.tqdm(enumerate(test_sampler), total=len(test_sampler)) as pbar:\n",
    "    for i, (x, y) in pbar:\n",
    "        #################################\n",
    "        ##          Your Code          ##\n",
    "        #################################\n",
    "        mf = best_model._forward(x)\n",
    "        total_loss+=x.shape[0]*criterion._forward(mf, y )\n",
    "        update_confusion_matrix(confusion , np.argmax(mf,axis=1) , y)\n",
    "        acc = sum(confusion.diagonal())/np.sum(confusion)\n",
    "        f1 = f1_score(confusion)\n",
    "        N+=x.shape[0]\n",
    "        pbar.set_description(f'Test  | Loss:{total_loss/N:.2e} | Acc: {acc:.2f}| F1: {f1:.2f}|')"
   ]
  },
  {
   "cell_type": "markdown",
   "metadata": {},
   "source": [
    "## Weights Visualization (5 Points)\n",
    "\n",
    "For the last part we want to visualize weights matrix of the first layer."
   ]
  },
  {
   "cell_type": "code",
   "execution_count": 318,
   "metadata": {},
   "outputs": [],
   "source": [
    "##########################################################\n",
    "##          Visualize n of first layer weights          ##\n",
    "##          First reshape them to (32, 32, 3)           ##\n",
    "##########################################################\n",
    "n = 5\n",
    "\n"
   ]
  }
 ],
 "metadata": {
  "colab": {
   "provenance": []
  },
  "kernelspec": {
   "display_name": "Python 3",
   "language": "python",
   "name": "python3"
  },
  "language_info": {
   "codemirror_mode": {
    "name": "ipython",
    "version": 3
   },
   "file_extension": ".py",
   "mimetype": "text/x-python",
   "name": "python",
   "nbconvert_exporter": "python",
   "pygments_lexer": "ipython3",
   "version": "3.9.6"
  },
  "vscode": {
   "interpreter": {
    "hash": "cd71d8804df019cb7c8b63ddffe37c48070332a683f0dcab4e5ac7b4de05306a"
   }
  }
 },
 "nbformat": 4,
 "nbformat_minor": 1
}
